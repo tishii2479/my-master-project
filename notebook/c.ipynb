{
 "cells": [
  {
   "cell_type": "code",
   "execution_count": 14,
   "metadata": {},
   "outputs": [],
   "source": [
    "import sys\n",
    "\n",
    "sys.path.append(\"..\")"
   ]
  },
  {
   "cell_type": "code",
   "execution_count": 144,
   "metadata": {},
   "outputs": [],
   "source": [
    "import random\n",
    "from typing import Optional\n",
    "\n",
    "import pandas as pd\n",
    "import numpy as np\n",
    "import torch\n",
    "from tqdm import tqdm\n",
    "from sklearn.preprocessing import LabelEncoder\n",
    "from sklearn.metrics import roc_curve, roc_auc_score\n",
    "import matplotlib.pyplot as plt\n",
    "\n",
    "tqdm.pandas()"
   ]
  },
  {
   "cell_type": "code",
   "execution_count": 16,
   "metadata": {},
   "outputs": [],
   "source": [
    "class Dataset(torch.utils.data.Dataset):\n",
    "    \"\"\"\n",
    "    self.features = [(user_id, [context_item_id])]\n",
    "    self.target_item = [target_item_id]\n",
    "    self.clv = [clv_value]\n",
    "    \"\"\"\n",
    "\n",
    "    def __init__(\n",
    "        self,\n",
    "        sequences: dict[int, list[int]],\n",
    "        clv_dict: dict[int, float],\n",
    "        target_items: dict[int, list[int]],\n",
    "        context_length: int = 10,\n",
    "    ):\n",
    "        \"\"\"\n",
    "        Args:\n",
    "            sequences (dict[int, list[int]]):\n",
    "                ユーザごとの購買商品系列\n",
    "                [user_id : user_items]\n",
    "            clv_dict (dict[int, float]):\n",
    "                ユーザのCLV\n",
    "                [user_id : clv_value]\n",
    "            context_length (int, optional):\n",
    "                予測時に参照する直前のアイテムの個数\n",
    "        \"\"\"\n",
    "        self.features = []\n",
    "        self.target_items = []\n",
    "        self.clv = []\n",
    "\n",
    "        for user_idx, sequence in tqdm(sequences.items()):\n",
    "            self.features.append((user_idx, sequence))\n",
    "            self.target_items.append(target_items[user_idx] if user_idx in target_items else [])\n",
    "            self.clv.append(clv_dict[user_idx] if user_idx in clv_dict else 0)\n",
    "\n",
    "    def __len__(self):\n",
    "        return len(self.features)\n",
    "\n",
    "    def __getitem__(self, idx: int) -> tuple[tuple[int, list[int]], list[int], float]:\n",
    "        return self.features[idx], self.target_items[idx], self.clv[idx]"
   ]
  },
  {
   "cell_type": "code",
   "execution_count": 17,
   "metadata": {},
   "outputs": [],
   "source": [
    "def create_user_features(feature_df: pd.DataFrame, split_date: pd.Timestamp):\n",
    "    # 最新購買日\n",
    "    recency = split_date - feature_df.groupby(\"user_id\").timestamp.max()\n",
    "    recency = (recency.dt.days / 365).rename(\"recency\")\n",
    "    recency[recency >= 1] = 1\n",
    "\n",
    "    # 総購買数\n",
    "    frequency = feature_df.user_id.value_counts().sort_index().rename(\"frequency\")\n",
    "    frequency /= 500\n",
    "    frequency[frequency >= 1] = 1\n",
    "\n",
    "    # 利用期間\n",
    "    tenure = (\n",
    "        feature_df.groupby(\"user_id\").timestamp.max()\n",
    "        - feature_df.groupby(\"user_id\").timestamp.min()\n",
    "    )\n",
    "    tenure = (tenure.dt.days / 365).rename(\"tenure\")\n",
    "    tenure[tenure >= 1] = 1\n",
    "\n",
    "    user_features = pd.merge(recency, tenure, on=\"user_id\", how=\"left\")\n",
    "    user_features = pd.merge(user_features, frequency, on=\"user_id\", how=\"left\")\n",
    "    return user_features\n",
    "\n",
    "\n",
    "def create_targets(target_df: pd.DataFrame):\n",
    "    # CLV\n",
    "    clv_dict = target_df.user_id.value_counts().sort_index().to_dict()\n",
    "\n",
    "    # CV商品\n",
    "    target_items = target_df.groupby(\"user_id\").item_id.agg(list).to_dict()\n",
    "    return clv_dict, target_items"
   ]
  },
  {
   "cell_type": "code",
   "execution_count": 18,
   "metadata": {},
   "outputs": [],
   "source": [
    "def encode_user_item_id(\n",
    "    interaction_df: pd.DataFrame,\n",
    ") -> tuple[pd.DataFrame, LabelEncoder, LabelEncoder]:\n",
    "    user_le = LabelEncoder().fit(interaction_df.user_id)\n",
    "    item_le = LabelEncoder().fit(interaction_df.item_id)\n",
    "\n",
    "    interaction_df.user_id = user_le.transform(interaction_df.user_id)\n",
    "    interaction_df.item_id = item_le.transform(interaction_df.item_id)\n",
    "\n",
    "    return interaction_df, user_le, item_le\n",
    "\n",
    "def create_dataset(\n",
    "    interaction_df: pd.DataFrame,\n",
    "    split_date: pd.Timestamp | str,\n",
    "    context_length: int = 10,\n",
    ") -> tuple[Dataset, torch.Tensor, torch.Tensor]:\n",
    "    feature_df = (\n",
    "        interaction_df[interaction_df.timestamp < split_date]\n",
    "        .sort_values(\"timestamp\")\n",
    "        .reset_index(drop=True)\n",
    "    )\n",
    "    target_df = (\n",
    "        interaction_df[interaction_df.timestamp >= split_date]\n",
    "        .sort_values(\"timestamp\")\n",
    "        .reset_index(drop=True)\n",
    "    )\n",
    "\n",
    "    sequences = feature_df.groupby(\"user_id\").item_id.agg(list).to_dict()\n",
    "    user_features = create_user_features(feature_df=feature_df, split_date=split_date)\n",
    "    user_embedding_weight = torch.from_numpy(user_features.values.astype(np.float32))\n",
    "\n",
    "    clv_dict, target_items = create_targets(target_df=target_df)\n",
    "\n",
    "    dataset = Dataset(\n",
    "        sequences=sequences,\n",
    "        clv_dict=clv_dict,\n",
    "        target_items=target_items,\n",
    "        context_length=context_length,\n",
    "    )\n",
    "    return dataset, user_embedding_weight"
   ]
  },
  {
   "cell_type": "code",
   "execution_count": 92,
   "metadata": {},
   "outputs": [],
   "source": [
    "class Model(torch.nn.Module):\n",
    "    def __init__(\n",
    "        self,\n",
    "        user_embedding_weight: torch.Tensor,\n",
    "        item_size: int,\n",
    "        num_layers: int = 4,\n",
    "        d_model: int = 64,\n",
    "        dim_feedforward: int = 128,\n",
    "        nhead: int = 4,\n",
    "    ):\n",
    "        super().__init__()\n",
    "        user_size, user_feature_dim = user_embedding_weight.shape\n",
    "\n",
    "        self.user_feature = torch.nn.Embedding(user_size, user_feature_dim)\n",
    "        self.user_feature.weight = torch.nn.Parameter(user_embedding_weight)\n",
    "        self.user_feature.weight.require_grad = False\n",
    "\n",
    "        self.user_embedding = torch.nn.Linear(user_feature_dim, d_model)\n",
    "\n",
    "        self.item_embedding = torch.nn.Embedding(item_size, d_model)\n",
    "        self.item_embedding.weight.require_grad = False\n",
    "\n",
    "        self.transformer_layer = torch.nn.TransformerEncoder(\n",
    "            encoder_layer=torch.nn.TransformerEncoderLayer(\n",
    "                d_model=d_model,\n",
    "                nhead=nhead,\n",
    "                dim_feedforward=dim_feedforward,\n",
    "                batch_first=True,\n",
    "            ),\n",
    "            num_layers=num_layers,\n",
    "        )\n",
    "        self.projection_clv = torch.nn.Linear(d_model, 1)\n",
    "        self.projection_target = torch.nn.Linear(d_model, 1)\n",
    "\n",
    "    def forward(self, user_id: torch.Tensor, item_indices: torch.Tensor):\n",
    "        f_u = self.user_feature.forward(user_id)\n",
    "        e_u = self.user_embedding.forward(f_u)\n",
    "        H_v = self.item_embedding.forward(item_indices)\n",
    "        H = torch.cat((e_u.unsqueeze(1), H_v), dim=1)\n",
    "        H = self.transformer_layer.forward(H)\n",
    "\n",
    "        y_clv = torch.sigmoid(self.projection_clv.forward(H[:, 0]))\n",
    "        y_target = torch.sigmoid(self.projection_target.forward(H[:, -1]))\n",
    "\n",
    "        return y_clv.squeeze(), y_target.squeeze()"
   ]
  },
  {
   "cell_type": "code",
   "execution_count": 20,
   "metadata": {},
   "outputs": [
    {
     "data": {
      "text/html": [
       "<div>\n",
       "<style scoped>\n",
       "    .dataframe tbody tr th:only-of-type {\n",
       "        vertical-align: middle;\n",
       "    }\n",
       "\n",
       "    .dataframe tbody tr th {\n",
       "        vertical-align: top;\n",
       "    }\n",
       "\n",
       "    .dataframe thead th {\n",
       "        text-align: right;\n",
       "    }\n",
       "</style>\n",
       "<table border=\"1\" class=\"dataframe\">\n",
       "  <thead>\n",
       "    <tr style=\"text-align: right;\">\n",
       "      <th></th>\n",
       "      <th>user_id</th>\n",
       "      <th>item_id</th>\n",
       "      <th>rating</th>\n",
       "      <th>timestamp</th>\n",
       "    </tr>\n",
       "  </thead>\n",
       "  <tbody>\n",
       "    <tr>\n",
       "      <th>0</th>\n",
       "      <td>1</td>\n",
       "      <td>296</td>\n",
       "      <td>5.0</td>\n",
       "      <td>2006-05-17 15:34:04</td>\n",
       "    </tr>\n",
       "    <tr>\n",
       "      <th>1</th>\n",
       "      <td>1</td>\n",
       "      <td>306</td>\n",
       "      <td>3.5</td>\n",
       "      <td>2006-05-17 12:26:57</td>\n",
       "    </tr>\n",
       "    <tr>\n",
       "      <th>2</th>\n",
       "      <td>1</td>\n",
       "      <td>307</td>\n",
       "      <td>5.0</td>\n",
       "      <td>2006-05-17 12:27:08</td>\n",
       "    </tr>\n",
       "    <tr>\n",
       "      <th>3</th>\n",
       "      <td>1</td>\n",
       "      <td>665</td>\n",
       "      <td>5.0</td>\n",
       "      <td>2006-05-17 15:13:40</td>\n",
       "    </tr>\n",
       "    <tr>\n",
       "      <th>4</th>\n",
       "      <td>1</td>\n",
       "      <td>899</td>\n",
       "      <td>3.5</td>\n",
       "      <td>2006-05-17 12:21:50</td>\n",
       "    </tr>\n",
       "    <tr>\n",
       "      <th>...</th>\n",
       "      <td>...</td>\n",
       "      <td>...</td>\n",
       "      <td>...</td>\n",
       "      <td>...</td>\n",
       "    </tr>\n",
       "    <tr>\n",
       "      <th>25000090</th>\n",
       "      <td>162541</td>\n",
       "      <td>50872</td>\n",
       "      <td>4.5</td>\n",
       "      <td>2009-04-28 21:16:12</td>\n",
       "    </tr>\n",
       "    <tr>\n",
       "      <th>25000091</th>\n",
       "      <td>162541</td>\n",
       "      <td>55768</td>\n",
       "      <td>2.5</td>\n",
       "      <td>2009-04-28 20:53:18</td>\n",
       "    </tr>\n",
       "    <tr>\n",
       "      <th>25000092</th>\n",
       "      <td>162541</td>\n",
       "      <td>56176</td>\n",
       "      <td>2.0</td>\n",
       "      <td>2009-04-28 20:31:37</td>\n",
       "    </tr>\n",
       "    <tr>\n",
       "      <th>25000093</th>\n",
       "      <td>162541</td>\n",
       "      <td>58559</td>\n",
       "      <td>4.0</td>\n",
       "      <td>2009-04-28 21:17:14</td>\n",
       "    </tr>\n",
       "    <tr>\n",
       "      <th>25000094</th>\n",
       "      <td>162541</td>\n",
       "      <td>63876</td>\n",
       "      <td>5.0</td>\n",
       "      <td>2009-04-28 21:01:55</td>\n",
       "    </tr>\n",
       "  </tbody>\n",
       "</table>\n",
       "<p>25000095 rows × 4 columns</p>\n",
       "</div>"
      ],
      "text/plain": [
       "          user_id  item_id  rating           timestamp\n",
       "0               1      296     5.0 2006-05-17 15:34:04\n",
       "1               1      306     3.5 2006-05-17 12:26:57\n",
       "2               1      307     5.0 2006-05-17 12:27:08\n",
       "3               1      665     5.0 2006-05-17 15:13:40\n",
       "4               1      899     3.5 2006-05-17 12:21:50\n",
       "...           ...      ...     ...                 ...\n",
       "25000090   162541    50872     4.5 2009-04-28 21:16:12\n",
       "25000091   162541    55768     2.5 2009-04-28 20:53:18\n",
       "25000092   162541    56176     2.0 2009-04-28 20:31:37\n",
       "25000093   162541    58559     4.0 2009-04-28 21:17:14\n",
       "25000094   162541    63876     5.0 2009-04-28 21:01:55\n",
       "\n",
       "[25000095 rows x 4 columns]"
      ]
     },
     "execution_count": 20,
     "metadata": {},
     "output_type": "execute_result"
    }
   ],
   "source": [
    "interaction_df = pd.read_csv(\"../data/ml-25m/ratings.csv\").rename(\n",
    "    columns={\"userId\": \"user_id\", \"movieId\": \"item_id\"}\n",
    ")\n",
    "interaction_df.timestamp = pd.to_datetime(interaction_df.timestamp, unit=\"s\")\n",
    "interaction_df"
   ]
  },
  {
   "cell_type": "code",
   "execution_count": 21,
   "metadata": {},
   "outputs": [],
   "source": [
    "last_review_date = pd.to_datetime(\"2015/01/01\")\n",
    "train_split_date = pd.to_datetime(\"2017/01/01\")\n",
    "test_split_date = pd.to_datetime(\"2018/01/01\")\n",
    "\n",
    "first_review = interaction_df.groupby(\"user_id\").timestamp.min()\n",
    "last_review = interaction_df.groupby(\"user_id\").timestamp.max()\n",
    "target_users = set(last_review[(first_review < train_split_date)].index) & set(\n",
    "    last_review[(last_review_date <= last_review)].index\n",
    ")\n",
    "\n",
    "train_interaction_df = interaction_df[interaction_df.user_id.isin(target_users)].reset_index(drop=True)"
   ]
  },
  {
   "cell_type": "code",
   "execution_count": 113,
   "metadata": {},
   "outputs": [
    {
     "name": "stderr",
     "output_type": "stream",
     "text": [
      "100%|██████████| 25093/25093 [00:00<00:00, 141218.59it/s]\n"
     ]
    }
   ],
   "source": [
    "context_length = 10\n",
    "d_model = 32\n",
    "batch_size = 64\n",
    "nhead = 4\n",
    "epochs = 5\n",
    "lr = 1e-3\n",
    "sample_size = 5\n",
    "\n",
    "train_interaction_df, user_le, item_le = encode_user_item_id(\n",
    "    interaction_df=train_interaction_df\n",
    ")\n",
    "\n",
    "# FIXME: 2018年以降の予測対象に含んでいる\n",
    "train_dataset, train_user_embedding_weight = create_dataset(\n",
    "    interaction_df=train_interaction_df,\n",
    "    split_date=train_split_date,\n",
    "    context_length=context_length,\n",
    ")\n",
    "\n",
    "train_dataloader = torch.utils.data.DataLoader(\n",
    "    dataset=train_dataset, batch_size=batch_size, shuffle=True, collate_fn=lambda x: x\n",
    ")"
   ]
  },
  {
   "cell_type": "code",
   "execution_count": 114,
   "metadata": {},
   "outputs": [
    {
     "data": {
      "text/plain": [
       "'mps'"
      ]
     },
     "execution_count": 114,
     "metadata": {},
     "output_type": "execute_result"
    }
   ],
   "source": [
    "device = \"mps\" if torch.backends.mps.is_available() else \"cpu\"\n",
    "device"
   ]
  },
  {
   "cell_type": "code",
   "execution_count": 115,
   "metadata": {},
   "outputs": [
    {
     "name": "stderr",
     "output_type": "stream",
     "text": [
      "100%|██████████| 393/393 [01:01<00:00,  6.38it/s]\n"
     ]
    },
    {
     "name": "stdout",
     "output_type": "stream",
     "text": [
      "[1/5] loss: 0.001072\n"
     ]
    },
    {
     "name": "stderr",
     "output_type": "stream",
     "text": [
      "100%|██████████| 393/393 [00:27<00:00, 14.25it/s]\n"
     ]
    },
    {
     "name": "stdout",
     "output_type": "stream",
     "text": [
      "[2/5] loss: 0.000948\n"
     ]
    },
    {
     "name": "stderr",
     "output_type": "stream",
     "text": [
      "100%|██████████| 393/393 [00:25<00:00, 15.14it/s]\n"
     ]
    },
    {
     "name": "stdout",
     "output_type": "stream",
     "text": [
      "[3/5] loss: 0.000800\n"
     ]
    },
    {
     "name": "stderr",
     "output_type": "stream",
     "text": [
      "100%|██████████| 393/393 [00:28<00:00, 13.63it/s]\n"
     ]
    },
    {
     "name": "stdout",
     "output_type": "stream",
     "text": [
      "[4/5] loss: 0.000670\n"
     ]
    },
    {
     "name": "stderr",
     "output_type": "stream",
     "text": [
      "100%|██████████| 393/393 [00:24<00:00, 16.03it/s]"
     ]
    },
    {
     "name": "stdout",
     "output_type": "stream",
     "text": [
      "[5/5] loss: 0.000626\n"
     ]
    },
    {
     "name": "stderr",
     "output_type": "stream",
     "text": [
      "\n"
     ]
    }
   ],
   "source": [
    "model = Model(\n",
    "    user_embedding_weight=train_user_embedding_weight,\n",
    "    item_size=len(item_le.classes_),\n",
    "    d_model=d_model,\n",
    "    nhead=nhead,\n",
    ")\n",
    "model.to(device)\n",
    "model.train()\n",
    "\n",
    "optimizer = torch.optim.Adam(model.parameters(), lr=lr)\n",
    "\n",
    "for epoch in range(epochs):\n",
    "    loss_sum = 0\n",
    "    for batch in tqdm(train_dataloader):\n",
    "        user_ids = []\n",
    "        item_indices = []\n",
    "        labels = []\n",
    "        for (user_id, user_context_items), target_items, clv in batch:\n",
    "            context_items = []\n",
    "            for _ in range(9):\n",
    "                context_items.append(\n",
    "                    user_context_items[random.randrange(len(user_context_items))]\n",
    "                )\n",
    "\n",
    "            # 正例\n",
    "            for _ in range(min(sample_size, len(target_items))):\n",
    "                v = list(context_items)\n",
    "                v.append(target_items[random.randrange(0, len(target_items))])\n",
    "                user_ids.append(user_id)\n",
    "                item_indices.append(v)\n",
    "                labels.append(1)\n",
    "\n",
    "            # 負例\n",
    "            for _ in range(sample_size):\n",
    "                v = list(context_items)\n",
    "                v.append(random.randrange(len(item_le.classes_)))\n",
    "                user_ids.append(user_id)\n",
    "                item_indices.append(v)\n",
    "                labels.append(0)\n",
    "\n",
    "        user_ids = torch.LongTensor(user_ids).to(device)\n",
    "        item_indices = torch.LongTensor(item_indices).to(device)\n",
    "        labels = torch.FloatTensor(labels).to(device)\n",
    "        y_clv, y_target = model.forward(user_ids, item_indices)\n",
    "\n",
    "        loss = torch.nn.functional.binary_cross_entropy(y_target, labels)\n",
    "        optimizer.zero_grad()\n",
    "        loss.backward()\n",
    "        optimizer.step()\n",
    "        loss_sum += loss.item() / labels.size(0)\n",
    "\n",
    "    loss_sum /= len(train_dataloader)\n",
    "    print(f\"[{epoch + 1}/{epochs}] loss: {loss_sum:>7f}\")"
   ]
  },
  {
   "cell_type": "code",
   "execution_count": 138,
   "metadata": {},
   "outputs": [
    {
     "name": "stderr",
     "output_type": "stream",
     "text": [
      "100%|██████████| 393/393 [00:08<00:00, 46.08it/s]\n"
     ]
    }
   ],
   "source": [
    "model.eval()\n",
    "\n",
    "y_pred = []\n",
    "y_true = []\n",
    "\n",
    "for batch in tqdm(train_dataloader):\n",
    "    user_ids = []\n",
    "    item_indices = []\n",
    "    labels = []\n",
    "    for (user_id, user_context_items), target_items, clv in batch:\n",
    "        context_items = []\n",
    "        for _ in range(9):\n",
    "            context_items.append(\n",
    "                user_context_items[random.randrange(len(user_context_items))]\n",
    "            )\n",
    "\n",
    "        # 正例\n",
    "        for _ in range(min(sample_size, len(target_items))):\n",
    "            v = list(context_items)\n",
    "            v.append(target_items[random.randrange(0, len(target_items))])\n",
    "            user_ids.append(user_id)\n",
    "            item_indices.append(v)\n",
    "            labels.append(1)\n",
    "\n",
    "        # 負例\n",
    "        for _ in range(sample_size):\n",
    "            v = list(context_items)\n",
    "            v.append(random.randrange(len(item_le.classes_)))\n",
    "            user_ids.append(user_id)\n",
    "            item_indices.append(v)\n",
    "            labels.append(0)\n",
    "\n",
    "    user_ids = torch.LongTensor(user_ids).to(device)\n",
    "    item_indices = torch.LongTensor(item_indices).to(device)\n",
    "    labels = torch.FloatTensor(labels).to(device)\n",
    "    y_clv, y_target = model.forward(user_ids, item_indices)\n",
    "\n",
    "    y_pred.extend(y_target.tolist())\n",
    "    y_true.extend(labels.tolist())"
   ]
  },
  {
   "cell_type": "code",
   "execution_count": 148,
   "metadata": {},
   "outputs": [
    {
     "name": "stdout",
     "output_type": "stream",
     "text": [
      "ROC: 0.9445549813497299\n"
     ]
    },
    {
     "data": {
      "image/png": "[encoded data removed]",
      "text/plain": [
       "<Figure size 640x480 with 1 Axes>"
      ]
     },
     "metadata": {},
     "output_type": "display_data"
    }
   ],
   "source": [
    "fpr, tpr, thresholds = roc_curve(y_true, y_pred)\n",
    "print(\"ROC:\", roc_auc_score(y_true, y_pred))\n",
    "\n",
    "plt.plot(fpr, tpr)\n",
    "plt.xlabel('FPR: False positive rate')\n",
    "plt.ylabel('TPR: True positive rate')\n",
    "plt.grid()"
   ]
  },
  {
   "cell_type": "code",
   "execution_count": null,
   "metadata": {},
   "outputs": [],
   "source": []
  }
 ],
 "metadata": {
  "kernelspec": {
   "display_name": ".venv",
   "language": "python",
   "name": "python3"
  },
  "language_info": {
   "codemirror_mode": {
    "name": "ipython",
    "version": 3
   },
   "file_extension": ".py",
   "mimetype": "text/x-python",
   "name": "python",
   "nbconvert_exporter": "python",
   "pygments_lexer": "ipython3",
   "version": "3.12.0"
  }
 },
 "nbformat": 4,
 "nbformat_minor": 2
}

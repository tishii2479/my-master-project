{
 "cells": [
  {
   "cell_type": "markdown",
   "metadata": {},
   "source": [
    "- ネガティブサンプリングを試した\n",
    "- コンテキストの長さを長くした"
   ]
  },
  {
   "cell_type": "code",
   "execution_count": 42,
   "metadata": {},
   "outputs": [],
   "source": [
    "import sys\n",
    "\n",
    "sys.path.append(\"..\")"
   ]
  },
  {
   "cell_type": "code",
   "execution_count": 43,
   "metadata": {},
   "outputs": [],
   "source": [
    "import random\n",
    "\n",
    "import pandas as pd\n",
    "import numpy as np\n",
    "import torch\n",
    "from tqdm import tqdm\n",
    "import matplotlib.pyplot as plt\n",
    "import matplotlib\n",
    "\n",
    "from src.util import *\n",
    "from src.model import *\n",
    "\n",
    "tqdm.pandas()"
   ]
  },
  {
   "cell_type": "code",
   "execution_count": 44,
   "metadata": {},
   "outputs": [],
   "source": [
    "last_review_date = pd.to_datetime(\"2015/01/01\")\n",
    "train_split_date = pd.to_datetime(\"2017/01/01\")\n",
    "test_split_date = pd.to_datetime(\"2018/01/01\")\n",
    "\n",
    "seed = 0\n",
    "random.seed(seed)\n",
    "np.random.seed(seed)"
   ]
  },
  {
   "cell_type": "code",
   "execution_count": 45,
   "metadata": {},
   "outputs": [
    {
     "name": "stderr",
     "output_type": "stream",
     "text": [
      "100%|██████████| 25093/25093 [00:00<00:00, 3609440.32it/s]\n",
      "100%|██████████| 25093/25093 [00:00<00:00, 4187795.25it/s]\n"
     ]
    }
   ],
   "source": [
    "interaction_df, user_le, item_le = load_interaction_df(\n",
    "    last_review_date=last_review_date,\n",
    "    train_split_date=train_split_date,\n",
    ")\n",
    "items = item_le.transform(item_le.classes_)\n",
    "\n",
    "(\n",
    "    train_dataset,\n",
    "    test_dataset,\n",
    "    train_user_feature_table,\n",
    "    test_user_feature_table,\n",
    "    negative_sampler,\n",
    ") = create_dataset(\n",
    "    interaction_df=interaction_df,\n",
    "    train_split_date=train_split_date,\n",
    "    test_split_date=test_split_date,\n",
    "    item_size=len(items),\n",
    ")"
   ]
  },
  {
   "cell_type": "code",
   "execution_count": 46,
   "metadata": {},
   "outputs": [],
   "source": [
    "class Model2(torch.nn.Module):\n",
    "    def __init__(\n",
    "        self,\n",
    "        item_size: int,\n",
    "        user_feature_dim: int,\n",
    "        num_layers: int = 4,\n",
    "        d_model: int = 64,\n",
    "        dim_feedforward: int = 128,\n",
    "        nhead: int = 4,\n",
    "    ) -> None:\n",
    "        super().__init__()\n",
    "        self.user_embedding = torch.nn.Linear(user_feature_dim, d_model)\n",
    "        self.item_embedding = torch.nn.Embedding(item_size, d_model)\n",
    "\n",
    "        self.positional_encoding = PositionalEncoding(d_model=d_model)\n",
    "        self.transformer_layer = torch.nn.TransformerEncoder(\n",
    "            encoder_layer=torch.nn.TransformerEncoderLayer(\n",
    "                d_model=d_model,\n",
    "                nhead=nhead,\n",
    "                dim_feedforward=dim_feedforward,\n",
    "                batch_first=True,\n",
    "            ),\n",
    "            num_layers=num_layers,\n",
    "        )\n",
    "        self.clv_layer = TwoFeedForwardLayer(d_model, d_model // 2, 1)\n",
    "        self.target_layer = TwoFeedForwardLayer(d_model, d_model * 2, d_model)\n",
    "\n",
    "    def forward(\n",
    "        self,\n",
    "        user_features: torch.Tensor,\n",
    "        item_indices: torch.Tensor,\n",
    "        target_indices: torch.Tensor,\n",
    "    ) -> tuple[torch.Tensor, torch.Tensor]:\n",
    "        e_u = self.user_embedding.forward(user_features)\n",
    "        e_v = self.item_embedding.forward(item_indices)\n",
    "        e_v = self.positional_encoding.forward(e_v)\n",
    "        H = torch.cat((e_u.unsqueeze(1), e_v), dim=1)\n",
    "        H = self.transformer_layer.forward(H)\n",
    "\n",
    "        y_clv = torch.sigmoid(self.clv_layer.forward(H[:, 0]))\n",
    "        H_v = self.target_layer.forward(H[:, -1])\n",
    "\n",
    "        e_target = self.item_embedding.forward(target_indices)\n",
    "        v_target = torch.matmul(H_v.unsqueeze(1), e_target.mT)\n",
    "        y_target = torch.sigmoid(v_target)\n",
    "\n",
    "        return y_clv.squeeze(), y_target.squeeze()"
   ]
  },
  {
   "cell_type": "code",
   "execution_count": 47,
   "metadata": {},
   "outputs": [],
   "source": [
    "def run_one_epoch(\n",
    "    model: Model2,\n",
    "    dataloader: torch.utils.data.DataLoader,\n",
    "    user_feature_table: np.ndarray,\n",
    "    negative_sampler: NegativeSampler,\n",
    "    optimizer: torch.optim.Optimizer,\n",
    "    args: Args,\n",
    "    items: list[int],\n",
    "    is_eval: bool = False,\n",
    ") -> dict:\n",
    "    result: dict[str, dict] = {\n",
    "        \"target\": {\"loss\": 0.0, \"y_pred\": [], \"y_true\": []},\n",
    "        \"clv\": {\"loss\": 0.0, \"y_pred\": [], \"y_true\": []},\n",
    "    }\n",
    "\n",
    "    if is_eval:\n",
    "        model.eval()\n",
    "    else:\n",
    "        model.train()\n",
    "\n",
    "    for batch in tqdm(dataloader):\n",
    "        user_ids = []\n",
    "        item_indices = []\n",
    "        target_indices = []\n",
    "        target_labels = []\n",
    "        clv_labels = []\n",
    "\n",
    "        for user_id, user_context_items, target_items, clv in batch:\n",
    "            for _ in range(args.sample_size):\n",
    "                context_item_indices = []\n",
    "                for _ in range(args.context_item_size):\n",
    "                    context_item_indices.append(random.randrange(len(user_context_items)))\n",
    "                context_item_indices.sort()\n",
    "                context_items = [user_context_items[i] for i in context_item_indices]\n",
    "\n",
    "                user_ids.append(user_id)\n",
    "                item_indices.append(context_items)\n",
    "                clv_labels.append(clv)\n",
    "                target_indices.append([])\n",
    "                target_labels.append([])\n",
    "\n",
    "                # 正例\n",
    "                for _ in range(min(5, len(target_items))):\n",
    "                    target_indices[-1].append(\n",
    "                        target_items[random.randrange(0, len(target_items))]\n",
    "                    )\n",
    "                    target_labels[-1].append(1)\n",
    "\n",
    "                # 負例\n",
    "                negative_sample_size = args.negative_sample_size - len(target_indices[-1])\n",
    "                target_indices[-1].extend(negative_sampler.sample(negative_sample_size).tolist())\n",
    "                target_labels[-1].extend([0] * negative_sample_size)\n",
    "\n",
    "        user_features = torch.FloatTensor(user_feature_table[user_ids]).to(args.device)\n",
    "        item_indices = torch.LongTensor(item_indices).to(args.device)\n",
    "        target_indices = torch.LongTensor(target_indices).to(args.device)\n",
    "        target_labels = torch.FloatTensor(target_labels).to(args.device).flatten()\n",
    "        clv_labels = torch.FloatTensor(clv_labels).to(args.device).flatten()\n",
    "\n",
    "        y_clv, y_target = model.forward(user_features, item_indices, target_indices)\n",
    "        y_clv = y_clv.flatten()\n",
    "        y_target = y_target.flatten()\n",
    "\n",
    "        target_loss = torch.nn.functional.binary_cross_entropy(y_target, target_labels)\n",
    "        clv_loss = torch.nn.functional.binary_cross_entropy(y_clv, clv_labels)\n",
    "        loss = target_loss * args.alpha + clv_loss * (1 - args.alpha)\n",
    "\n",
    "        if not is_eval:\n",
    "            optimizer.zero_grad()\n",
    "            loss.backward()\n",
    "            optimizer.step()\n",
    "\n",
    "        result[\"target\"][\"loss\"] += target_loss.item()\n",
    "        result[\"target\"][\"y_pred\"].extend(y_target.tolist())\n",
    "        result[\"target\"][\"y_true\"].extend(target_labels.tolist())\n",
    "        result[\"clv\"][\"loss\"] += clv_loss.item()\n",
    "        result[\"clv\"][\"y_pred\"].extend(y_clv.tolist())\n",
    "        result[\"clv\"][\"y_true\"].extend(clv_labels.tolist())\n",
    "\n",
    "    for term_name in result.keys():\n",
    "        result[term_name][\"loss\"] /= len(dataloader)\n",
    "\n",
    "    return result\n",
    "\n",
    "\n",
    "def train(\n",
    "    model: Model2,\n",
    "    train_dataset: Dataset,\n",
    "    test_dataset: Dataset,\n",
    "    train_user_feature_table: np.ndarray,\n",
    "    test_user_feature_table: np.ndarray,\n",
    "    negative_sampler: NegativeSampler,\n",
    "    args: Args,\n",
    "    items: list[int],\n",
    ") -> tuple[list[dict], list[dict]]:\n",
    "    train_dataloader = torch.utils.data.DataLoader(\n",
    "        dataset=train_dataset,\n",
    "        batch_size=args.batch_size,\n",
    "        shuffle=True,\n",
    "        collate_fn=lambda x: x,  # 各データは形式が異なるため、バッチ化せずにそのまま返す\n",
    "    )\n",
    "    test_dataloader = torch.utils.data.DataLoader(\n",
    "        dataset=test_dataset,\n",
    "        batch_size=args.batch_size,\n",
    "        shuffle=False,\n",
    "        collate_fn=lambda x: x,  # 各データは形式が異なるため、バッチ化せずにそのまま返す\n",
    "    )\n",
    "\n",
    "    optimizer = torch.optim.Adam(model.parameters(), lr=args.lr)\n",
    "\n",
    "    train_results = []\n",
    "    test_results = []\n",
    "\n",
    "    for epoch in range(args.epochs):\n",
    "        print(f\"[epoch: {epoch + 1}/{args.epochs}]\")\n",
    "        train_result = run_one_epoch(\n",
    "            model=model,\n",
    "            dataloader=train_dataloader,\n",
    "            user_feature_table=train_user_feature_table,\n",
    "            negative_sampler=negative_sampler,\n",
    "            optimizer=optimizer,\n",
    "            args=args,\n",
    "            items=items,\n",
    "        )\n",
    "        print(\n",
    "            f\"[train][loss] target_loss: {train_result['target']['loss']:.6f}, clv_loss: {train_result['clv']['loss']:.6f}\"\n",
    "        )\n",
    "        train_results.append(train_result)\n",
    "\n",
    "        test_result = run_one_epoch(\n",
    "            model=model,\n",
    "            dataloader=test_dataloader,\n",
    "            user_feature_table=test_user_feature_table,\n",
    "            negative_sampler=negative_sampler,\n",
    "            optimizer=optimizer,\n",
    "            args=args,\n",
    "            items=items,\n",
    "            is_eval=True,\n",
    "        )\n",
    "        print(\n",
    "            f\"[test][loss] target_loss: {test_result['target']['loss']:.6f}, clv_loss: {test_result['clv']['loss']:.6f}\"\n",
    "        )\n",
    "        test_results.append(test_result)\n",
    "\n",
    "        torch.save(model, args.model_path)\n",
    "        print(f\"saved model to: {args.model_path}\")\n",
    "\n",
    "    return train_results, test_results"
   ]
  },
  {
   "cell_type": "code",
   "execution_count": 48,
   "metadata": {},
   "outputs": [
    {
     "name": "stdout",
     "output_type": "stream",
     "text": [
      "args: Args(d_model=32, dim_feedforward=64, batch_size=32, nhead=4, num_layers=4, epochs=10, lr=0.001, sample_size=5, negative_sample_size=100, alpha=0.5, context_item_size=50, device='mps', model_path='model2_e10_test3.model')\n",
      "[epoch: 1/10]\n"
     ]
    },
    {
     "name": "stderr",
     "output_type": "stream",
     "text": [
      "100%|██████████| 785/785 [01:37<00:00,  8.04it/s]\n"
     ]
    },
    {
     "name": "stdout",
     "output_type": "stream",
     "text": [
      "[train][loss] target_loss: 0.327449, clv_loss: 0.318965\n"
     ]
    },
    {
     "name": "stderr",
     "output_type": "stream",
     "text": [
      "100%|██████████| 785/785 [01:19<00:00,  9.86it/s]\n"
     ]
    },
    {
     "name": "stdout",
     "output_type": "stream",
     "text": [
      "[test][loss] target_loss: 0.084456, clv_loss: 0.303614\n",
      "saved model to: model2_e10_test3.model\n",
      "[epoch: 2/10]\n"
     ]
    },
    {
     "name": "stderr",
     "output_type": "stream",
     "text": [
      "100%|██████████| 785/785 [01:39<00:00,  7.93it/s]\n"
     ]
    },
    {
     "name": "stdout",
     "output_type": "stream",
     "text": [
      "[train][loss] target_loss: 0.065017, clv_loss: 0.304206\n"
     ]
    },
    {
     "name": "stderr",
     "output_type": "stream",
     "text": [
      "100%|██████████| 785/785 [01:20<00:00,  9.71it/s]\n"
     ]
    },
    {
     "name": "stdout",
     "output_type": "stream",
     "text": [
      "[test][loss] target_loss: 0.053229, clv_loss: 0.315892\n",
      "saved model to: model2_e10_test3.model\n",
      "[epoch: 3/10]\n"
     ]
    },
    {
     "name": "stderr",
     "output_type": "stream",
     "text": [
      "100%|██████████| 785/785 [01:41<00:00,  7.71it/s]\n"
     ]
    },
    {
     "name": "stdout",
     "output_type": "stream",
     "text": [
      "[train][loss] target_loss: 0.048053, clv_loss: 0.301196\n"
     ]
    },
    {
     "name": "stderr",
     "output_type": "stream",
     "text": [
      "100%|██████████| 785/785 [01:19<00:00,  9.86it/s]\n"
     ]
    },
    {
     "name": "stdout",
     "output_type": "stream",
     "text": [
      "[test][loss] target_loss: 0.045211, clv_loss: 0.298003\n",
      "saved model to: model2_e10_test3.model\n",
      "[epoch: 4/10]\n"
     ]
    },
    {
     "name": "stderr",
     "output_type": "stream",
     "text": [
      "100%|██████████| 785/785 [01:42<00:00,  7.64it/s]\n"
     ]
    },
    {
     "name": "stdout",
     "output_type": "stream",
     "text": [
      "[train][loss] target_loss: 0.042871, clv_loss: 0.296409\n"
     ]
    },
    {
     "name": "stderr",
     "output_type": "stream",
     "text": [
      "100%|██████████| 785/785 [01:22<00:00,  9.51it/s]\n"
     ]
    },
    {
     "name": "stdout",
     "output_type": "stream",
     "text": [
      "[test][loss] target_loss: 0.043768, clv_loss: 0.307542\n",
      "saved model to: model2_e10_test3.model\n",
      "[epoch: 5/10]\n"
     ]
    },
    {
     "name": "stderr",
     "output_type": "stream",
     "text": [
      "100%|██████████| 785/785 [01:41<00:00,  7.74it/s]\n"
     ]
    },
    {
     "name": "stdout",
     "output_type": "stream",
     "text": [
      "[train][loss] target_loss: 0.040961, clv_loss: 0.292627\n"
     ]
    },
    {
     "name": "stderr",
     "output_type": "stream",
     "text": [
      "100%|██████████| 785/785 [01:19<00:00,  9.91it/s]\n"
     ]
    },
    {
     "name": "stdout",
     "output_type": "stream",
     "text": [
      "[test][loss] target_loss: 0.042403, clv_loss: 0.292607\n",
      "saved model to: model2_e10_test3.model\n",
      "[epoch: 6/10]\n"
     ]
    },
    {
     "name": "stderr",
     "output_type": "stream",
     "text": [
      "100%|██████████| 785/785 [01:36<00:00,  8.14it/s]\n"
     ]
    },
    {
     "name": "stdout",
     "output_type": "stream",
     "text": [
      "[train][loss] target_loss: 0.039991, clv_loss: 0.288141\n"
     ]
    },
    {
     "name": "stderr",
     "output_type": "stream",
     "text": [
      "100%|██████████| 785/785 [01:17<00:00, 10.08it/s]\n"
     ]
    },
    {
     "name": "stdout",
     "output_type": "stream",
     "text": [
      "[test][loss] target_loss: 0.042862, clv_loss: 0.302937\n",
      "saved model to: model2_e10_test3.model\n",
      "[epoch: 7/10]\n"
     ]
    },
    {
     "name": "stderr",
     "output_type": "stream",
     "text": [
      "100%|██████████| 785/785 [01:35<00:00,  8.19it/s]\n"
     ]
    },
    {
     "name": "stdout",
     "output_type": "stream",
     "text": [
      "[train][loss] target_loss: 0.039519, clv_loss: 0.285238\n"
     ]
    },
    {
     "name": "stderr",
     "output_type": "stream",
     "text": [
      "100%|██████████| 785/785 [01:17<00:00, 10.09it/s]\n"
     ]
    },
    {
     "name": "stdout",
     "output_type": "stream",
     "text": [
      "[test][loss] target_loss: 0.042875, clv_loss: 0.295594\n",
      "saved model to: model2_e10_test3.model\n",
      "[epoch: 8/10]\n"
     ]
    },
    {
     "name": "stderr",
     "output_type": "stream",
     "text": [
      "100%|██████████| 785/785 [01:35<00:00,  8.20it/s]\n"
     ]
    },
    {
     "name": "stdout",
     "output_type": "stream",
     "text": [
      "[train][loss] target_loss: 0.039145, clv_loss: 0.282200\n"
     ]
    },
    {
     "name": "stderr",
     "output_type": "stream",
     "text": [
      "100%|██████████| 785/785 [01:18<00:00, 10.01it/s]\n"
     ]
    },
    {
     "name": "stdout",
     "output_type": "stream",
     "text": [
      "[test][loss] target_loss: 0.043385, clv_loss: 0.300858\n",
      "saved model to: model2_e10_test3.model\n",
      "[epoch: 9/10]\n"
     ]
    },
    {
     "name": "stderr",
     "output_type": "stream",
     "text": [
      "100%|██████████| 785/785 [01:38<00:00,  7.98it/s]\n"
     ]
    },
    {
     "name": "stdout",
     "output_type": "stream",
     "text": [
      "[train][loss] target_loss: 0.039025, clv_loss: 0.278865\n"
     ]
    },
    {
     "name": "stderr",
     "output_type": "stream",
     "text": [
      "100%|██████████| 785/785 [01:19<00:00,  9.90it/s]\n"
     ]
    },
    {
     "name": "stdout",
     "output_type": "stream",
     "text": [
      "[test][loss] target_loss: 0.043326, clv_loss: 0.299612\n",
      "saved model to: model2_e10_test3.model\n",
      "[epoch: 10/10]\n"
     ]
    },
    {
     "name": "stderr",
     "output_type": "stream",
     "text": [
      "100%|██████████| 785/785 [01:41<00:00,  7.72it/s]\n"
     ]
    },
    {
     "name": "stdout",
     "output_type": "stream",
     "text": [
      "[train][loss] target_loss: 0.038778, clv_loss: 0.275509\n"
     ]
    },
    {
     "name": "stderr",
     "output_type": "stream",
     "text": [
      "100%|██████████| 785/785 [01:18<00:00, 10.05it/s]\n"
     ]
    },
    {
     "name": "stdout",
     "output_type": "stream",
     "text": [
      "[test][loss] target_loss: 0.044202, clv_loss: 0.316069\n",
      "saved model to: model2_e10_test3.model\n"
     ]
    }
   ],
   "source": [
    "device = \"mps\" if torch.backends.mps.is_available() else \"cpu\"\n",
    "\n",
    "target_loss_weight = 1\n",
    "clv_loss_weight = 1\n",
    "alpha = target_loss_weight / (target_loss_weight + clv_loss_weight)\n",
    "\n",
    "args = Args(\n",
    "    d_model=32,\n",
    "    dim_feedforward=64,\n",
    "    batch_size=32,\n",
    "    nhead=4,\n",
    "    num_layers=4,\n",
    "    epochs=10,\n",
    "    lr=1e-3,\n",
    "    sample_size=5,\n",
    "    negative_sample_size=100,\n",
    "    alpha=alpha,\n",
    "    context_item_size=50,\n",
    "    device=device,\n",
    "    model_path=\"model2_e10_test4.model\",\n",
    ")\n",
    "\n",
    "try:\n",
    "    model = torch.load(args.model_path)\n",
    "    print(f\"loaded model from: {args.model_path}\")\n",
    "except FileNotFoundError:\n",
    "    model = Model2(\n",
    "        item_size=len(items),\n",
    "        user_feature_dim=train_user_feature_table.shape[1],\n",
    "        d_model=args.d_model,\n",
    "        dim_feedforward=args.dim_feedforward,\n",
    "        nhead=args.nhead,\n",
    "        num_layers=args.num_layers,\n",
    "    )\n",
    "model.to(args.device)\n",
    "model.train()\n",
    "\n",
    "print(f\"args: {args}\")\n",
    "train_results, test_results = train(\n",
    "    model=model,\n",
    "    train_dataset=train_dataset,\n",
    "    test_dataset=test_dataset,\n",
    "    train_user_feature_table=train_user_feature_table,\n",
    "    test_user_feature_table=test_user_feature_table,\n",
    "    negative_sampler=negative_sampler,\n",
    "    args=args,\n",
    "    items=items,\n",
    ")"
   ]
  },
  {
   "cell_type": "code",
   "execution_count": 57,
   "metadata": {},
   "outputs": [
    {
     "name": "stdout",
     "output_type": "stream",
     "text": [
      "([-10.740679240037855, -0.5701078547960363, -0.12372521895414068, 0.009860592706620985, 0.05414875190184032, 0.07071665725444565, 0.07647554407279122, 0.0798279163447797, 0.08079605628878339, 0.08314295259344118], [-1.1246376401633524, -0.24376571071021225, -0.03626216541798022, 0.02896716296986801, 0.04516376982111325, 0.04850990126766119, 0.04788690843228083, 0.045989034186743716, 0.04664736275056702, 0.04664562893886903])\n",
      "([0.39281278576812917, 0.4237860820795565, 0.42946587046487184, 0.43637915392829507, 0.44326595854511375, 0.45268196316883136, 0.4586745310309239, 0.4645233110437964, 0.4715381040379458, 0.47644759549907056], [0.42508010601371604, 0.3964926359308998, 0.429565285325052, 0.4140238434191913, 0.4394320517349565, 0.4192385885208929, 0.434855481235354, 0.4284860763700359, 0.4297667722068709, 0.4188925534432649])\n"
     ]
    },
    {
     "data": {
      "image/png": "[encoded data removed]",
      "text/plain": [
       "<Figure size 2400x800 with 8 Axes>"
      ]
     },
     "metadata": {},
     "output_type": "display_data"
    }
   ],
   "source": [
    "fig, axes = plt.subplots(nrows=2, ncols=4, figsize=(24, 8))\n",
    "loss_names = [\"target\", \"clv\"]\n",
    "\n",
    "for i, loss_name in enumerate(loss_names):\n",
    "    plot_loss(train_results, test_results, loss_name, axes[i, 0])\n",
    "    print(plot_r2_score(train_results, test_results, loss_name, axes[i, 1]))\n",
    "    plot_roc_auc(train_results[-1], test_results[-1], loss_name, axes[i, 2])\n",
    "    plot_auc(train_results, test_results, loss_name, axes[i, 3])\n",
    "\n",
    "plt.show()"
   ]
  },
  {
   "cell_type": "code",
   "execution_count": 50,
   "metadata": {},
   "outputs": [],
   "source": [
    "# for user_id, user_context_items, target_items, clv in tqdm(train_dataset):\n",
    "#     if len(target_items) == 0:\n",
    "#         continue\n",
    "#     user_ids = []\n",
    "#     item_indices = []\n",
    "#     for _ in range(2):\n",
    "#         context_item_indices = []\n",
    "#         for _ in range(args.context_item_size):\n",
    "#             context_item_indices.append(random.randrange(len(user_context_items)))\n",
    "#         context_item_indices.sort()\n",
    "#         context_items = [user_context_items[i] for i in context_item_indices]\n",
    "\n",
    "#         user_ids.append(user_id)\n",
    "#         item_indices.append(context_items)\n",
    "\n",
    "#     user_features = torch.FloatTensor(test_user_feature_table[user_ids]).to(args.device)\n",
    "#     item_indices = torch.LongTensor(item_indices).to(args.device)\n",
    "#     target_indices = torch.LongTensor(items).to(args.device)\n",
    "\n",
    "#     with torch.no_grad():\n",
    "#         e_u = model.user_embedding.forward(user_features)\n",
    "#         e_v = model.item_embedding.forward(item_indices)\n",
    "#         e_v = model.positional_encoding.forward(e_v)\n",
    "#         H = torch.cat((e_u.unsqueeze(1), e_v), dim=1)\n",
    "#         H = model.transformer_layer.forward(H)\n",
    "\n",
    "#         y_clv = torch.sigmoid(model.clv_layer.forward(H[:, 0]))\n",
    "#         H_v = model.target_layer.forward(H[:, -1])\n",
    "\n",
    "#         e_target = model.item_embedding.forward(target_indices)\n",
    "#         v_target = torch.matmul(H_v.unsqueeze(1), e_target.mT)\n",
    "#         y_target = torch.sigmoid(v_target)\n",
    "#         # print(H.shape, H)\n",
    "#         x = H[:, -1]\n",
    "#         # print(\"1:\", x)\n",
    "#         x = model.target_layer.fc1.forward(x)\n",
    "#         # print(\"2:\", x)\n",
    "#         x = torch.nn.functional.leaky_relu(x)\n",
    "#         # print(\"3:\", x)\n",
    "#         x = model.target_layer.fc2.forward(x)\n",
    "#         # print(\"4:\", x)\n",
    "#         # print(\"b:\", model.target_layer.fc2.bias)\n",
    "#         # print(H_v)\n",
    "#         # print(e_target)\n",
    "#         # print(v_target)\n",
    "#         print(y_target[0][0][:7])"
   ]
  },
  {
   "cell_type": "code",
   "execution_count": 51,
   "metadata": {},
   "outputs": [
    {
     "name": "stderr",
     "output_type": "stream",
     "text": [
      "100%|██████████| 25093/25093 [04:07<00:00, 101.30it/s]"
     ]
    },
    {
     "name": "stdout",
     "output_type": "stream",
     "text": [
      "before hit-ratio:  0.59473\n",
      "after hit-ratio:   0.40078\n"
     ]
    },
    {
     "name": "stderr",
     "output_type": "stream",
     "text": [
      "\n"
     ]
    }
   ],
   "source": [
    "model.eval()\n",
    "\n",
    "before_rerank_size = 50\n",
    "filter_sample_size = 10\n",
    "rerank_sample_size = 10\n",
    "top_k = 10\n",
    "\n",
    "total_count = 0\n",
    "before_hit_count = 0\n",
    "after_hit_count = 0\n",
    "\n",
    "recommendations = {}\n",
    "\n",
    "for user_id, user_context_items, target_items, clv in tqdm(train_dataset):\n",
    "    if len(target_items) == 0:\n",
    "        continue\n",
    "    total_count += 1\n",
    "\n",
    "    recommendations[user_id] = {}\n",
    "\n",
    "    user_ids = []\n",
    "    item_indices = []\n",
    "    context_items = user_context_items[-args.context_item_size:]\n",
    "    user_ids.append(user_id)\n",
    "    item_indices.append(context_items)\n",
    "\n",
    "    user_features = torch.FloatTensor(test_user_feature_table[user_ids]).to(args.device)\n",
    "    item_indices = torch.LongTensor(item_indices).to(args.device)\n",
    "    target_indices = torch.LongTensor(items).to(args.device)\n",
    "\n",
    "    with torch.no_grad():\n",
    "        _, y_target = model.forward(\n",
    "            user_features, item_indices, target_indices=target_indices\n",
    "        )\n",
    "\n",
    "    b = y_target.cpu().detach().numpy()\n",
    "\n",
    "    before_rerank_rec = items[np.argsort(b)][::-1][\n",
    "        :before_rerank_size\n",
    "    ]  # 降順でソートし、上位`before_rerank_size`件を取得する\n",
    "\n",
    "    hit = len(set(before_rerank_rec[:top_k]) & set(target_items))\n",
    "    # print(\"before rerank:\", hit, \"/\", len(target_items))\n",
    "    if hit > 0:\n",
    "        before_hit_count += 1\n",
    "\n",
    "    clv_mean = []\n",
    "    user_ids = []\n",
    "    item_indices = []\n",
    "    for target_item in before_rerank_rec:\n",
    "        for _ in range(rerank_sample_size):\n",
    "            context_item_indices = []\n",
    "            for _ in range(args.context_item_size):\n",
    "                context_item_indices.append(random.randrange(len(user_context_items)))\n",
    "            context_item_indices.sort()\n",
    "            context_items = [user_context_items[i] for i in context_item_indices]\n",
    "\n",
    "            v = list(context_items)\n",
    "            v.append(target_item)\n",
    "            user_ids.append(user_id)\n",
    "            item_indices.append(v)\n",
    "\n",
    "    user_features = torch.FloatTensor(test_user_feature_table[user_ids]).to(args.device)\n",
    "    item_indices = torch.LongTensor(item_indices).to(args.device)\n",
    "    target_indices = torch.LongTensor([0]).to(args.device)  # CLVのみを計算するので、ダミーを入れておく\n",
    "\n",
    "    with torch.no_grad():\n",
    "        y_clv, _ = model.forward(user_features, item_indices, target_indices)\n",
    "\n",
    "    y_clv = y_clv.cpu().detach().numpy()\n",
    "    clv_mean = np.add.reduceat(y_clv, np.arange(0, y_clv.shape[0], rerank_sample_size))\n",
    "\n",
    "    after_rerank_rec = before_rerank_rec[np.argsort(clv_mean)][::-1]\n",
    "\n",
    "    hit = len(set(after_rerank_rec[:top_k]) & set(target_items))\n",
    "\n",
    "    # print(\"after rerank:\", hit, \"/\", len(target_items))\n",
    "    if hit > 0:\n",
    "        after_hit_count += 1\n",
    "\n",
    "    recommendations[user_id][\"target_items\"] = item_le.inverse_transform(\n",
    "        target_items\n",
    "    ).tolist()\n",
    "    recommendations[user_id][\"before_rerank_rec\"] = item_le.inverse_transform(\n",
    "        before_rerank_rec\n",
    "    ).tolist()\n",
    "    recommendations[user_id][\"before_rerank_rec_value\"] = b[before_rerank_rec].tolist()\n",
    "    recommendations[user_id][\"after_rerank_rec\"] = item_le.inverse_transform(\n",
    "        after_rerank_rec\n",
    "    ).tolist()\n",
    "    recommendations[user_id][\"after_rerank_rec_value\"] = b[after_rerank_rec].tolist()\n",
    "\n",
    "\n",
    "print(f\"before hit-ratio:  {before_hit_count / total_count:.5f}\")\n",
    "print(f\"after hit-ratio:   {after_hit_count / total_count:.5f}\")"
   ]
  },
  {
   "cell_type": "code",
   "execution_count": 52,
   "metadata": {},
   "outputs": [],
   "source": [
    "rec_df = pd.DataFrame.from_dict(recommendations, orient=\"index\")\n",
    "rec_df.index = rec_df.index.rename(\"user_id\")\n",
    "rec_df.to_csv(\"../out/rec13.csv\")"
   ]
  },
  {
   "cell_type": "code",
   "execution_count": 53,
   "metadata": {},
   "outputs": [
    {
     "name": "stdout",
     "output_type": "stream",
     "text": [
      "[0.42899081110954285, 0.4046517610549927, 0.38295885920524597, 0.3568488657474518, 0.350980669260025, 0.3445757329463959, 0.3315654695034027, 0.324537068605423, 0.32423973083496094, 0.32418403029441833, 0.3212566375732422, 0.31817105412483215, 0.2921164631843567, 0.29025545716285706, 0.285489559173584, 0.28517571091651917, 0.2765434682369232, 0.27497875690460205, 0.2738471031188965, 0.27320167422294617, 0.2728281617164612, 0.27276790142059326, 0.27215853333473206, 0.2710939347743988, 0.26538389921188354, 0.2593625783920288, 0.25756147503852844, 0.2547171115875244, 0.2545738220214844, 0.25426894426345825, 0.253849059343338, 0.2525176703929901, 0.2515639662742615, 0.2507992088794708, 0.24911421537399292, 0.24730218946933746, 0.2453058362007141, 0.24465322494506836, 0.2443004846572876, 0.24344736337661743, 0.24085035920143127, 0.2406003177165985, 0.239736407995224, 0.23944836854934692, 0.2378368377685547, 0.23708988726139069, 0.2360212802886963, 0.23485128581523895, 0.2348167896270752, 0.23481616377830505]\n",
      "[0.4730306565761566, 0.4651252329349518, 0.4462909698486328, 0.40187183022499084, 0.39917507767677307, 0.39233341813087463, 0.3880283534526825, 0.35995152592658997, 0.3589446544647217, 0.3586108982563019, 0.3561367690563202, 0.35309720039367676, 0.3506125509738922, 0.34701210260391235, 0.34262052178382874, 0.33666205406188965, 0.32771846652030945, 0.3254522979259491, 0.32423943281173706, 0.3192262053489685, 0.3159978687763214, 0.30552300810813904, 0.3043716251850128, 0.3042525053024292, 0.303575724363327, 0.3026445508003235, 0.3003043532371521, 0.3001757264137268, 0.2970256805419922, 0.2967175245285034, 0.2939305603504181, 0.29321083426475525, 0.2919614315032959, 0.290585994720459, 0.28872227668762207, 0.2868879437446594, 0.2863275706768036, 0.2800632119178772, 0.27764686942100525, 0.27454593777656555, 0.27431339025497437, 0.27334052324295044, 0.27306172251701355, 0.2723851501941681, 0.27051833271980286, 0.2696376144886017, 0.2687176764011383, 0.2685437798500061, 0.26820701360702515, 0.2679479718208313]\n",
      "[0.31323981285095215, 0.3028322756290436, 0.2623917758464813, 0.2579426169395447, 0.2456723153591156, 0.23994950950145721, 0.23561452329158783, 0.2296142578125, 0.21733145415782928, 0.21454867720603943, 0.209081768989563, 0.20442262291908264, 0.2029021978378296, 0.20141814649105072, 0.2003171294927597, 0.19423390924930573, 0.1874462515115738, 0.1824454516172409, 0.1815088540315628, 0.17849136888980865, 0.17644937336444855, 0.17604400217533112, 0.1710679531097412, 0.17094983160495758, 0.16933448612689972, 0.16862435638904572, 0.16593769192695618, 0.16530261933803558, 0.16141538321971893, 0.16095004975795746, 0.15865986049175262, 0.15851366519927979, 0.15754243731498718, 0.15753057599067688, 0.15693479776382446, 0.15612465143203735, 0.15543752908706665, 0.15465140342712402, 0.15409353375434875, 0.1530686616897583, 0.15211762487888336, 0.1488596796989441, 0.14790761470794678, 0.14703087508678436, 0.14613975584506989, 0.1452486664056778, 0.14468258619308472, 0.14397767186164856, 0.14366471767425537, 0.1415175497531891]\n",
      "[0.4574086666107178, 0.44743749499320984, 0.4343762993812561, 0.42998409271240234, 0.4132450222969055, 0.4034360349178314, 0.39817872643470764, 0.3833068013191223, 0.3794766068458557, 0.37535473704338074, 0.3723532557487488, 0.37069767713546753, 0.3451958894729614, 0.335263192653656, 0.3350978195667267, 0.33460426330566406, 0.33458513021469116, 0.32815301418304443, 0.3271932005882263, 0.3259448707103729, 0.3241783082485199, 0.3218810260295868, 0.3218667507171631, 0.32174742221832275, 0.32059526443481445, 0.3198041319847107, 0.3145737648010254, 0.31395068764686584, 0.31304964423179626, 0.3117857873439789, 0.3080712854862213, 0.30754655599594116, 0.3020859360694885, 0.30097684264183044, 0.29665955901145935, 0.29576626420021057, 0.2956118881702423, 0.2952699065208435, 0.29417386651039124, 0.29278892278671265, 0.29259467124938965, 0.291184663772583, 0.2879863679409027, 0.28739598393440247, 0.2873401641845703, 0.2847961485385895, 0.28411024808883667, 0.28255945444107056, 0.281568318605423, 0.27622801065444946]\n",
      "[0.4703872799873352, 0.46973949670791626, 0.4411095380783081, 0.43315625190734863, 0.41651061177253723, 0.4115707278251648, 0.40971094369888306, 0.39423343539237976, 0.38330602645874023, 0.37970808148384094, 0.37615644931793213, 0.37613144516944885, 0.3624950647354126, 0.35872504115104675, 0.35617148876190186, 0.3560885787010193, 0.3534696698188782, 0.35033535957336426, 0.34126290678977966, 0.3379981815814972, 0.3377895951271057, 0.3361288011074066, 0.3319869041442871, 0.3254522681236267, 0.324643611907959, 0.3225387930870056, 0.3190533220767975, 0.31785324215888977, 0.31606683135032654, 0.3160266578197479, 0.31577205657958984, 0.3151695132255554, 0.3139437139034271, 0.31158021092414856, 0.3102334141731262, 0.30853843688964844, 0.3069727420806885, 0.3056870698928833, 0.30030664801597595, 0.2992667257785797, 0.2991328239440918, 0.2978655993938446, 0.2921575903892517, 0.2919023036956787, 0.2901941239833832, 0.2895216643810272, 0.2883853018283844, 0.2843305766582489, 0.28404733538627625, 0.2836703360080719]\n",
      "[0.38018202781677246, 0.3513840436935425, 0.31658628582954407, 0.30563244223594666, 0.30477282404899597, 0.29313063621520996, 0.281024307012558, 0.2693195343017578, 0.268562376499176, 0.26483961939811707, 0.263592392206192, 0.26006534695625305, 0.24094970524311066, 0.2364700585603714, 0.23592187464237213, 0.22981025278568268, 0.22288958728313446, 0.22004610300064087, 0.21910123527050018, 0.21887564659118652, 0.21761833131313324, 0.2165888249874115, 0.21332478523254395, 0.213032066822052, 0.21219070255756378, 0.2102154791355133, 0.21002709865570068, 0.20853692293167114, 0.20600126683712006, 0.20536509156227112, 0.202584907412529, 0.20008164644241333, 0.19974587857723236, 0.19616302847862244, 0.1933155655860901, 0.19235825538635254, 0.19188302755355835, 0.19140145182609558, 0.19028881192207336, 0.19010113179683685, 0.18974395096302032, 0.18903180956840515, 0.18854428827762604, 0.18798041343688965, 0.18697494268417358, 0.18643538653850555, 0.18600328266620636, 0.1857965588569641, 0.18465860188007355, 0.18303413689136505]\n",
      "[0.4703696072101593, 0.46495363116264343, 0.445145845413208, 0.43514740467071533, 0.4252408444881439, 0.41569817066192627, 0.41292253136634827, 0.40391039848327637, 0.3933892846107483, 0.38931941986083984, 0.38440877199172974, 0.38181790709495544, 0.3718652129173279, 0.37042587995529175, 0.36892664432525635, 0.3620498478412628, 0.36160531640052795, 0.34891432523727417, 0.34642890095710754, 0.3458252549171448, 0.33971044421195984, 0.33291396498680115, 0.3325387239456177, 0.33126023411750793, 0.3301282823085785, 0.32998567819595337, 0.3297140896320343, 0.32811328768730164, 0.32766905426979065, 0.32491540908813477, 0.3210839629173279, 0.32071712613105774, 0.3182294964790344, 0.3138643503189087, 0.312212735414505, 0.3108769953250885, 0.30822452902793884, 0.3079061508178711, 0.30750447511672974, 0.30675187706947327, 0.30472326278686523, 0.30390650033950806, 0.2979923188686371, 0.29611727595329285, 0.2944633364677429, 0.29275962710380554, 0.29116538166999817, 0.2908300459384918, 0.29027581214904785, 0.28909456729888916]\n",
      "[0.42426881194114685, 0.3936670124530792, 0.3687289357185364, 0.34986260533332825, 0.342312753200531, 0.3385997414588928, 0.3229348659515381, 0.32056868076324463, 0.32009947299957275, 0.3148519992828369, 0.3095638155937195, 0.30922749638557434, 0.2814610004425049, 0.28064754605293274, 0.28013524413108826, 0.2781722843647003, 0.27306434512138367, 0.2689160704612732, 0.26748982071876526, 0.2665025293827057, 0.26644331216812134, 0.26480209827423096, 0.26467132568359375, 0.2610962390899658, 0.25362375378608704, 0.2508118152618408, 0.24930788576602936, 0.24908888339996338, 0.24867402017116547, 0.2465776801109314, 0.2444026619195938, 0.24427014589309692, 0.24355463683605194, 0.2432011514902115, 0.24077700078487396, 0.23974260687828064, 0.23906905949115753, 0.2381894290447235, 0.23705632984638214, 0.23485544323921204, 0.2337791621685028, 0.23116418719291687, 0.23088636994361877, 0.2304697334766388, 0.23005393147468567, 0.22935955226421356, 0.22880299389362335, 0.227995365858078, 0.22665846347808838, 0.22605261206626892]\n",
      "[0.4308953583240509, 0.41488608717918396, 0.39007997512817383, 0.3597257733345032, 0.35369977355003357, 0.33457401394844055, 0.33195626735687256, 0.3311217725276947, 0.33072546124458313, 0.32674893736839294, 0.31977617740631104, 0.30991870164871216, 0.3021315038204193, 0.29186874628067017, 0.2862204611301422, 0.28400173783302307, 0.2792484760284424, 0.2785736918449402, 0.27535712718963623, 0.27512678503990173, 0.2747964859008789, 0.271677166223526, 0.26958167552948, 0.26810422539711, 0.2615291178226471, 0.2600027024745941, 0.25703591108322144, 0.25569963455200195, 0.2535707652568817, 0.2526456415653229, 0.251475989818573, 0.2494349181652069, 0.24889884889125824, 0.24789300560951233, 0.24751535058021545, 0.2470681518316269, 0.24678561091423035, 0.2466680109500885, 0.2434656322002411, 0.24035657942295074, 0.2380080223083496, 0.23777635395526886, 0.23739422857761383, 0.23700515925884247, 0.2361232191324234, 0.23560528457164764, 0.2329925298690796, 0.23258361220359802, 0.2325466275215149, 0.23202316462993622]\n",
      "[0.4139881134033203, 0.37373432517051697, 0.36725133657455444, 0.3499005436897278, 0.3371639549732208, 0.33646419644355774, 0.3331533670425415, 0.3236892819404602, 0.3133692741394043, 0.30314138531684875, 0.29915162920951843, 0.2982349395751953, 0.29136478900909424, 0.28209707140922546, 0.27731645107269287, 0.2731475830078125, 0.2691265940666199, 0.2677209973335266, 0.2630510628223419, 0.2618759870529175, 0.2613990008831024, 0.2567788362503052, 0.2547897696495056, 0.25452902913093567, 0.2529929280281067, 0.25253766775131226, 0.24956701695919037, 0.2476964294910431, 0.24441500008106232, 0.2413182109594345, 0.24027468264102936, 0.23969250917434692, 0.23947280645370483, 0.2378757894039154, 0.2378707230091095, 0.2375282645225525, 0.23482432961463928, 0.23267801105976105, 0.23188267648220062, 0.230216845870018, 0.2301400601863861, 0.22730782628059387, 0.22640985250473022, 0.22476059198379517, 0.2227994054555893, 0.22264648973941803, 0.22192831337451935, 0.22165457904338837, 0.2215726673603058, 0.2204492688179016]\n"
     ]
    }
   ],
   "source": [
    "for i in range(10):\n",
    "    print(sorted(rec_df.before_rerank_rec_value.iloc[i], reverse=True))"
   ]
  },
  {
   "cell_type": "code",
   "execution_count": 54,
   "metadata": {},
   "outputs": [
    {
     "name": "stdout",
     "output_type": "stream",
     "text": [
      "['164179', '174055', '166528', '169154', '164909', '169304', '166635', '122922', '146678', '179415', '162414', '168252', '171763', '168074', '165551', '175213', '175239', '162578', '166643', '139249', '170893', '176371', '176365', '169744', '171059', '170705', '161582', '135143', '143355', '162006', '169984', '165937', '168250', '137268', '182823', '122918', '161181', '168930', '181529', '172559', '152970', '171765', '159817', '160980', '162606', '162602', '167570', '175273', '176601', '164266']\n",
      "['174055', '166528', '164179', '122922', '169154', '164909', '166635', '179415', '168252', '169304', '162414', '175239', '146678', '171763', '171059', '176371', '165551', '162578', '168074', '176365', '175213', '139249', '162006', '168930', '166643', '171765', '143355', '160360', '170893', '170705', '137268', '169984', '122918', '161582', '152970', '165549', '162602', '135143', '147562', '160980', '162606', '175273', '167570', '182823', '164266', '181529', '167828', '158783', '166918', '174035']\n",
      "['174055', '164179', '166528', '169154', '169304', '164909', '146678', '168252', '169744', '162414', '179415', '122922', '166635', '181529', '170705', '165551', '171763', '170893', '175213', '166643', '139249', '176371', '175239', '168250', '143355', '161582', '161181', '122918', '161185', '171059', '182823', '176365', '171237', '175367', '151703', '168326', '162578', '176601', '173941', '163645', '175273', '162606', '165549', '137268', '168074', '167570', '170877', '168930', '164266', '135143']\n",
      "['169154', '174055', '164909', '122922', '166528', '164179', '162414', '166635', '169304', '171763', '171059', '162578', '168074', '179415', '171765', '176371', '161582', '167370', '175213', '165551', '152970', '122918', '137268', '159817', '146678', '162006', '170893', '168252', '139249', '171495', '175367', '147562', '160360', '175239', '170705', '161922', '143355', '135143', '165549', '162602', '169984', '168250', '180095', '176601', '175585', '168712', '168186', '162606', '149334', '174035']\n",
      "['166528', '174055', '164179', '169154', '166635', '164909', '122922', '162414', '169304', '179415', '171763', '168074', '171059', '165551', '176371', '169984', '168252', '171765', '162578', '175239', '139249', '146678', '162006', '160360', '175213', '137268', '152970', '170705', '162606', '135143', '159817', '161582', '176365', '143355', '165549', '168930', '170893', '166643', '171495', '122918', '180095', '162602', '164266', '149334', '161181', '181529', '173941', '168250', '182823', '158783']\n",
      "['164179', '174055', '166528', '169154', '169304', '164909', '146678', '162414', '166635', '168252', '179415', '122922', '169744', '165551', '171763', '175213', '170893', '170705', '168074', '166643', '139249', '176371', '168250', '181529', '175239', '162578', '176365', '161582', '122918', '171059', '143355', '182823', '161181', '175273', '165937', '137268', '135143', '162006', '151703', '176601', '161185', '163645', '162606', '172559', '159817', '169984', '168930', '167570', '152970', '147562']\n",
      "['166528', '174055', '169154', '164179', '166635', '164909', '122922', '162414', '169304', '168074', '171763', '179415', '169984', '171059', '165551', '176371', '171765', '168252', '162578', '139249', '162006', '159817', '175239', '160360', '152970', '162606', '146678', '137268', '175213', '170705', '135143', '161582', '165549', '171495', '143355', '176365', '180095', '168930', '170893', '149334', '122918', '166643', '162602', '161181', '164266', '181529', '168250', '168712', '173941', '151703']\n",
      "['164179', '174055', '166528', '169154', '169304', '164909', '166635', '146678', '122922', '179415', '168252', '162414', '171763', '168074', '175213', '165551', '169744', '175239', '176365', '162578', '166643', '170893', '139249', '176371', '171059', '170705', '161582', '143355', '165937', '168250', '135143', '169984', '182823', '162006', '137268', '161181', '181529', '122918', '172559', '160980', '168930', '162606', '159817', '175273', '152970', '171765', '167570', '163134', '176601', '164266']\n",
      "['164179', '174055', '166528', '164909', '169154', '166635', '169304', '162414', '122922', '146678', '179415', '168252', '171763', '168074', '175213', '175239', '162578', '170893', '165551', '166643', '176365', '176371', '171059', '139249', '162006', '169744', '170705', '161582', '168930', '165937', '122918', '169984', '182823', '135143', '137268', '168250', '143355', '181529', '162602', '152970', '162606', '147562', '159817', '171765', '160360', '167570', '163134', '172559', '175273', '161181']\n",
      "['164179', '174055', '166528', '164909', '122922', '169154', '146678', '169304', '171763', '166635', '162578', '161582', '170893', '179415', '171059', '176365', '163134', '162414', '168252', '166643', '175213', '165551', '168074', '175239', '143355', '176371', '163645', '169744', '165549', '168930', '172559', '159817', '139249', '175273', '171495', '182823', '176605', '165937', '170705', '147562', '168250', '135143', '171237', '137268', '157699', '171765', '160980', '161181', '174035', '166918']\n"
     ]
    }
   ],
   "source": [
    "for i in range(10):\n",
    "    print(rec_df.before_rerank_rec.iloc[i])"
   ]
  },
  {
   "cell_type": "code",
   "execution_count": 55,
   "metadata": {},
   "outputs": [
    {
     "name": "stdout",
     "output_type": "stream",
     "text": [
      "393/4893\n"
     ]
    }
   ],
   "source": [
    "st = set()\n",
    "for v in rec_df.before_rerank_rec:\n",
    "    for e in v:\n",
    "        st.add(e)\n",
    "print(f\"{len(st)}/{len(rec_df)}\")"
   ]
  },
  {
   "cell_type": "code",
   "execution_count": 56,
   "metadata": {},
   "outputs": [
    {
     "name": "stdout",
     "output_type": "stream",
     "text": [
      "25778/4893\n"
     ]
    }
   ],
   "source": [
    "st = set()\n",
    "for v in rec_df.target_items:\n",
    "    for e in v:\n",
    "        st.add(e)\n",
    "print(f\"{len(st)}/{len(rec_df)}\")"
   ]
  }
 ],
 "metadata": {
  "kernelspec": {
   "display_name": ".venv",
   "language": "python",
   "name": "python3"
  },
  "language_info": {
   "codemirror_mode": {
    "name": "ipython",
    "version": 3
   },
   "file_extension": ".py",
   "mimetype": "text/x-python",
   "name": "python",
   "nbconvert_exporter": "python",
   "pygments_lexer": "ipython3",
   "version": "3.11.6"
  }
 },
 "nbformat": 4,
 "nbformat_minor": 2
}

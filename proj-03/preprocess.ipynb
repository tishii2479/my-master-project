{
 "cells": [
  {
   "cell_type": "markdown",
   "metadata": {},
   "source": [
    "# 前処理\n",
    "\n",
    "購買データ、推薦データを以下の形式に変換する\n",
    "\n",
    "table: transaction\n",
    "| user_id | t | store_id | item_id |\n",
    "|---------|---|----------|---------|\n",
    "| 2375    | 0 | 0        | 0       |\n",
    "| 2375    | 0 | 1        | 1       |\n",
    "| 2375    | 0 | 1        | 1       |\n",
    "| 2375    | 1 | 0        | 1       |\n",
    "| 2380    | 0 | 1        | 0       |\n",
    "\n",
    "table: recommendation\n",
    "| t | store_id | item_ids     |\n",
    "|---|----------|--------------|\n",
    "| 0 | 0        | [0, 1, 3, 5] |\n",
    "| 1 | 0        | [0, 3, 4, 5] |\n",
    "| 3 | 1        | [2, 4, 5,6]  |"
   ]
  },
  {
   "cell_type": "code",
   "execution_count": 53,
   "metadata": {},
   "outputs": [],
   "source": [
    "import pandas as pd"
   ]
  },
  {
   "cell_type": "code",
   "execution_count": 54,
   "metadata": {},
   "outputs": [],
   "source": [
    "def data_path(file: str) -> str:\n",
    "    return f\"./data/dunnhumby_The-Complete-Journey/dunnhumby_The-Complete-Journey CSV/{file}\"\n",
    "\n",
    "transaction_df = pd.read_csv(data_path(\"transaction_data.csv\"))\n",
    "causal_df = pd.read_csv(data_path(\"causal_data.csv\"))"
   ]
  },
  {
   "cell_type": "markdown",
   "metadata": {},
   "source": [
    "Filtering\n",
    "- shops that have at least one visitor for each week\n",
    "- items recommended for at least one week on average among the shops\n",
    "- items that existed for at least half the period (47 weeks)\n",
    "- users visiting more than one store in at least five weeks"
   ]
  },
  {
   "cell_type": "code",
   "execution_count": 55,
   "metadata": {},
   "outputs": [],
   "source": [
    "causal_df = causal_df[causal_df.display != \"0\"]"
   ]
  },
  {
   "cell_type": "code",
   "execution_count": 56,
   "metadata": {},
   "outputs": [
    {
     "name": "stdout",
     "output_type": "stream",
     "text": [
      "452 1669 50\n"
     ]
    }
   ],
   "source": [
    "# shops that have at least one visitor for each week\n",
    "a = transaction_df.groupby(\"STORE_ID\")[\"WEEK_NO\"].nunique()\n",
    "valid_stores = set(a[a == transaction_df[\"WEEK_NO\"].max()].index)\n",
    "transaction_df = transaction_df[transaction_df[\"STORE_ID\"].isin(valid_stores)]\n",
    "causal_df = causal_df[causal_df[\"STORE_ID\"].isin(valid_stores)]\n",
    "\n",
    "# items recommended for at least one week on average among the shops\n",
    "a = causal_df[\"PRODUCT_ID\"].value_counts()\n",
    "valid_items1 = set(a[a >= transaction_df[\"WEEK_NO\"].max()].index)\n",
    "\n",
    "# items that existed for at least half the period (47 weeks)\n",
    "a = transaction_df.groupby(\"PRODUCT_ID\")[\"WEEK_NO\"].nunique()\n",
    "valid_items2 = set(a[a >= transaction_df[\"WEEK_NO\"].max() // 2].index)\n",
    "\n",
    "# users visiting more than one store in at least five weeks\n",
    "a = transaction_df.groupby([\"household_key\", \"WEEK_NO\"])[\"STORE_ID\"].nunique()\n",
    "a = a[a > 1].groupby(\"household_key\").count()\n",
    "\n",
    "valid_users = set(a[a >= 5].index)\n",
    "valid_items = valid_items1 & valid_items2\n",
    "print(len(valid_users), len(valid_items), len(valid_stores))\n",
    "\n",
    "transaction_df = transaction_df[transaction_df.PRODUCT_ID.isin(valid_items) & transaction_df.household_key.isin(valid_users)].reset_index(drop=True)\n",
    "causal_df = causal_df[causal_df.PRODUCT_ID.isin(valid_items)].reset_index(drop=True)"
   ]
  },
  {
   "cell_type": "code",
   "execution_count": 57,
   "metadata": {},
   "outputs": [
    {
     "data": {
      "text/html": [
       "<div>\n",
       "<style scoped>\n",
       "    .dataframe tbody tr th:only-of-type {\n",
       "        vertical-align: middle;\n",
       "    }\n",
       "\n",
       "    .dataframe tbody tr th {\n",
       "        vertical-align: top;\n",
       "    }\n",
       "\n",
       "    .dataframe thead th {\n",
       "        text-align: right;\n",
       "    }\n",
       "</style>\n",
       "<table border=\"1\" class=\"dataframe\">\n",
       "  <thead>\n",
       "    <tr style=\"text-align: right;\">\n",
       "      <th></th>\n",
       "      <th>household_key</th>\n",
       "      <th>BASKET_ID</th>\n",
       "      <th>DAY</th>\n",
       "      <th>PRODUCT_ID</th>\n",
       "      <th>QUANTITY</th>\n",
       "      <th>SALES_VALUE</th>\n",
       "      <th>STORE_ID</th>\n",
       "      <th>RETAIL_DISC</th>\n",
       "      <th>TRANS_TIME</th>\n",
       "      <th>WEEK_NO</th>\n",
       "      <th>COUPON_DISC</th>\n",
       "      <th>COUPON_MATCH_DISC</th>\n",
       "    </tr>\n",
       "  </thead>\n",
       "  <tbody>\n",
       "    <tr>\n",
       "      <th>0</th>\n",
       "      <td>1130</td>\n",
       "      <td>26984905972</td>\n",
       "      <td>1</td>\n",
       "      <td>833715</td>\n",
       "      <td>2</td>\n",
       "      <td>0.34</td>\n",
       "      <td>31642</td>\n",
       "      <td>-0.32</td>\n",
       "      <td>1340</td>\n",
       "      <td>1</td>\n",
       "      <td>0.0</td>\n",
       "      <td>0.0</td>\n",
       "    </tr>\n",
       "    <tr>\n",
       "      <th>1</th>\n",
       "      <td>1130</td>\n",
       "      <td>26984905972</td>\n",
       "      <td>1</td>\n",
       "      <td>1048462</td>\n",
       "      <td>1</td>\n",
       "      <td>1.19</td>\n",
       "      <td>31642</td>\n",
       "      <td>-0.80</td>\n",
       "      <td>1340</td>\n",
       "      <td>1</td>\n",
       "      <td>0.0</td>\n",
       "      <td>0.0</td>\n",
       "    </tr>\n",
       "    <tr>\n",
       "      <th>2</th>\n",
       "      <td>98</td>\n",
       "      <td>26984951769</td>\n",
       "      <td>1</td>\n",
       "      <td>878302</td>\n",
       "      <td>3</td>\n",
       "      <td>0.90</td>\n",
       "      <td>337</td>\n",
       "      <td>0.00</td>\n",
       "      <td>1937</td>\n",
       "      <td>1</td>\n",
       "      <td>0.0</td>\n",
       "      <td>0.0</td>\n",
       "    </tr>\n",
       "    <tr>\n",
       "      <th>3</th>\n",
       "      <td>98</td>\n",
       "      <td>26984951769</td>\n",
       "      <td>1</td>\n",
       "      <td>985911</td>\n",
       "      <td>1</td>\n",
       "      <td>1.25</td>\n",
       "      <td>337</td>\n",
       "      <td>-0.34</td>\n",
       "      <td>1937</td>\n",
       "      <td>1</td>\n",
       "      <td>0.0</td>\n",
       "      <td>0.0</td>\n",
       "    </tr>\n",
       "    <tr>\n",
       "      <th>4</th>\n",
       "      <td>1172</td>\n",
       "      <td>26985025264</td>\n",
       "      <td>1</td>\n",
       "      <td>930917</td>\n",
       "      <td>2</td>\n",
       "      <td>2.00</td>\n",
       "      <td>396</td>\n",
       "      <td>-0.78</td>\n",
       "      <td>946</td>\n",
       "      <td>1</td>\n",
       "      <td>0.0</td>\n",
       "      <td>0.0</td>\n",
       "    </tr>\n",
       "  </tbody>\n",
       "</table>\n",
       "</div>"
      ],
      "text/plain": [
       "   household_key    BASKET_ID  DAY  PRODUCT_ID  QUANTITY  SALES_VALUE  \\\n",
       "0           1130  26984905972    1      833715         2         0.34   \n",
       "1           1130  26984905972    1     1048462         1         1.19   \n",
       "2             98  26984951769    1      878302         3         0.90   \n",
       "3             98  26984951769    1      985911         1         1.25   \n",
       "4           1172  26985025264    1      930917         2         2.00   \n",
       "\n",
       "   STORE_ID  RETAIL_DISC  TRANS_TIME  WEEK_NO  COUPON_DISC  COUPON_MATCH_DISC  \n",
       "0     31642        -0.32        1340        1          0.0                0.0  \n",
       "1     31642        -0.80        1340        1          0.0                0.0  \n",
       "2       337         0.00        1937        1          0.0                0.0  \n",
       "3       337        -0.34        1937        1          0.0                0.0  \n",
       "4       396        -0.78         946        1          0.0                0.0  "
      ]
     },
     "execution_count": 57,
     "metadata": {},
     "output_type": "execute_result"
    }
   ],
   "source": [
    "transaction_df.head()"
   ]
  },
  {
   "cell_type": "code",
   "execution_count": 58,
   "metadata": {},
   "outputs": [
    {
     "data": {
      "text/html": [
       "<div>\n",
       "<style scoped>\n",
       "    .dataframe tbody tr th:only-of-type {\n",
       "        vertical-align: middle;\n",
       "    }\n",
       "\n",
       "    .dataframe tbody tr th {\n",
       "        vertical-align: top;\n",
       "    }\n",
       "\n",
       "    .dataframe thead th {\n",
       "        text-align: right;\n",
       "    }\n",
       "</style>\n",
       "<table border=\"1\" class=\"dataframe\">\n",
       "  <thead>\n",
       "    <tr style=\"text-align: right;\">\n",
       "      <th></th>\n",
       "      <th>PRODUCT_ID</th>\n",
       "      <th>STORE_ID</th>\n",
       "      <th>WEEK_NO</th>\n",
       "      <th>display</th>\n",
       "      <th>mailer</th>\n",
       "    </tr>\n",
       "  </thead>\n",
       "  <tbody>\n",
       "    <tr>\n",
       "      <th>0</th>\n",
       "      <td>819063</td>\n",
       "      <td>288</td>\n",
       "      <td>98</td>\n",
       "      <td>A</td>\n",
       "      <td>0</td>\n",
       "    </tr>\n",
       "    <tr>\n",
       "      <th>1</th>\n",
       "      <td>819063</td>\n",
       "      <td>292</td>\n",
       "      <td>22</td>\n",
       "      <td>4</td>\n",
       "      <td>A</td>\n",
       "    </tr>\n",
       "    <tr>\n",
       "      <th>2</th>\n",
       "      <td>819063</td>\n",
       "      <td>296</td>\n",
       "      <td>9</td>\n",
       "      <td>5</td>\n",
       "      <td>0</td>\n",
       "    </tr>\n",
       "    <tr>\n",
       "      <th>3</th>\n",
       "      <td>819063</td>\n",
       "      <td>296</td>\n",
       "      <td>22</td>\n",
       "      <td>5</td>\n",
       "      <td>A</td>\n",
       "    </tr>\n",
       "    <tr>\n",
       "      <th>4</th>\n",
       "      <td>819063</td>\n",
       "      <td>296</td>\n",
       "      <td>24</td>\n",
       "      <td>5</td>\n",
       "      <td>0</td>\n",
       "    </tr>\n",
       "  </tbody>\n",
       "</table>\n",
       "</div>"
      ],
      "text/plain": [
       "   PRODUCT_ID  STORE_ID  WEEK_NO display mailer\n",
       "0      819063       288       98       A      0\n",
       "1      819063       292       22       4      A\n",
       "2      819063       296        9       5      0\n",
       "3      819063       296       22       5      A\n",
       "4      819063       296       24       5      0"
      ]
     },
     "execution_count": 58,
     "metadata": {},
     "output_type": "execute_result"
    }
   ],
   "source": [
    "causal_df.head()"
   ]
  },
  {
   "cell_type": "code",
   "execution_count": 59,
   "metadata": {},
   "outputs": [],
   "source": [
    "transaction_df = transaction_df[[\"household_key\", \"WEEK_NO\", \"STORE_ID\", \"PRODUCT_ID\"]]\n",
    "causal_df = causal_df.groupby([\"WEEK_NO\", \"STORE_ID\"])[\"PRODUCT_ID\"].unique().rename(\"PRODUCT_IDS\").to_frame().reset_index()"
   ]
  },
  {
   "cell_type": "code",
   "execution_count": 60,
   "metadata": {},
   "outputs": [],
   "source": [
    "causal_df[\"PRODUCT_IDS\"] = causal_df[\"PRODUCT_IDS\"].apply(lambda s: \" \".join(map(str, s)))"
   ]
  },
  {
   "cell_type": "code",
   "execution_count": 61,
   "metadata": {},
   "outputs": [],
   "source": [
    "transaction_df = transaction_df.rename(\n",
    "    columns={\n",
    "        \"household_key\": \"user_id\",\n",
    "        \"WEEK_NO\": \"t\",\n",
    "        \"STORE_ID\": \"store_id\",\n",
    "        \"PRODUCT_ID\": \"item_id\",\n",
    "    }\n",
    ")\n",
    "causal_df = causal_df.rename(\n",
    "    columns={\"WEEK_NO\": \"t\", \"STORE_ID\": \"store_id\", \"PRODUCT_IDS\": \"item_ids\"}\n",
    ")"
   ]
  },
  {
   "cell_type": "code",
   "execution_count": 62,
   "metadata": {},
   "outputs": [],
   "source": [
    "transaction_df.to_csv(\"./data/preprocessed/transaction.csv\", index=False)\n",
    "causal_df.to_csv(\"./data/preprocessed/recommendation.csv\", index=False)"
   ]
  }
 ],
 "metadata": {
  "kernelspec": {
   "display_name": ".venv",
   "language": "python",
   "name": "python3"
  },
  "language_info": {
   "codemirror_mode": {
    "name": "ipython",
    "version": 3
   },
   "file_extension": ".py",
   "mimetype": "text/x-python",
   "name": "python",
   "nbconvert_exporter": "python",
   "pygments_lexer": "ipython3",
   "version": "3.9.16"
  }
 },
 "nbformat": 4,
 "nbformat_minor": 2
}

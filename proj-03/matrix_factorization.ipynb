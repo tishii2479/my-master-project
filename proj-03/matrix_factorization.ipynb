{
 "cells": [
  {
   "cell_type": "code",
   "execution_count": 1,
   "metadata": {},
   "outputs": [],
   "source": [
    "import numpy\n",
    "\n",
    "\n",
    "def get_rating_error(r, p, q):\n",
    "    return r - numpy.dot(p, q)\n",
    "\n",
    "\n",
    "def get_error(R, P, Q, beta):\n",
    "    error = 0.0\n",
    "    for i in range(len(R)):\n",
    "        for j in range(len(R[i])):\n",
    "            if R[i][j] == 0:\n",
    "                continue\n",
    "            error += pow(get_rating_error(R[i][j], P[:, i], Q[:, j]), 2)\n",
    "    error += beta / 2.0 * (numpy.linalg.norm(P) + numpy.linalg.norm(Q))\n",
    "    return error\n",
    "\n",
    "\n",
    "def matrix_factorization(R, K, steps=5000, alpha=0.0002, beta=0.02, threshold=0.001):\n",
    "    P = numpy.random.rand(K, len(R))\n",
    "    Q = numpy.random.rand(K, len(R[0]))\n",
    "    for step in range(steps):\n",
    "        for i in range(len(R)):\n",
    "            for j in range(len(R[i])):\n",
    "                if R[i][j] == 0:\n",
    "                    continue\n",
    "                err = get_rating_error(R[i][j], P[:, i], Q[:, j])\n",
    "                for k in range(K):\n",
    "                    P[k][i] += alpha * (2 * err * Q[k][j])\n",
    "                    Q[k][j] += alpha * (2 * err * P[k][i])\n",
    "        error = get_error(R, P, Q, beta)\n",
    "        if error < threshold:\n",
    "            break\n",
    "    return P, Q\n",
    "\n",
    "\n",
    "R = numpy.array(\n",
    "    [\n",
    "        [5, 3, 0, 1],\n",
    "        [4, 0, 0, 1],\n",
    "        [1, 1, 0, 5],\n",
    "        [1, 0, 0, 4],\n",
    "        [0, 1, 5, 4],\n",
    "    ]\n",
    ")\n",
    "nP, nQ = matrix_factorization(R, 2)\n",
    "nR = numpy.dot(nP.T, nQ)"
   ]
  }
 ],
 "metadata": {
  "kernelspec": {
   "display_name": ".venv",
   "language": "python",
   "name": "python3"
  },
  "language_info": {
   "codemirror_mode": {
    "name": "ipython",
    "version": 3
   },
   "file_extension": ".py",
   "mimetype": "text/x-python",
   "name": "python",
   "nbconvert_exporter": "python",
   "pygments_lexer": "ipython3",
   "version": "3.9.16"
  }
 },
 "nbformat": 4,
 "nbformat_minor": 2
}

{
 "cells": [
  {
   "cell_type": "code",
   "execution_count": 2,
   "metadata": {},
   "outputs": [],
   "source": [
    "import numpy as np\n",
    "import pandas as pd\n",
    "import matplotlib.pyplot as plt\n",
    "import torch\n",
    "import tqdm\n",
    "\n",
    "from util import *\n",
    "\n",
    "plt.style.use(\"ggplot\")"
   ]
  },
  {
   "cell_type": "code",
   "execution_count": 3,
   "metadata": {},
   "outputs": [
    {
     "name": "stdout",
     "output_type": "stream",
     "text": [
      "params: {'user_n': 1096, 'item_n': 3664}\n"
     ]
    }
   ],
   "source": [
    "df = pd.read_json(\"./data/preprocessed/preprocessed.json\", orient=\"index\")\n",
    "with open(\"./data/preprocessed/param.json\", \"r\") as f:\n",
    "    params = json.load(f)\n",
    "    print(\"params:\", params)\n",
    "\n",
    "user_n, item_n = params[\"user_n\"], params[\"item_n\"]"
   ]
  },
  {
   "cell_type": "code",
   "execution_count": 4,
   "metadata": {},
   "outputs": [
    {
     "data": {
      "text/html": [
       "<div>\n",
       "<style scoped>\n",
       "    .dataframe tbody tr th:only-of-type {\n",
       "        vertical-align: middle;\n",
       "    }\n",
       "\n",
       "    .dataframe tbody tr th {\n",
       "        vertical-align: top;\n",
       "    }\n",
       "\n",
       "    .dataframe thead th {\n",
       "        text-align: right;\n",
       "    }\n",
       "</style>\n",
       "<table border=\"1\" class=\"dataframe\">\n",
       "  <thead>\n",
       "    <tr style=\"text-align: right;\">\n",
       "      <th></th>\n",
       "      <th>valid_train_purchased_items</th>\n",
       "      <th>valid_eval_purchased_items</th>\n",
       "      <th>test_train_purchased_items</th>\n",
       "      <th>test_eval_purchased_items</th>\n",
       "      <th>valid_train_recommended_items</th>\n",
       "      <th>valid_eval_recommended_items</th>\n",
       "      <th>test_train_recommended_items</th>\n",
       "      <th>test_eval_recommended_items</th>\n",
       "    </tr>\n",
       "  </thead>\n",
       "  <tbody>\n",
       "    <tr>\n",
       "      <th>0</th>\n",
       "      <td>[3584, 2561, 3586, 3588, 3589, 3076, 522, 2061...</td>\n",
       "      <td>[2561, 516, 1157, 1159, 2061, 1038, 1171, 791,...</td>\n",
       "      <td>[3584, 2561, 3586, 3588, 3589, 3076, 516, 522,...</td>\n",
       "      <td>[2561, 3588, 3589, 2572, 2061, 2960, 277, 2972...</td>\n",
       "      <td>[0, 1, 2, 3, 4, 5, 6, 7, 8, 9, 10, 11, 12, 13,...</td>\n",
       "      <td>[2049, 1, 2, 4, 5, 9, 11, 12, 2059, 13, 18, 20...</td>\n",
       "      <td>[0, 1, 2, 3, 4, 5, 6, 7, 8, 9, 10, 11, 12, 13,...</td>\n",
       "      <td>[3, 4, 8, 10, 11, 16, 19, 32, 33, 34, 37, 42, ...</td>\n",
       "    </tr>\n",
       "    <tr>\n",
       "      <th>1</th>\n",
       "      <td>[0, 1, 3076, 3591, 2055, 1543, 2571, 2575, 206...</td>\n",
       "      <td>[1029, 1931, 2833, 2836, 2342, 1576, 303, 1969...</td>\n",
       "      <td>[0, 1, 3076, 1029, 3591, 2055, 1543, 2571, 257...</td>\n",
       "      <td>[130, 2055, 392, 137, 2824, 1931, 268, 1296, 2...</td>\n",
       "      <td>[0, 2, 3, 4, 5, 6, 7, 8, 10, 12, 13, 16, 19, 2...</td>\n",
       "      <td>[2048, 2049, 2, 5, 6, 2055, 9, 2059, 11, 13, 1...</td>\n",
       "      <td>[0, 2, 3, 4, 5, 6, 7, 8, 9, 10, 11, 12, 13, 16...</td>\n",
       "      <td>[2048, 1, 2049, 3, 5, 6, 7, 8, 2058, 2059, 19,...</td>\n",
       "    </tr>\n",
       "    <tr>\n",
       "      <th>2</th>\n",
       "      <td>[5, 2055, 2057, 2058, 2060, 2065, 2067, 2068, ...</td>\n",
       "      <td>[5, 2577, 1554, 531, 2068, 2075, 1564, 2082, 1...</td>\n",
       "      <td>[5, 2055, 2057, 2058, 2060, 2065, 2067, 2068, ...</td>\n",
       "      <td>[517, 2058, 1035, 2065, 2577, 1043, 2068, 531,...</td>\n",
       "      <td>[0, 1, 2, 3, 4, 5, 6, 7, 8, 9, 10, 11, 12, 13,...</td>\n",
       "      <td>[2, 5, 12, 13, 26, 27, 35, 42, 44, 47, 57, 58,...</td>\n",
       "      <td>[0, 1, 2, 3, 4, 5, 6, 7, 8, 9, 10, 11, 12, 13,...</td>\n",
       "      <td>[2, 3, 7, 10, 11, 19, 26, 29, 30, 33, 34, 41, ...</td>\n",
       "    </tr>\n",
       "    <tr>\n",
       "      <th>3</th>\n",
       "      <td>[1536, 3073, 4, 2570, 2571, 2060, 524, 1551, 3...</td>\n",
       "      <td>[2304, 2695, 906, 2060, 2957, 2446, 527, 1295,...</td>\n",
       "      <td>[1536, 3073, 4, 2570, 2571, 2060, 524, 1551, 5...</td>\n",
       "      <td>[906, 2446, 21, 802, 1061, 936, 937, 45, 2222,...</td>\n",
       "      <td>[0, 1, 2, 3, 4, 5, 6, 7, 8, 10, 11, 12, 13, 16...</td>\n",
       "      <td>[2049, 1, 2, 5, 2054, 2055, 11, 12, 2064, 2067...</td>\n",
       "      <td>[0, 1, 2, 3, 4, 5, 6, 7, 8, 10, 11, 12, 13, 16...</td>\n",
       "      <td>[2049, 3, 6, 2055, 2054, 2060, 2068, 2071, 25,...</td>\n",
       "    </tr>\n",
       "    <tr>\n",
       "      <th>4</th>\n",
       "      <td>[2571, 2069, 1564, 1054, 34, 2101, 2623, 2626,...</td>\n",
       "      <td>[1923, 3076, 1159, 2187, 1296, 1044, 1818, 924...</td>\n",
       "      <td>[3076, 2571, 1044, 2069, 1564, 1054, 34, 2101,...</td>\n",
       "      <td>[9, 143, 2071, 1176, 2331, 2086, 3116, 2222, 8...</td>\n",
       "      <td>[0, 6, 13, 26, 27, 29, 30, 31, 33, 34, 35, 38,...</td>\n",
       "      <td>[2049, 1029, 5, 1033, 1036, 2067, 2068, 2069, ...</td>\n",
       "      <td>[0, 5, 6, 13, 26, 27, 29, 30, 31, 33, 34, 35, ...</td>\n",
       "      <td>[1, 2049, 3, 1026, 6, 2055, 3078, 11, 2059, 30...</td>\n",
       "    </tr>\n",
       "  </tbody>\n",
       "</table>\n",
       "</div>"
      ],
      "text/plain": [
       "                         valid_train_purchased_items  \\\n",
       "0  [3584, 2561, 3586, 3588, 3589, 3076, 522, 2061...   \n",
       "1  [0, 1, 3076, 3591, 2055, 1543, 2571, 2575, 206...   \n",
       "2  [5, 2055, 2057, 2058, 2060, 2065, 2067, 2068, ...   \n",
       "3  [1536, 3073, 4, 2570, 2571, 2060, 524, 1551, 3...   \n",
       "4  [2571, 2069, 1564, 1054, 34, 2101, 2623, 2626,...   \n",
       "\n",
       "                          valid_eval_purchased_items  \\\n",
       "0  [2561, 516, 1157, 1159, 2061, 1038, 1171, 791,...   \n",
       "1  [1029, 1931, 2833, 2836, 2342, 1576, 303, 1969...   \n",
       "2  [5, 2577, 1554, 531, 2068, 2075, 1564, 2082, 1...   \n",
       "3  [2304, 2695, 906, 2060, 2957, 2446, 527, 1295,...   \n",
       "4  [1923, 3076, 1159, 2187, 1296, 1044, 1818, 924...   \n",
       "\n",
       "                          test_train_purchased_items  \\\n",
       "0  [3584, 2561, 3586, 3588, 3589, 3076, 516, 522,...   \n",
       "1  [0, 1, 3076, 1029, 3591, 2055, 1543, 2571, 257...   \n",
       "2  [5, 2055, 2057, 2058, 2060, 2065, 2067, 2068, ...   \n",
       "3  [1536, 3073, 4, 2570, 2571, 2060, 524, 1551, 5...   \n",
       "4  [3076, 2571, 1044, 2069, 1564, 1054, 34, 2101,...   \n",
       "\n",
       "                           test_eval_purchased_items  \\\n",
       "0  [2561, 3588, 3589, 2572, 2061, 2960, 277, 2972...   \n",
       "1  [130, 2055, 392, 137, 2824, 1931, 268, 1296, 2...   \n",
       "2  [517, 2058, 1035, 2065, 2577, 1043, 2068, 531,...   \n",
       "3  [906, 2446, 21, 802, 1061, 936, 937, 45, 2222,...   \n",
       "4  [9, 143, 2071, 1176, 2331, 2086, 3116, 2222, 8...   \n",
       "\n",
       "                       valid_train_recommended_items  \\\n",
       "0  [0, 1, 2, 3, 4, 5, 6, 7, 8, 9, 10, 11, 12, 13,...   \n",
       "1  [0, 2, 3, 4, 5, 6, 7, 8, 10, 12, 13, 16, 19, 2...   \n",
       "2  [0, 1, 2, 3, 4, 5, 6, 7, 8, 9, 10, 11, 12, 13,...   \n",
       "3  [0, 1, 2, 3, 4, 5, 6, 7, 8, 10, 11, 12, 13, 16...   \n",
       "4  [0, 6, 13, 26, 27, 29, 30, 31, 33, 34, 35, 38,...   \n",
       "\n",
       "                        valid_eval_recommended_items  \\\n",
       "0  [2049, 1, 2, 4, 5, 9, 11, 12, 2059, 13, 18, 20...   \n",
       "1  [2048, 2049, 2, 5, 6, 2055, 9, 2059, 11, 13, 1...   \n",
       "2  [2, 5, 12, 13, 26, 27, 35, 42, 44, 47, 57, 58,...   \n",
       "3  [2049, 1, 2, 5, 2054, 2055, 11, 12, 2064, 2067...   \n",
       "4  [2049, 1029, 5, 1033, 1036, 2067, 2068, 2069, ...   \n",
       "\n",
       "                        test_train_recommended_items  \\\n",
       "0  [0, 1, 2, 3, 4, 5, 6, 7, 8, 9, 10, 11, 12, 13,...   \n",
       "1  [0, 2, 3, 4, 5, 6, 7, 8, 9, 10, 11, 12, 13, 16...   \n",
       "2  [0, 1, 2, 3, 4, 5, 6, 7, 8, 9, 10, 11, 12, 13,...   \n",
       "3  [0, 1, 2, 3, 4, 5, 6, 7, 8, 10, 11, 12, 13, 16...   \n",
       "4  [0, 5, 6, 13, 26, 27, 29, 30, 31, 33, 34, 35, ...   \n",
       "\n",
       "                         test_eval_recommended_items  \n",
       "0  [3, 4, 8, 10, 11, 16, 19, 32, 33, 34, 37, 42, ...  \n",
       "1  [2048, 1, 2049, 3, 5, 6, 7, 8, 2058, 2059, 19,...  \n",
       "2  [2, 3, 7, 10, 11, 19, 26, 29, 30, 33, 34, 41, ...  \n",
       "3  [2049, 3, 6, 2055, 2054, 2060, 2068, 2071, 25,...  \n",
       "4  [1, 2049, 3, 1026, 6, 2055, 3078, 11, 2059, 30...  "
      ]
     },
     "execution_count": 4,
     "metadata": {},
     "output_type": "execute_result"
    }
   ],
   "source": [
    "df.head()"
   ]
  },
  {
   "cell_type": "code",
   "execution_count": null,
   "metadata": {},
   "outputs": [],
   "source": [
    "uplift_based_nn_model, losses, results = train_nn(\n",
    "    df=df,\n",
    "    user_n=user_n,\n",
    "    item_n=item_n,\n",
    "    args=Args(batch_size=1000, epochs=5000, model=\"nn\", lmda=1e-4),\n",
    ")\n",
    "\n",
    "accuracy_based_nn_model, losses, results = train_nn(\n",
    "    df=df,\n",
    "    user_n=user_n,\n",
    "    item_n=item_n,\n",
    "    args=Args(\n",
    "        batch_size=1000,\n",
    "        epochs=5000,\n",
    "        sampling=\"accuracy-based-pointwise\",\n",
    "        model=\"nn\",\n",
    "        lmda=1e-4,\n",
    "    ),\n",
    ")"
   ]
  },
  {
   "cell_type": "code",
   "execution_count": 14,
   "metadata": {},
   "outputs": [
    {
     "name": "stdout",
     "output_type": "stream",
     "text": [
      "Args(exp_name=None, mode='valid', model='mf', sampling='uplift-based-pointwise', seed=0, alpha=0.6, gamma_p=0.2, gamma_r=0.5, eta=0.01, lmda=1e-08, d=100, batch_size=1000, eval_step=1000, epochs=5000, device='cpu')\n",
      "[1000/5000] 1.8033\r"
     ]
    },
    {
     "name": "stderr",
     "output_type": "stream",
     "text": [
      "100%|██████████| 1096/1096 [00:01<00:00, 1042.62it/s]\n"
     ]
    },
    {
     "name": "stdout",
     "output_type": "stream",
     "text": [
      "{'Accuracy@10': 0.017573696145124718, 'Uplift@10': 0.02185329158118274, 'Accuracy@30': 0.010342417889587702, 'Uplift@30': 0.009329523461187424, 'Accuracy@100': 0.00669606512890095, 'Uplift@100': 0.005742563617488554}\n",
      "[2000/5000] 0.79946\r"
     ]
    },
    {
     "name": "stderr",
     "output_type": "stream",
     "text": [
      "100%|██████████| 1096/1096 [00:01<00:00, 1058.07it/s]\n"
     ]
    },
    {
     "name": "stdout",
     "output_type": "stream",
     "text": [
      "{'Accuracy@10': 0.04450800915331808, 'Uplift@10': 0.08089835094983831, 'Accuracy@30': 0.024139756484912653, 'Uplift@30': 0.031699100671614806, 'Accuracy@100': 0.013318538750426767, 'Uplift@100': 0.01695021479510301}\n",
      "[3000/5000] 0.63014\r"
     ]
    },
    {
     "name": "stderr",
     "output_type": "stream",
     "text": [
      "100%|██████████| 1096/1096 [00:01<00:00, 1068.53it/s]\n"
     ]
    },
    {
     "name": "stdout",
     "output_type": "stream",
     "text": [
      "{'Accuracy@10': 0.06494192185850053, 'Uplift@10': 0.10179723772648784, 'Accuracy@30': 0.032912245241704566, 'Uplift@30': 0.04458180940585397, 'Accuracy@100': 0.016821192052980133, 'Uplift@100': 0.02321171177296936}\n",
      "[4000/5000] 0.62313\r"
     ]
    },
    {
     "name": "stderr",
     "output_type": "stream",
     "text": [
      "100%|██████████| 1096/1096 [00:01<00:00, 928.60it/s]\n"
     ]
    },
    {
     "name": "stdout",
     "output_type": "stream",
     "text": [
      "{'Accuracy@10': 0.08336798336798337, 'Uplift@10': 0.09542042042042027, 'Accuracy@30': 0.042056701895655094, 'Uplift@30': 0.04636489560970857, 'Accuracy@100': 0.02014200792602378, 'Uplift@100': 0.023758533966223475}\n",
      "[5000/5000] 0.62913\r"
     ]
    },
    {
     "name": "stderr",
     "output_type": "stream",
     "text": [
      "100%|██████████| 1096/1096 [00:01<00:00, 1060.73it/s]\n"
     ]
    },
    {
     "name": "stdout",
     "output_type": "stream",
     "text": [
      "{'Accuracy@10': 0.10734406438631791, 'Uplift@10': 0.09457858260675153, 'Accuracy@30': 0.05183720547042346, 'Uplift@30': 0.04808805010299157, 'Accuracy@100': 0.023556499020248204, 'Uplift@100': 0.025985973562311766}\n",
      "Args(exp_name=None, mode='valid', model='mf', sampling='accuracy-based-pointwise', seed=0, alpha=0.6, gamma_p=0.2, gamma_r=0.5, eta=0.01, lmda=1e-08, d=100, batch_size=1000, eval_step=1000, epochs=5000, device='cpu')\n",
      "[1000/5000] 1.05112\r"
     ]
    },
    {
     "name": "stderr",
     "output_type": "stream",
     "text": [
      "100%|██████████| 1096/1096 [00:01<00:00, 889.45it/s]\n"
     ]
    },
    {
     "name": "stdout",
     "output_type": "stream",
     "text": [
      "{'Accuracy@10': 0.049533678756476685, 'Uplift@10': 0.03465046467637141, 'Accuracy@30': 0.02875, 'Uplift@30': 0.016817996278090955, 'Accuracy@100': 0.016198618875369945, 'Uplift@100': 0.010104249854095809}\n",
      "[2000/5000] 0.60528\r"
     ]
    },
    {
     "name": "stderr",
     "output_type": "stream",
     "text": [
      "100%|██████████| 1096/1096 [00:01<00:00, 983.03it/s]\n"
     ]
    },
    {
     "name": "stdout",
     "output_type": "stream",
     "text": [
      "{'Accuracy@10': 0.07341389728096677, 'Uplift@10': 0.044278601000655324, 'Accuracy@30': 0.04118226600985222, 'Uplift@30': 0.020330550732563953, 'Accuracy@100': 0.02358515141647672, 'Uplift@100': 0.011596427979388051}\n",
      "[3000/5000] 0.38197\r"
     ]
    },
    {
     "name": "stderr",
     "output_type": "stream",
     "text": [
      "100%|██████████| 1096/1096 [00:01<00:00, 1034.31it/s]\n"
     ]
    },
    {
     "name": "stdout",
     "output_type": "stream",
     "text": [
      "{'Accuracy@10': 0.09807692307692308, 'Uplift@10': 0.026869256474519647, 'Accuracy@30': 0.05751440329218107, 'Uplift@30': 0.02102907103232581, 'Accuracy@100': 0.03250815394651011, 'Uplift@100': 0.013223100854302557}\n",
      "[4000/5000] 0.34157\r"
     ]
    },
    {
     "name": "stderr",
     "output_type": "stream",
     "text": [
      "100%|██████████| 1096/1096 [00:01<00:00, 1010.40it/s]\n"
     ]
    },
    {
     "name": "stdout",
     "output_type": "stream",
     "text": [
      "{'Accuracy@10': 0.11814516129032257, 'Uplift@10': 0.05467509920634924, 'Accuracy@30': 0.06778435239973701, 'Uplift@30': 0.02615848377226902, 'Accuracy@100': 0.03814923427826653, 'Uplift@100': 0.014612522585775058}\n",
      "[5000/5000] 0.32203\r"
     ]
    },
    {
     "name": "stderr",
     "output_type": "stream",
     "text": [
      "100%|██████████| 1096/1096 [00:01<00:00, 996.00it/s] \n"
     ]
    },
    {
     "name": "stdout",
     "output_type": "stream",
     "text": [
      "{'Accuracy@10': 0.12441977800201816, 'Uplift@10': 0.05890955103871345, 'Accuracy@30': 0.07294852820259826, 'Uplift@30': 0.026303991165494426, 'Accuracy@100': 0.04070730117340287, 'Uplift@100': 0.01506724779020716}\n"
     ]
    }
   ],
   "source": [
    "uplift_based_mf_model, losses, results = train_nn(\n",
    "    df=df,\n",
    "    user_n=user_n,\n",
    "    item_n=item_n,\n",
    "    args=Args(batch_size=1000, epochs=5000, model=\"mf\", lmda=1e-8),\n",
    ")\n",
    "\n",
    "accuracy_based_mf_model, losses, results = train_nn(\n",
    "    df=df,\n",
    "    user_n=user_n,\n",
    "    item_n=item_n,\n",
    "    args=Args(\n",
    "        batch_size=1000,\n",
    "        epochs=5000,\n",
    "        sampling=\"accuracy-based-pointwise\",\n",
    "        model=\"mf\",\n",
    "        lmda=1e-8,\n",
    "    ),\n",
    ")"
   ]
  },
  {
   "cell_type": "code",
   "execution_count": 24,
   "metadata": {},
   "outputs": [
    {
     "name": "stderr",
     "output_type": "stream",
     "text": [
      "100%|██████████| 1096/1096 [00:01<00:00, 759.54it/s]\n"
     ]
    },
    {
     "data": {
      "image/png": "[encoded data removed]",
      "text/plain": [
       "<Figure size 640x480 with 1 Axes>"
      ]
     },
     "metadata": {},
     "output_type": "display_data"
    },
    {
     "name": "stdout",
     "output_type": "stream",
     "text": [
      "7.514071032278732\n"
     ]
    },
    {
     "name": "stderr",
     "output_type": "stream",
     "text": [
      "100%|██████████| 1096/1096 [00:01<00:00, 753.63it/s]\n"
     ]
    },
    {
     "data": {
      "image/png": "[encoded data removed]",
      "text/plain": [
       "<Figure size 640x480 with 1 Axes>"
      ]
     },
     "metadata": {},
     "output_type": "display_data"
    },
    {
     "name": "stdout",
     "output_type": "stream",
     "text": [
      "7.389277502185245\n"
     ]
    }
   ],
   "source": [
    "k = 10\n",
    "\n",
    "for model in [uplift_based_mf_model, accuracy_based_mf_model]:\n",
    "    model.eval()\n",
    "    s = []\n",
    "    for u in tqdm.tqdm(range(user_n)):\n",
    "        y = model.forward(\n",
    "            u=torch.LongTensor([u] * item_n),\n",
    "            i=torch.arange(item_n),\n",
    "        )\n",
    "        rec_list = y.argsort().cpu().detach().numpy()[::-1][:k].tolist()\n",
    "        embeddings = accuracy_based_mf_model.item_embedding.forward(\n",
    "            torch.LongTensor(rec_list)\n",
    "        ).cpu().detach().numpy()\n",
    "\n",
    "        d = 0\n",
    "        for i in range(k):\n",
    "            for j in range(k):\n",
    "                d += np.linalg.norm(embeddings[i] - embeddings[j])\n",
    "        d /= k * k\n",
    "        s.append(d)\n",
    "\n",
    "    plt.hist(s)\n",
    "    plt.show()\n",
    "    print(sum(s) / len(s))"
   ]
  },
  {
   "cell_type": "code",
   "execution_count": null,
   "metadata": {},
   "outputs": [],
   "source": []
  }
 ],
 "metadata": {
  "kernelspec": {
   "display_name": ".venv",
   "language": "python",
   "name": "python3"
  },
  "language_info": {
   "codemirror_mode": {
    "name": "ipython",
    "version": 3
   },
   "file_extension": ".py",
   "mimetype": "text/x-python",
   "name": "python",
   "nbconvert_exporter": "python",
   "pygments_lexer": "ipython3",
   "version": "3.9.16"
  }
 },
 "nbformat": 4,
 "nbformat_minor": 2
}

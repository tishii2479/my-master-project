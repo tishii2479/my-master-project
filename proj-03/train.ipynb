{
 "cells": [
  {
   "cell_type": "code",
   "execution_count": 47,
   "metadata": {},
   "outputs": [],
   "source": [
    "import pandas as pd\n",
    "import numpy as np\n",
    "import tqdm\n",
    "import json\n",
    "import matplotlib.pyplot as plt\n",
    "\n",
    "tqdm.tqdm.pandas()\n",
    "plt.style.use(\"ggplot\")"
   ]
  },
  {
   "cell_type": "code",
   "execution_count": 48,
   "metadata": {},
   "outputs": [],
   "source": [
    "df = pd.read_json(\"./data/preprocessed/preprocessed.json\", orient=\"index\")\n",
    "with open(\"./data/preprocessed/param.json\", \"r\") as f:\n",
    "    params = json.load(f)"
   ]
  },
  {
   "cell_type": "code",
   "execution_count": 49,
   "metadata": {},
   "outputs": [
    {
     "data": {
      "text/html": [
       "<div>\n",
       "<style scoped>\n",
       "    .dataframe tbody tr th:only-of-type {\n",
       "        vertical-align: middle;\n",
       "    }\n",
       "\n",
       "    .dataframe tbody tr th {\n",
       "        vertical-align: top;\n",
       "    }\n",
       "\n",
       "    .dataframe thead th {\n",
       "        text-align: right;\n",
       "    }\n",
       "</style>\n",
       "<table border=\"1\" class=\"dataframe\">\n",
       "  <thead>\n",
       "    <tr style=\"text-align: right;\">\n",
       "      <th></th>\n",
       "      <th>valid_train_purchased_items</th>\n",
       "      <th>valid_eval_purchased_items</th>\n",
       "      <th>test_train_purchased_items</th>\n",
       "      <th>test_eval_purchased_items</th>\n",
       "      <th>valid_train_recommended_items</th>\n",
       "      <th>test_train_recommended_items</th>\n",
       "    </tr>\n",
       "  </thead>\n",
       "  <tbody>\n",
       "    <tr>\n",
       "      <th>0</th>\n",
       "      <td>[0, 1538, 515, 1029, 525, 1038, 1554, 1044, 53...</td>\n",
       "      <td>[740, 106, 657, 755, 986, 635]</td>\n",
       "      <td>[0, 1538, 515, 1029, 525, 1038, 1554, 1044, 53...</td>\n",
       "      <td>[899, 261, 139, 1419, 657, 1426, 1428, 533, 79...</td>\n",
       "      <td>[1, 2, 3, 4, 5, 6, 8, 10, 11, 14, 16, 17, 20, ...</td>\n",
       "      <td>[1, 2, 3, 4, 5, 6, 8, 10, 11, 14, 16, 17, 20, ...</td>\n",
       "    </tr>\n",
       "    <tr>\n",
       "      <th>1</th>\n",
       "      <td>[11, 14, 24, 25, 29, 31, 36, 37, 41, 43, 61, 6...</td>\n",
       "      <td>[1664, 261, 1419, 782, 1550, 1038, 785, 1554, ...</td>\n",
       "      <td>[11, 14, 24, 25, 29, 31, 36, 37, 41, 43, 61, 6...</td>\n",
       "      <td>[520, 20, 1044, 24, 28, 1054, 542, 36, 562, 10...</td>\n",
       "      <td>[0, 1, 2, 3, 4, 6, 7, 10, 11, 13, 14, 16, 17, ...</td>\n",
       "      <td>[0, 1, 2, 3, 4, 6, 7, 8, 10, 11, 13, 14, 16, 1...</td>\n",
       "    </tr>\n",
       "    <tr>\n",
       "      <th>2</th>\n",
       "      <td>[1538, 4, 1541, 389, 1543, 1160, 1292, 1421, 9...</td>\n",
       "      <td>[834, 612, 1541, 842, 1421, 1136, 849, 912, 15...</td>\n",
       "      <td>[1538, 4, 1541, 389, 1543, 1160, 1292, 1421, 9...</td>\n",
       "      <td>[576, 834, 612, 1541, 614, 325, 877, 912, 1136...</td>\n",
       "      <td>[0, 1, 3, 4, 5, 6, 7, 10, 11, 12, 14, 15, 16, ...</td>\n",
       "      <td>[0, 1, 3, 4, 5, 6, 7, 8, 10, 11, 12, 14, 15, 1...</td>\n",
       "    </tr>\n",
       "    <tr>\n",
       "      <th>3</th>\n",
       "      <td>[0, 3, 517, 5, 1035, 15, 1047, 1050, 1063, 107...</td>\n",
       "      <td>[769, 4, 1425, 790, 1431, 1195, 1078, 1208, 19...</td>\n",
       "      <td>[0, 3, 4, 517, 5, 1035, 15, 1047, 1050, 1063, ...</td>\n",
       "      <td>[1152, 128, 1416, 268, 1425, 1426, 1183, 1317,...</td>\n",
       "      <td>[0, 1, 2, 3, 6, 7, 13, 14, 16, 17, 18, 20, 21,...</td>\n",
       "      <td>[0, 1, 2, 3, 6, 7, 13, 14, 16, 17, 18, 20, 21,...</td>\n",
       "    </tr>\n",
       "    <tr>\n",
       "      <th>4</th>\n",
       "      <td>[640, 771, 4, 774, 646, 9, 783, 657, 1042, 142...</td>\n",
       "      <td>[832, 834, 771, 1060, 1125, 710, 966, 840, 157...</td>\n",
       "      <td>[4, 9, 1550, 1042, 1564, 1570, 1060, 1573, 157...</td>\n",
       "      <td>None</td>\n",
       "      <td>[0, 1, 2, 3, 4, 6, 7, 9, 10, 14, 16, 17, 19, 2...</td>\n",
       "      <td>[0, 1, 2, 3, 4, 6, 7, 9, 10, 14, 16, 17, 19, 2...</td>\n",
       "    </tr>\n",
       "  </tbody>\n",
       "</table>\n",
       "</div>"
      ],
      "text/plain": [
       "                         valid_train_purchased_items  \\\n",
       "0  [0, 1538, 515, 1029, 525, 1038, 1554, 1044, 53...   \n",
       "1  [11, 14, 24, 25, 29, 31, 36, 37, 41, 43, 61, 6...   \n",
       "2  [1538, 4, 1541, 389, 1543, 1160, 1292, 1421, 9...   \n",
       "3  [0, 3, 517, 5, 1035, 15, 1047, 1050, 1063, 107...   \n",
       "4  [640, 771, 4, 774, 646, 9, 783, 657, 1042, 142...   \n",
       "\n",
       "                          valid_eval_purchased_items  \\\n",
       "0                     [740, 106, 657, 755, 986, 635]   \n",
       "1  [1664, 261, 1419, 782, 1550, 1038, 785, 1554, ...   \n",
       "2  [834, 612, 1541, 842, 1421, 1136, 849, 912, 15...   \n",
       "3  [769, 4, 1425, 790, 1431, 1195, 1078, 1208, 19...   \n",
       "4  [832, 834, 771, 1060, 1125, 710, 966, 840, 157...   \n",
       "\n",
       "                          test_train_purchased_items  \\\n",
       "0  [0, 1538, 515, 1029, 525, 1038, 1554, 1044, 53...   \n",
       "1  [11, 14, 24, 25, 29, 31, 36, 37, 41, 43, 61, 6...   \n",
       "2  [1538, 4, 1541, 389, 1543, 1160, 1292, 1421, 9...   \n",
       "3  [0, 3, 4, 517, 5, 1035, 15, 1047, 1050, 1063, ...   \n",
       "4  [4, 9, 1550, 1042, 1564, 1570, 1060, 1573, 157...   \n",
       "\n",
       "                           test_eval_purchased_items  \\\n",
       "0  [899, 261, 139, 1419, 657, 1426, 1428, 533, 79...   \n",
       "1  [520, 20, 1044, 24, 28, 1054, 542, 36, 562, 10...   \n",
       "2  [576, 834, 612, 1541, 614, 325, 877, 912, 1136...   \n",
       "3  [1152, 128, 1416, 268, 1425, 1426, 1183, 1317,...   \n",
       "4                                               None   \n",
       "\n",
       "                       valid_train_recommended_items  \\\n",
       "0  [1, 2, 3, 4, 5, 6, 8, 10, 11, 14, 16, 17, 20, ...   \n",
       "1  [0, 1, 2, 3, 4, 6, 7, 10, 11, 13, 14, 16, 17, ...   \n",
       "2  [0, 1, 3, 4, 5, 6, 7, 10, 11, 12, 14, 15, 16, ...   \n",
       "3  [0, 1, 2, 3, 6, 7, 13, 14, 16, 17, 18, 20, 21,...   \n",
       "4  [0, 1, 2, 3, 4, 6, 7, 9, 10, 14, 16, 17, 19, 2...   \n",
       "\n",
       "                        test_train_recommended_items  \n",
       "0  [1, 2, 3, 4, 5, 6, 8, 10, 11, 14, 16, 17, 20, ...  \n",
       "1  [0, 1, 2, 3, 4, 6, 7, 8, 10, 11, 13, 14, 16, 1...  \n",
       "2  [0, 1, 3, 4, 5, 6, 7, 8, 10, 11, 12, 14, 15, 1...  \n",
       "3  [0, 1, 2, 3, 6, 7, 13, 14, 16, 17, 18, 20, 21,...  \n",
       "4  [0, 1, 2, 3, 4, 6, 7, 9, 10, 14, 16, 17, 19, 2...  "
      ]
     },
     "execution_count": 49,
     "metadata": {},
     "output_type": "execute_result"
    }
   ],
   "source": [
    "df.head()"
   ]
  },
  {
   "cell_type": "code",
   "execution_count": 50,
   "metadata": {},
   "outputs": [
    {
     "data": {
      "text/plain": [
       "{'user_n': 452, 'item_n': 1669}"
      ]
     },
     "execution_count": 50,
     "metadata": {},
     "output_type": "execute_result"
    }
   ],
   "source": [
    "params"
   ]
  },
  {
   "cell_type": "code",
   "execution_count": 79,
   "metadata": {},
   "outputs": [
    {
     "name": "stdout",
     "output_type": "stream",
     "text": [
      "user_n = 452, item_n = 1669\n"
     ]
    }
   ],
   "source": [
    "MODE = \"valid\"\n",
    "SEED = 0\n",
    "ALPHA = 0.6\n",
    "GAMMA_P = 0.2\n",
    "GAMMA_R = 0.5\n",
    "ETA = 1e-2\n",
    "LAMBDA = 1e-6\n",
    "D = 100\n",
    "BATCH_SIZE = 1\n",
    "\n",
    "USER_N = params[\"user_n\"]\n",
    "ITEM_N = params[\"item_n\"]\n",
    "\n",
    "print(f\"user_n = {USER_N}, item_n = {ITEM_N}\")"
   ]
  },
  {
   "cell_type": "code",
   "execution_count": 80,
   "metadata": {},
   "outputs": [
    {
     "name": "stdout",
     "output_type": "stream",
     "text": [
      "p = [0.1, 0.4, 0.5]\n"
     ]
    }
   ],
   "source": [
    "rnd = np.random.RandomState(SEED)\n",
    "\n",
    "X_u = rnd.normal(size=(USER_N, D))\n",
    "X_v = rnd.normal(size=(ITEM_N, D))\n",
    "\n",
    "C_RP = 0\n",
    "C_NR_NP = 1\n",
    "C_other = 2\n",
    "p_C_RP = GAMMA_P * GAMMA_R\n",
    "p_C_NR_NP = (1 - GAMMA_P) * (1 - GAMMA_R)\n",
    "p_C_other = 1 - p_C_RP - p_C_NR_NP\n",
    "\n",
    "EPS = 1e-4\n",
    "\n",
    "print(\"p =\", [p_C_RP, p_C_NR_NP, p_C_other])"
   ]
  },
  {
   "cell_type": "code",
   "execution_count": 81,
   "metadata": {},
   "outputs": [],
   "source": [
    "df_dict = df.to_dict(orient=\"index\")"
   ]
  },
  {
   "cell_type": "code",
   "execution_count": 82,
   "metadata": {},
   "outputs": [],
   "source": [
    "def sigmoid(x):\n",
    "    return 1 / (1 + np.exp(-x))"
   ]
  },
  {
   "cell_type": "code",
   "execution_count": 87,
   "metadata": {},
   "outputs": [
    {
     "name": "stdout",
     "output_type": "stream",
     "text": [
      "[   1000000 / 1000000] 0.83418124\r"
     ]
    }
   ],
   "source": [
    "losses = []\n",
    "\n",
    "EPOCHS = 1_000_000\n",
    "STEP_SIZE = 1_000\n",
    "\n",
    "for t in range(EPOCHS):\n",
    "    u = rnd.randint(0, USER_N)\n",
    "    C = rnd.choice([C_RP, C_NR_NP, C_other], p=[p_C_RP, p_C_NR_NP, p_C_other])\n",
    "\n",
    "    if C == C_RP:\n",
    "        r_ui = 1\n",
    "\n",
    "        while True:\n",
    "            i = rnd.choice(df_dict[u][f\"{MODE}_train_purchased_items\"])\n",
    "            if i in df_dict[u][f\"{MODE}_train_recommended_items\"]:\n",
    "                break\n",
    "    elif C == C_NR_NP:\n",
    "        if rnd.random() <= ALPHA:\n",
    "            r_ui = 1\n",
    "        else:\n",
    "            r_ui = 0\n",
    "\n",
    "        while True:\n",
    "            i = rnd.randint(0, ITEM_N)\n",
    "            if (\n",
    "                i in df_dict[u][f\"{MODE}_train_purchased_items\"]\n",
    "                and i not in df_dict[u][f\"{MODE}_train_recommended_items\"]\n",
    "            ) or (\n",
    "                i not in df_dict[u][f\"{MODE}_train_purchased_items\"]\n",
    "                and i in df_dict[u][f\"{MODE}_train_recommended_items\"]\n",
    "            ):\n",
    "                break\n",
    "    else:\n",
    "        r_ui = 0\n",
    "\n",
    "        while True:\n",
    "            i = rnd.randint(0, ITEM_N)\n",
    "            if (\n",
    "                i not in df_dict[u][f\"{MODE}_train_purchased_items\"]\n",
    "                and i not in df_dict[u][f\"{MODE}_train_recommended_items\"]\n",
    "            ):\n",
    "                break\n",
    "\n",
    "    x_ui = sigmoid(np.dot(X_u[u], X_v[i]))\n",
    "\n",
    "    X_u[u] -= ETA * (x_ui - r_ui) * X_v[i] + 2 * LAMBDA * X_u[u]\n",
    "    X_v[i] -= ETA * (x_ui - r_ui) * X_u[u] + 2 * LAMBDA * X_v[i]\n",
    "\n",
    "    L = -(r_ui * np.log(max(EPS, x_ui)) + (1 - r_ui) * np.log(max(EPS, 1 - x_ui)))\n",
    "\n",
    "    if (t + 1) % STEP_SIZE == 0:\n",
    "        print(\n",
    "            f\"[{t + 1:8}/{EPOCHS}] {sum(losses[-STEP_SIZE:]) / STEP_SIZE:.8}\",\n",
    "            end=\"\\r\",\n",
    "        )\n",
    "    losses.append(L)"
   ]
  },
  {
   "cell_type": "code",
   "execution_count": 90,
   "metadata": {},
   "outputs": [
    {
     "data": {
      "text/plain": [
       "Text(0, 0.5, 'loss')"
      ]
     },
     "execution_count": 90,
     "metadata": {},
     "output_type": "execute_result"
    },
    {
     "data": {
      "image/png": "[encoded data removed]",
      "text/plain": [
       "<Figure size 640x480 with 1 Axes>"
      ]
     },
     "metadata": {},
     "output_type": "display_data"
    }
   ],
   "source": [
    "plt.plot([sum(losses[i : i + STEP_SIZE]) / STEP_SIZE for i in range(STEP_SIZE, EPOCHS, STEP_SIZE)])\n",
    "plt.xlabel(\"epoch\")\n",
    "plt.ylabel(\"loss\")"
   ]
  },
  {
   "cell_type": "code",
   "execution_count": 89,
   "metadata": {},
   "outputs": [
    {
     "name": "stdout",
     "output_type": "stream",
     "text": [
      "Accuracy = 0.02935103244837758\n"
     ]
    }
   ],
   "source": [
    "K = 30\n",
    "acc = 0\n",
    "\n",
    "for u in range(USER_N):\n",
    "    if df_dict[u][\"valid_eval_purchased_items\"] is None:\n",
    "        continue\n",
    "    v = len(set(np.matmul(X_u[u], X_v.T).argsort()[-K:]) & set(df_dict[u][\"valid_eval_purchased_items\"]))\n",
    "    acc += v\n",
    "\n",
    "print(f\"Accuracy = {acc / USER_N / K}\")"
   ]
  },
  {
   "cell_type": "markdown",
   "metadata": {},
   "source": [
    "$$\n",
    "-(r_{ui} \\log \\sigma (\\hat{x}_{ui}) + (1 - r_{ui}) \\log (1 - \\sigma (\\hat{x}_{ui})))\n",
    "$$"
   ]
  }
 ],
 "metadata": {
  "kernelspec": {
   "display_name": ".venv",
   "language": "python",
   "name": "python3"
  },
  "language_info": {
   "codemirror_mode": {
    "name": "ipython",
    "version": 3
   },
   "file_extension": ".py",
   "mimetype": "text/x-python",
   "name": "python",
   "nbconvert_exporter": "python",
   "pygments_lexer": "ipython3",
   "version": "3.9.16"
  }
 },
 "nbformat": 4,
 "nbformat_minor": 2
}

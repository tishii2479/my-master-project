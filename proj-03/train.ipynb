{
 "cells": [
  {
   "cell_type": "code",
   "execution_count": 255,
   "metadata": {},
   "outputs": [],
   "source": [
    "import pandas as pd\n",
    "import numpy as np\n",
    "import tqdm\n",
    "import json\n",
    "import matplotlib.pyplot as plt\n",
    "\n",
    "tqdm.tqdm.pandas()\n",
    "plt.style.use(\"ggplot\")"
   ]
  },
  {
   "cell_type": "code",
   "execution_count": 256,
   "metadata": {},
   "outputs": [],
   "source": [
    "df = pd.read_json(\"./data/preprocessed/preprocessed.json\", orient=\"index\")\n",
    "with open(\"./data/preprocessed/param.json\", \"r\") as f:\n",
    "    params = json.load(f)"
   ]
  },
  {
   "cell_type": "code",
   "execution_count": 257,
   "metadata": {},
   "outputs": [
    {
     "data": {
      "text/html": [
       "<div>\n",
       "<style scoped>\n",
       "    .dataframe tbody tr th:only-of-type {\n",
       "        vertical-align: middle;\n",
       "    }\n",
       "\n",
       "    .dataframe tbody tr th {\n",
       "        vertical-align: top;\n",
       "    }\n",
       "\n",
       "    .dataframe thead th {\n",
       "        text-align: right;\n",
       "    }\n",
       "</style>\n",
       "<table border=\"1\" class=\"dataframe\">\n",
       "  <thead>\n",
       "    <tr style=\"text-align: right;\">\n",
       "      <th></th>\n",
       "      <th>valid_train_purchased_items</th>\n",
       "      <th>valid_eval_purchased_items</th>\n",
       "      <th>test_train_purchased_items</th>\n",
       "      <th>test_eval_purchased_items</th>\n",
       "      <th>valid_train_recommended_items</th>\n",
       "      <th>valid_eval_recommended_items</th>\n",
       "      <th>test_train_recommended_items</th>\n",
       "      <th>test_eval_recommended_items</th>\n",
       "    </tr>\n",
       "  </thead>\n",
       "  <tbody>\n",
       "    <tr>\n",
       "      <th>0</th>\n",
       "      <td>[0, 1538, 515, 1029, 525, 1038, 1554, 1044, 53...</td>\n",
       "      <td>[740, 106, 657, 755, 986, 635]</td>\n",
       "      <td>[0, 1538, 515, 1029, 525, 1038, 1554, 1044, 53...</td>\n",
       "      <td>[899, 261, 139, 1419, 657, 1426, 1428, 533, 79...</td>\n",
       "      <td>[1, 2, 3, 4, 5, 6, 8, 10, 11, 14, 16, 17, 20, ...</td>\n",
       "      <td>[1024, 1029, 1041, 1047, 24, 25, 36, 39, 1069,...</td>\n",
       "      <td>[1, 2, 3, 4, 5, 6, 8, 10, 11, 14, 16, 17, 20, ...</td>\n",
       "      <td>[1026, 4, 1029, 5, 1039, 1042, 1043, 20, 1044,...</td>\n",
       "    </tr>\n",
       "    <tr>\n",
       "      <th>1</th>\n",
       "      <td>[11, 14, 24, 25, 29, 31, 36, 37, 41, 43, 61, 6...</td>\n",
       "      <td>[1664, 261, 1419, 782, 1550, 1038, 785, 1554, ...</td>\n",
       "      <td>[11, 14, 24, 25, 29, 31, 36, 37, 41, 43, 61, 6...</td>\n",
       "      <td>[520, 20, 1044, 24, 28, 1054, 542, 36, 562, 10...</td>\n",
       "      <td>[0, 1, 2, 3, 4, 6, 7, 10, 11, 13, 14, 16, 17, ...</td>\n",
       "      <td>[1, 7, 8, 16, 24, 25, 31, 36, 39, 43, 44, 47, ...</td>\n",
       "      <td>[0, 1, 2, 3, 4, 6, 7, 8, 10, 11, 13, 14, 16, 1...</td>\n",
       "      <td>[1029, 1030, 5, 1033, 1034, 1035, 1041, 1042, ...</td>\n",
       "    </tr>\n",
       "    <tr>\n",
       "      <th>2</th>\n",
       "      <td>[1538, 4, 1541, 389, 1543, 1160, 1292, 1421, 9...</td>\n",
       "      <td>[834, 612, 1541, 842, 1421, 1136, 849, 912, 15...</td>\n",
       "      <td>[1538, 4, 1541, 389, 1543, 1160, 1292, 1421, 9...</td>\n",
       "      <td>[576, 834, 612, 1541, 614, 325, 877, 912, 1136...</td>\n",
       "      <td>[0, 1, 3, 4, 5, 6, 7, 10, 11, 12, 14, 15, 16, ...</td>\n",
       "      <td>[1029, 1031, 7, 1033, 8, 1032, 1036, 1039, 16,...</td>\n",
       "      <td>[0, 1, 3, 4, 5, 6, 7, 8, 10, 11, 12, 14, 15, 1...</td>\n",
       "      <td>[0, 6, 10, 11, 12, 16, 20, 21, 23, 25, 31, 34,...</td>\n",
       "    </tr>\n",
       "    <tr>\n",
       "      <th>3</th>\n",
       "      <td>[0, 3, 517, 5, 1035, 15, 1047, 1050, 1063, 107...</td>\n",
       "      <td>[769, 4, 1425, 790, 1431, 1195, 1078, 1208, 19...</td>\n",
       "      <td>[0, 3, 4, 517, 5, 1035, 15, 1047, 1050, 1063, ...</td>\n",
       "      <td>[1152, 128, 1416, 268, 1425, 1426, 1183, 1317,...</td>\n",
       "      <td>[0, 1, 2, 3, 6, 7, 13, 14, 16, 17, 18, 20, 21,...</td>\n",
       "      <td>[1028, 1029, 7, 1048, 24, 1052, 1054, 32, 1056...</td>\n",
       "      <td>[0, 1, 2, 3, 6, 7, 13, 14, 16, 17, 18, 20, 21,...</td>\n",
       "      <td>[1029, 10, 1039, 1042, 20, 21, 1044, 1048, 24,...</td>\n",
       "    </tr>\n",
       "    <tr>\n",
       "      <th>4</th>\n",
       "      <td>[640, 771, 4, 774, 646, 9, 783, 657, 1042, 142...</td>\n",
       "      <td>[832, 834, 771, 1060, 1125, 710, 966, 840, 157...</td>\n",
       "      <td>[4, 9, 1550, 1042, 1564, 1570, 1060, 1573, 157...</td>\n",
       "      <td>None</td>\n",
       "      <td>[0, 1, 2, 3, 4, 6, 7, 9, 10, 14, 16, 17, 19, 2...</td>\n",
       "      <td>[512, 1024, 1536, 515, 1527, 1029, 518, 1031, ...</td>\n",
       "      <td>[0, 1, 2, 3, 4, 6, 7, 9, 10, 14, 16, 17, 19, 2...</td>\n",
       "      <td>[]</td>\n",
       "    </tr>\n",
       "  </tbody>\n",
       "</table>\n",
       "</div>"
      ],
      "text/plain": [
       "                         valid_train_purchased_items  \\\n",
       "0  [0, 1538, 515, 1029, 525, 1038, 1554, 1044, 53...   \n",
       "1  [11, 14, 24, 25, 29, 31, 36, 37, 41, 43, 61, 6...   \n",
       "2  [1538, 4, 1541, 389, 1543, 1160, 1292, 1421, 9...   \n",
       "3  [0, 3, 517, 5, 1035, 15, 1047, 1050, 1063, 107...   \n",
       "4  [640, 771, 4, 774, 646, 9, 783, 657, 1042, 142...   \n",
       "\n",
       "                          valid_eval_purchased_items  \\\n",
       "0                     [740, 106, 657, 755, 986, 635]   \n",
       "1  [1664, 261, 1419, 782, 1550, 1038, 785, 1554, ...   \n",
       "2  [834, 612, 1541, 842, 1421, 1136, 849, 912, 15...   \n",
       "3  [769, 4, 1425, 790, 1431, 1195, 1078, 1208, 19...   \n",
       "4  [832, 834, 771, 1060, 1125, 710, 966, 840, 157...   \n",
       "\n",
       "                          test_train_purchased_items  \\\n",
       "0  [0, 1538, 515, 1029, 525, 1038, 1554, 1044, 53...   \n",
       "1  [11, 14, 24, 25, 29, 31, 36, 37, 41, 43, 61, 6...   \n",
       "2  [1538, 4, 1541, 389, 1543, 1160, 1292, 1421, 9...   \n",
       "3  [0, 3, 4, 517, 5, 1035, 15, 1047, 1050, 1063, ...   \n",
       "4  [4, 9, 1550, 1042, 1564, 1570, 1060, 1573, 157...   \n",
       "\n",
       "                           test_eval_purchased_items  \\\n",
       "0  [899, 261, 139, 1419, 657, 1426, 1428, 533, 79...   \n",
       "1  [520, 20, 1044, 24, 28, 1054, 542, 36, 562, 10...   \n",
       "2  [576, 834, 612, 1541, 614, 325, 877, 912, 1136...   \n",
       "3  [1152, 128, 1416, 268, 1425, 1426, 1183, 1317,...   \n",
       "4                                               None   \n",
       "\n",
       "                       valid_train_recommended_items  \\\n",
       "0  [1, 2, 3, 4, 5, 6, 8, 10, 11, 14, 16, 17, 20, ...   \n",
       "1  [0, 1, 2, 3, 4, 6, 7, 10, 11, 13, 14, 16, 17, ...   \n",
       "2  [0, 1, 3, 4, 5, 6, 7, 10, 11, 12, 14, 15, 16, ...   \n",
       "3  [0, 1, 2, 3, 6, 7, 13, 14, 16, 17, 18, 20, 21,...   \n",
       "4  [0, 1, 2, 3, 4, 6, 7, 9, 10, 14, 16, 17, 19, 2...   \n",
       "\n",
       "                        valid_eval_recommended_items  \\\n",
       "0  [1024, 1029, 1041, 1047, 24, 25, 36, 39, 1069,...   \n",
       "1  [1, 7, 8, 16, 24, 25, 31, 36, 39, 43, 44, 47, ...   \n",
       "2  [1029, 1031, 7, 1033, 8, 1032, 1036, 1039, 16,...   \n",
       "3  [1028, 1029, 7, 1048, 24, 1052, 1054, 32, 1056...   \n",
       "4  [512, 1024, 1536, 515, 1527, 1029, 518, 1031, ...   \n",
       "\n",
       "                        test_train_recommended_items  \\\n",
       "0  [1, 2, 3, 4, 5, 6, 8, 10, 11, 14, 16, 17, 20, ...   \n",
       "1  [0, 1, 2, 3, 4, 6, 7, 8, 10, 11, 13, 14, 16, 1...   \n",
       "2  [0, 1, 3, 4, 5, 6, 7, 8, 10, 11, 12, 14, 15, 1...   \n",
       "3  [0, 1, 2, 3, 6, 7, 13, 14, 16, 17, 18, 20, 21,...   \n",
       "4  [0, 1, 2, 3, 4, 6, 7, 9, 10, 14, 16, 17, 19, 2...   \n",
       "\n",
       "                         test_eval_recommended_items  \n",
       "0  [1026, 4, 1029, 5, 1039, 1042, 1043, 20, 1044,...  \n",
       "1  [1029, 1030, 5, 1033, 1034, 1035, 1041, 1042, ...  \n",
       "2  [0, 6, 10, 11, 12, 16, 20, 21, 23, 25, 31, 34,...  \n",
       "3  [1029, 10, 1039, 1042, 20, 21, 1044, 1048, 24,...  \n",
       "4                                                 []  "
      ]
     },
     "execution_count": 257,
     "metadata": {},
     "output_type": "execute_result"
    }
   ],
   "source": [
    "df.head()"
   ]
  },
  {
   "cell_type": "code",
   "execution_count": 258,
   "metadata": {},
   "outputs": [
    {
     "data": {
      "text/plain": [
       "{'user_n': 452, 'item_n': 1669}"
      ]
     },
     "execution_count": 258,
     "metadata": {},
     "output_type": "execute_result"
    }
   ],
   "source": [
    "params"
   ]
  },
  {
   "cell_type": "code",
   "execution_count": 259,
   "metadata": {},
   "outputs": [
    {
     "name": "stdout",
     "output_type": "stream",
     "text": [
      "user_n = 452, item_n = 1669\n"
     ]
    }
   ],
   "source": [
    "MODE = \"valid\"\n",
    "SEED = 0\n",
    "ALPHA = 0.6\n",
    "GAMMA_P = 0.2\n",
    "GAMMA_R = 0.5\n",
    "ETA = 1e-2\n",
    "LAMBDA = 1e-6\n",
    "D = 100\n",
    "BATCH_SIZE = 1\n",
    "\n",
    "USER_N = params[\"user_n\"]\n",
    "ITEM_N = params[\"item_n\"]\n",
    "\n",
    "print(f\"user_n = {USER_N}, item_n = {ITEM_N}\")"
   ]
  },
  {
   "cell_type": "code",
   "execution_count": 260,
   "metadata": {},
   "outputs": [],
   "source": [
    "rnd = np.random.RandomState(SEED)\n",
    "\n",
    "X_u = rnd.normal(size=(USER_N, D))\n",
    "X_v = rnd.normal(size=(ITEM_N, D))\n",
    "\n",
    "EPS = 1e-4"
   ]
  },
  {
   "cell_type": "code",
   "execution_count": 261,
   "metadata": {},
   "outputs": [],
   "source": [
    "df_dict = df.to_dict(orient=\"index\")"
   ]
  },
  {
   "cell_type": "code",
   "execution_count": 262,
   "metadata": {},
   "outputs": [],
   "source": [
    "df_set = df.copy()\n",
    "for col in df.columns:\n",
    "    df_set[col] = df_set[col].apply(lambda x: set() if x is None else set(x))\n",
    "\n",
    "df_set_dict = df_set.to_dict(orient=\"index\")"
   ]
  },
  {
   "cell_type": "code",
   "execution_count": 263,
   "metadata": {},
   "outputs": [],
   "source": [
    "def sigmoid(x):\n",
    "    return 1 / (1 + np.exp(-x))"
   ]
  },
  {
   "cell_type": "code",
   "execution_count": 264,
   "metadata": {},
   "outputs": [
    {
     "name": "stdout",
     "output_type": "stream",
     "text": [
      "[ 5000000/5000000] 0.31617\r"
     ]
    }
   ],
   "source": [
    "losses = []\n",
    "\n",
    "EPOCHS = 5_000_000\n",
    "STEP_SIZE = 10_000\n",
    "\n",
    "\n",
    "def sample_rmf() -> tuple[int, int, int]:\n",
    "    C_P = 0\n",
    "    C_NP = 1\n",
    "    u = rnd.randint(0, USER_N)\n",
    "    C = rnd.choice([C_P, C_NP], p=[GAMMA_P, 1 - GAMMA_P])\n",
    "\n",
    "    if C == C_P:\n",
    "        r_ui = 1\n",
    "        i = rnd.choice(df_dict[u][f\"{MODE}_train_purchased_items\"])\n",
    "    else:\n",
    "        r_ui = 0\n",
    "        while True:\n",
    "            i = rnd.randint(0, ITEM_N)\n",
    "            if i not in df_set_dict[u][f\"{MODE}_train_purchased_items\"]:\n",
    "                break\n",
    "\n",
    "    return u, i, r_ui\n",
    "\n",
    "\n",
    "def sample_ulrmf() -> tuple[int, int, int]:\n",
    "    C_RP = 0\n",
    "    C_NR_NP = 1\n",
    "    C_other = 2\n",
    "    p_C_RP = GAMMA_P * GAMMA_R\n",
    "    p_C_NR_NP = (1 - GAMMA_P) * (1 - GAMMA_R)\n",
    "    p_C_other = 1 - p_C_RP - p_C_NR_NP\n",
    "\n",
    "    u = rnd.randint(0, USER_N)\n",
    "    C = rnd.choice([C_RP, C_NR_NP, C_other], p=[p_C_RP, p_C_NR_NP, p_C_other])\n",
    "\n",
    "    if C == C_RP:\n",
    "        r_ui = 1\n",
    "\n",
    "        while True:\n",
    "            i = rnd.choice(df_dict[u][f\"{MODE}_train_purchased_items\"])\n",
    "            if i in df_set_dict[u][f\"{MODE}_train_recommended_items\"]:\n",
    "                break\n",
    "    elif C == C_NR_NP:\n",
    "        if rnd.random() <= ALPHA:\n",
    "            r_ui = 1\n",
    "        else:\n",
    "            r_ui = 0\n",
    "\n",
    "        while True:\n",
    "            i = rnd.randint(0, ITEM_N)\n",
    "            if (\n",
    "                i in df_set_dict[u][f\"{MODE}_train_purchased_items\"]\n",
    "                and i not in df_set_dict[u][f\"{MODE}_train_recommended_items\"]\n",
    "            ) or (\n",
    "                i not in df_set_dict[u][f\"{MODE}_train_purchased_items\"]\n",
    "                and i in df_set_dict[u][f\"{MODE}_train_recommended_items\"]\n",
    "            ):\n",
    "                break\n",
    "    else:\n",
    "        r_ui = 0\n",
    "\n",
    "        while True:\n",
    "            i = rnd.randint(0, ITEM_N)\n",
    "            if (\n",
    "                i not in df_set_dict[u][f\"{MODE}_train_purchased_items\"]\n",
    "                and i not in df_set_dict[u][f\"{MODE}_train_recommended_items\"]\n",
    "            ):\n",
    "                break\n",
    "\n",
    "    return u, i, r_ui\n",
    "\n",
    "\n",
    "for t in range(EPOCHS):\n",
    "    u, i, r_ui = sample_rmf()\n",
    "    x_ui = sigmoid(np.dot(X_u[u], X_v[i]))\n",
    "\n",
    "    X_u[u] -= ETA * (x_ui - r_ui) * X_v[i] + 2 * LAMBDA * X_u[u]\n",
    "    X_v[i] -= ETA * (x_ui - r_ui) * X_u[u] + 2 * LAMBDA * X_v[i]\n",
    "\n",
    "    L = -(r_ui * np.log(max(EPS, x_ui)) + (1 - r_ui) * np.log(max(EPS, 1 - x_ui)))\n",
    "    losses.append(L)\n",
    "\n",
    "    if (t + 1) % STEP_SIZE == 0:\n",
    "        print(\n",
    "            f\"[{t+1:8}/{EPOCHS}] {sum(losses[-STEP_SIZE:]) / STEP_SIZE:.5}\",\n",
    "            end=\"\\r\",\n",
    "        )"
   ]
  },
  {
   "cell_type": "code",
   "execution_count": 265,
   "metadata": {},
   "outputs": [
    {
     "data": {
      "text/plain": [
       "Text(0, 0.5, 'loss')"
      ]
     },
     "execution_count": 265,
     "metadata": {},
     "output_type": "execute_result"
    },
    {
     "data": {
      "image/png": "[encoded data removed]",
      "text/plain": [
       "<Figure size 640x480 with 1 Axes>"
      ]
     },
     "metadata": {},
     "output_type": "display_data"
    }
   ],
   "source": [
    "plt.plot([sum(losses[i : i + STEP_SIZE]) / STEP_SIZE for i in range(STEP_SIZE, EPOCHS, STEP_SIZE)])\n",
    "plt.xlabel(\"epoch\")\n",
    "plt.ylabel(\"loss\")"
   ]
  },
  {
   "cell_type": "code",
   "execution_count": 269,
   "metadata": {},
   "outputs": [],
   "source": [
    "# np.save(\"./model/ulrmf_X_u.npy\", X_u)\n",
    "# np.save(\"./model/ulrmf_X_v.npy\", X_v)\n",
    "\n",
    "X_u = np.load(\"./model/ulrmf_X_u.npy\")\n",
    "X_v = np.load(\"./model/ulrmf_X_v.npy\")\n",
    "\n",
    "# np.save(\"./model/rmf_X_u.npy\", X_u)\n",
    "# np.save(\"./model/rmf_X_v.npy\", X_v)\n",
    "\n",
    "# X_u = np.load(\"./model/rmf_X_u.npy\")\n",
    "# X_v = np.load(\"./model/rmf_X_v.npy\")"
   ]
  },
  {
   "cell_type": "code",
   "execution_count": 270,
   "metadata": {},
   "outputs": [
    {
     "name": "stdout",
     "output_type": "stream",
     "text": [
      "Target user N  = 420\n",
      "Accuracy@30    = 0.052936507936507934\n",
      "Uplift@30      = 0.031243258870131133\n"
     ]
    }
   ],
   "source": [
    "K = 30\n",
    "acc = 0\n",
    "uplift = 0\n",
    "target_user_n = 0\n",
    "\n",
    "for u in range(USER_N):\n",
    "    if df_dict[u][f\"{MODE}_eval_purchased_items\"] is None:\n",
    "        continue\n",
    "    L_M = set(np.matmul(X_u[u], X_v.T).argsort()[-K:])\n",
    "    L_D = set(df_dict[u][f\"{MODE}_eval_recommended_items\"])\n",
    "    L_M_and_D = list(L_M & L_D)\n",
    "    L_M_not_D = list(L_M - L_D)\n",
    "\n",
    "    Y = set(df_dict[u][f\"{MODE}_eval_purchased_items\"])\n",
    "\n",
    "    if len(L_M_and_D) > 0 and len(L_M_not_D) > 0:\n",
    "        # print(len(L_M_and_D), len(L_M_not_D), len(L_M), len(L_D))\n",
    "        tau = sum([1 if e in Y else 0 for e in L_M_and_D]) / len(L_M_and_D) - sum([1 if e in Y else 0 for e in L_M_not_D]) / len(L_M_not_D)\n",
    "        uplift += tau\n",
    "\n",
    "        v = len(L_M & Y)\n",
    "        acc += v\n",
    "\n",
    "        target_user_n += 1\n",
    "\n",
    "print(f\"Target user N  = {target_user_n}\")\n",
    "print(f\"Accuracy@{K}    = {acc / target_user_n / K}\")\n",
    "print(f\"Uplift@{K}      = {uplift / target_user_n}\")"
   ]
  },
  {
   "cell_type": "markdown",
   "metadata": {},
   "source": [
    "$$\n",
    "-(r_{ui} \\log \\sigma (\\hat{x}_{ui}) + (1 - r_{ui}) \\log (1 - \\sigma (\\hat{x}_{ui})))\n",
    "$$"
   ]
  }
 ],
 "metadata": {
  "kernelspec": {
   "display_name": ".venv",
   "language": "python",
   "name": "python3"
  },
  "language_info": {
   "codemirror_mode": {
    "name": "ipython",
    "version": 3
   },
   "file_extension": ".py",
   "mimetype": "text/x-python",
   "name": "python",
   "nbconvert_exporter": "python",
   "pygments_lexer": "ipython3",
   "version": "3.9.16"
  }
 },
 "nbformat": 4,
 "nbformat_minor": 2
}

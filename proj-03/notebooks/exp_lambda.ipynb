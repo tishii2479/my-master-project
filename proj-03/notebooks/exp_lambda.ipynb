{
 "cells": [
  {
   "cell_type": "code",
   "execution_count": 3,
   "metadata": {},
   "outputs": [],
   "source": [
    "import numpy as np\n",
    "import pandas as pd\n",
    "import matplotlib.pyplot as plt\n",
    "import os\n",
    "\n",
    "from lib.util import *\n",
    "\n",
    "plt.style.use(\"ggplot\")"
   ]
  },
  {
   "cell_type": "code",
   "execution_count": 2,
   "metadata": {},
   "outputs": [
    {
     "name": "stdout",
     "output_type": "stream",
     "text": [
      "params: {'user_n': 1096, 'item_n': 3664}\n"
     ]
    }
   ],
   "source": [
    "df = pd.read_json(\"../data/preprocessed/preprocessed.json\", orient=\"index\")\n",
    "with open(\"../data/preprocessed/param.json\", \"r\") as f:\n",
    "    params = json.load(f)\n",
    "    print(\"params:\", params)\n",
    "\n",
    "user_n, item_n = params[\"user_n\"], params[\"item_n\"]"
   ]
  },
  {
   "cell_type": "code",
   "execution_count": 5,
   "metadata": {},
   "outputs": [
    {
     "name": "stdout",
     "output_type": "stream",
     "text": [
      "args: Args(exp_name='lambda', mode='valid', model='mf', sampling='accuracy-based-pointwise', seed=0, alpha=0.6, gamma_p=0.2, gamma_r=0.5, eta=0.01, lmda=0.01, d=100, batch_size=1000, eval_step=1000, epochs=5000, device='cpu')\n",
      "[1000/5000] 0.69315\r"
     ]
    },
    {
     "name": "stderr",
     "output_type": "stream",
     "text": [
      "100%|██████████| 1096/1096 [00:00<00:00, 1571.86it/s]\n"
     ]
    },
    {
     "name": "stdout",
     "output_type": "stream",
     "text": [
      "{'Accuracy@10': 0.01366742596810934, 'Uplift@10': 0.009283816032107605, 'Accuracy@30': 0.00835978835978836, 'Uplift@30': 0.006018223715862267, 'Accuracy@100': 0.004795221843003412, 'Uplift@100': 0.0028416054479452973}\n",
      "[2000/5000] 0.69315\r"
     ]
    },
    {
     "name": "stderr",
     "output_type": "stream",
     "text": [
      "100%|██████████| 1096/1096 [00:00<00:00, 1602.65it/s]\n"
     ]
    },
    {
     "name": "stdout",
     "output_type": "stream",
     "text": [
      "{'Accuracy@10': 0.01281779661016949, 'Uplift@10': 0.01304101089588378, 'Accuracy@30': 0.007433808553971486, 'Uplift@30': 0.00431625982175225, 'Accuracy@100': 0.004239600665557404, 'Uplift@100': 0.002061420341293156}\n",
      "[3000/5000] 0.69315\r"
     ]
    },
    {
     "name": "stderr",
     "output_type": "stream",
     "text": [
      "100%|██████████| 1096/1096 [00:00<00:00, 1346.27it/s]\n"
     ]
    },
    {
     "name": "stdout",
     "output_type": "stream",
     "text": [
      "{'Accuracy@10': 0.01281779661016949, 'Uplift@10': 0.01304101089588378, 'Accuracy@30': 0.007433808553971486, 'Uplift@30': 0.00431625982175225, 'Accuracy@100': 0.004239600665557404, 'Uplift@100': 0.002061420341293156}\n",
      "[4000/5000] 0.69315\r"
     ]
    },
    {
     "name": "stderr",
     "output_type": "stream",
     "text": [
      "100%|██████████| 1096/1096 [00:00<00:00, 1656.96it/s]\n"
     ]
    },
    {
     "name": "stdout",
     "output_type": "stream",
     "text": [
      "{'Accuracy@10': 0.01281779661016949, 'Uplift@10': 0.01304101089588378, 'Accuracy@30': 0.007433808553971486, 'Uplift@30': 0.00431625982175225, 'Accuracy@100': 0.004239600665557404, 'Uplift@100': 0.002061420341293156}\n",
      "[5000/5000] 0.69315\r"
     ]
    },
    {
     "name": "stderr",
     "output_type": "stream",
     "text": [
      "100%|██████████| 1096/1096 [00:00<00:00, 1548.14it/s]\n"
     ]
    },
    {
     "name": "stdout",
     "output_type": "stream",
     "text": [
      "{'Accuracy@10': 0.01281779661016949, 'Uplift@10': 0.01304101089588378, 'Accuracy@30': 0.007433808553971486, 'Uplift@30': 0.00431625982175225, 'Accuracy@100': 0.004239600665557404, 'Uplift@100': 0.002061420341293156}\n",
      "{'Accuracy@10': 0.01281779661016949, 'Uplift@10': 0.01304101089588378, 'Accuracy@30': 0.007433808553971486, 'Uplift@30': 0.00431625982175225, 'Accuracy@100': 0.004239600665557404, 'Uplift@100': 0.002061420341293156}\n",
      "args: Args(exp_name='lambda', mode='valid', model='mf', sampling='accuracy-based-pointwise', seed=0, alpha=0.6, gamma_p=0.2, gamma_r=0.5, eta=0.01, lmda=0.0001, d=100, batch_size=1000, eval_step=1000, epochs=5000, device='cpu')\n",
      "[1000/5000] 0.57748\r"
     ]
    },
    {
     "name": "stderr",
     "output_type": "stream",
     "text": [
      "100%|██████████| 1096/1096 [00:00<00:00, 1097.17it/s]\n"
     ]
    },
    {
     "name": "stdout",
     "output_type": "stream",
     "text": [
      "{'Accuracy@10': 0.18348082595870205, 'Uplift@10': 0.05527305645299744, 'Accuracy@30': 0.10294784580498866, 'Uplift@30': 0.016029656655221085, 'Accuracy@100': 0.04767021619877379, 'Uplift@100': 0.01072981870895892}\n",
      "[2000/5000] 0.57123\r"
     ]
    },
    {
     "name": "stderr",
     "output_type": "stream",
     "text": [
      "100%|██████████| 1096/1096 [00:00<00:00, 1119.65it/s]\n"
     ]
    },
    {
     "name": "stdout",
     "output_type": "stream",
     "text": [
      "{'Accuracy@10': 0.19911417322834646, 'Uplift@10': 0.03845925509311335, 'Accuracy@30': 0.10189596499756927, 'Uplift@30': 0.023262489238541375, 'Accuracy@100': 0.04760167850225952, 'Uplift@100': 0.010548692452450761}\n",
      "[3000/5000] 0.55836\r"
     ]
    },
    {
     "name": "stderr",
     "output_type": "stream",
     "text": [
      "100%|██████████| 1096/1096 [00:01<00:00, 1092.74it/s]\n"
     ]
    },
    {
     "name": "stdout",
     "output_type": "stream",
     "text": [
      "{'Accuracy@10': 0.19294117647058823, 'Uplift@10': 0.030197245564892648, 'Accuracy@30': 0.09877022653721683, 'Uplift@30': 0.01881091323278221, 'Accuracy@100': 0.045272492744276034, 'Uplift@100': 0.010653401086868592}\n",
      "[4000/5000] 0.56375\r"
     ]
    },
    {
     "name": "stderr",
     "output_type": "stream",
     "text": [
      "100%|██████████| 1096/1096 [00:01<00:00, 1088.65it/s]\n"
     ]
    },
    {
     "name": "stdout",
     "output_type": "stream",
     "text": [
      "{'Accuracy@10': 0.13590998043052838, 'Uplift@10': 0.08458981766222479, 'Accuracy@30': 0.08971373119844735, 'Uplift@30': 0.030881786589798715, 'Accuracy@100': 0.042237266279819476, 'Uplift@100': 0.011689667625194735}\n",
      "[5000/5000] 0.56444\r"
     ]
    },
    {
     "name": "stderr",
     "output_type": "stream",
     "text": [
      "100%|██████████| 1096/1096 [00:00<00:00, 1298.92it/s]\n"
     ]
    },
    {
     "name": "stdout",
     "output_type": "stream",
     "text": [
      "{'Accuracy@10': 0.1991044776119403, 'Uplift@10': 0.036807233672905317, 'Accuracy@30': 0.10058679706601467, 'Uplift@30': 0.022630056557839708, 'Accuracy@100': 0.04558651976668827, 'Uplift@100': 0.014418605507848497}\n",
      "{'Accuracy@10': 0.1991044776119403, 'Uplift@10': 0.036807233672905317, 'Accuracy@30': 0.10058679706601467, 'Uplift@30': 0.022630056557839708, 'Accuracy@100': 0.04558651976668827, 'Uplift@100': 0.014418605507848497}\n",
      "args: Args(exp_name='lambda', mode='valid', model='mf', sampling='accuracy-based-pointwise', seed=0, alpha=0.6, gamma_p=0.2, gamma_r=0.5, eta=0.01, lmda=1e-06, d=100, batch_size=1000, eval_step=1000, epochs=5000, device='cpu')\n",
      "[1000/5000] 0.97232\r"
     ]
    },
    {
     "name": "stderr",
     "output_type": "stream",
     "text": [
      "100%|██████████| 1096/1096 [00:00<00:00, 1229.95it/s]\n"
     ]
    },
    {
     "name": "stdout",
     "output_type": "stream",
     "text": [
      "{'Accuracy@10': 0.05642343268242549, 'Uplift@10': 0.03863235941858758, 'Accuracy@30': 0.031858113707939666, 'Uplift@30': 0.017460459360085025, 'Accuracy@100': 0.017506553079947574, 'Uplift@100': 0.01056856148162991}\n",
      "[2000/5000] 0.55138\r"
     ]
    },
    {
     "name": "stderr",
     "output_type": "stream",
     "text": [
      "100%|██████████| 1096/1096 [00:00<00:00, 1228.76it/s]\n"
     ]
    },
    {
     "name": "stdout",
     "output_type": "stream",
     "text": [
      "{'Accuracy@10': 0.0832657200811359, 'Uplift@10': 0.044121269197334056, 'Accuracy@30': 0.04595084941448128, 'Uplift@30': 0.0198795459702207, 'Accuracy@100': 0.025917700849118222, 'Uplift@100': 0.012182188589980684}\n",
      "[3000/5000] 0.35749\r"
     ]
    },
    {
     "name": "stderr",
     "output_type": "stream",
     "text": [
      "100%|██████████| 1096/1096 [00:00<00:00, 1222.42it/s]\n"
     ]
    },
    {
     "name": "stdout",
     "output_type": "stream",
     "text": [
      "{'Accuracy@10': 0.11773547094188377, 'Uplift@10': 0.02438209752839012, 'Accuracy@30': 0.06736997055937194, 'Uplift@30': 0.020160100517509185, 'Accuracy@100': 0.03671646638519, 'Uplift@100': 0.013413097323354321}\n",
      "[4000/5000] 0.32368\r"
     ]
    },
    {
     "name": "stderr",
     "output_type": "stream",
     "text": [
      "100%|██████████| 1096/1096 [00:00<00:00, 1208.91it/s]\n"
     ]
    },
    {
     "name": "stdout",
     "output_type": "stream",
     "text": [
      "{'Accuracy@10': 0.14272818455366099, 'Uplift@10': 0.05848219260957478, 'Accuracy@30': 0.07978705978705979, 'Uplift@30': 0.02564453865737649, 'Accuracy@100': 0.04332899869960988, 'Uplift@100': 0.014355388359608923}\n",
      "[5000/5000] 0.31049\r"
     ]
    },
    {
     "name": "stderr",
     "output_type": "stream",
     "text": [
      "100%|██████████| 1096/1096 [00:00<00:00, 1227.97it/s]\n"
     ]
    },
    {
     "name": "stdout",
     "output_type": "stream",
     "text": [
      "{'Accuracy@10': 0.15169660678642713, 'Uplift@10': 0.06328097772708552, 'Accuracy@30': 0.08688256460582269, 'Uplift@30': 0.02762179326740036, 'Accuracy@100': 0.04649561545956479, 'Uplift@100': 0.014674928281327325}\n",
      "{'Accuracy@10': 0.15169660678642713, 'Uplift@10': 0.06328097772708552, 'Accuracy@30': 0.08688256460582269, 'Uplift@30': 0.02762179326740036, 'Accuracy@100': 0.04649561545956479, 'Uplift@100': 0.014674928281327325}\n",
      "args: Args(exp_name='lambda', mode='valid', model='mf', sampling='accuracy-based-pointwise', seed=0, alpha=0.6, gamma_p=0.2, gamma_r=0.5, eta=0.01, lmda=1e-08, d=100, batch_size=1000, eval_step=1000, epochs=5000, device='cpu')\n",
      "[1000/5000] 1.05112\r"
     ]
    },
    {
     "name": "stderr",
     "output_type": "stream",
     "text": [
      "100%|██████████| 1096/1096 [00:01<00:00, 1068.46it/s]\n"
     ]
    },
    {
     "name": "stdout",
     "output_type": "stream",
     "text": [
      "{'Accuracy@10': 0.049533678756476685, 'Uplift@10': 0.03465046467637141, 'Accuracy@30': 0.02875, 'Uplift@30': 0.016817996278090955, 'Accuracy@100': 0.016198618875369945, 'Uplift@100': 0.010104249854095809}\n",
      "[2000/5000] 0.60528\r"
     ]
    },
    {
     "name": "stderr",
     "output_type": "stream",
     "text": [
      "100%|██████████| 1096/1096 [00:00<00:00, 1223.46it/s]\n"
     ]
    },
    {
     "name": "stdout",
     "output_type": "stream",
     "text": [
      "{'Accuracy@10': 0.07341389728096677, 'Uplift@10': 0.044278601000655324, 'Accuracy@30': 0.04118226600985222, 'Uplift@30': 0.020330550732563953, 'Accuracy@100': 0.02358515141647672, 'Uplift@100': 0.011596427979388051}\n",
      "[3000/5000] 0.38197\r"
     ]
    },
    {
     "name": "stderr",
     "output_type": "stream",
     "text": [
      "100%|██████████| 1096/1096 [00:00<00:00, 1242.96it/s]\n"
     ]
    },
    {
     "name": "stdout",
     "output_type": "stream",
     "text": [
      "{'Accuracy@10': 0.09807692307692308, 'Uplift@10': 0.026869256474519647, 'Accuracy@30': 0.05751440329218107, 'Uplift@30': 0.02102907103232581, 'Accuracy@100': 0.03250815394651011, 'Uplift@100': 0.013223100854302557}\n",
      "[4000/5000] 0.34157\r"
     ]
    },
    {
     "name": "stderr",
     "output_type": "stream",
     "text": [
      "100%|██████████| 1096/1096 [00:00<00:00, 1223.64it/s]\n"
     ]
    },
    {
     "name": "stdout",
     "output_type": "stream",
     "text": [
      "{'Accuracy@10': 0.11814516129032257, 'Uplift@10': 0.05467509920634924, 'Accuracy@30': 0.06778435239973701, 'Uplift@30': 0.02615848377226902, 'Accuracy@100': 0.03814923427826653, 'Uplift@100': 0.014612522585775058}\n",
      "[5000/5000] 0.32203\r"
     ]
    },
    {
     "name": "stderr",
     "output_type": "stream",
     "text": [
      "100%|██████████| 1096/1096 [00:00<00:00, 1240.89it/s]\n"
     ]
    },
    {
     "name": "stdout",
     "output_type": "stream",
     "text": [
      "{'Accuracy@10': 0.12441977800201816, 'Uplift@10': 0.05890955103871345, 'Accuracy@30': 0.07294852820259826, 'Uplift@30': 0.026303991165494426, 'Accuracy@100': 0.04070730117340287, 'Uplift@100': 0.01506724779020716}\n",
      "{'Accuracy@10': 0.12441977800201816, 'Uplift@10': 0.05890955103871345, 'Accuracy@30': 0.07294852820259826, 'Uplift@30': 0.026303991165494426, 'Accuracy@100': 0.04070730117340287, 'Uplift@100': 0.01506724779020716}\n",
      "args: Args(exp_name='lambda', mode='valid', model='mf', sampling='uplift-based-pointwise', seed=0, alpha=0.6, gamma_p=0.2, gamma_r=0.5, eta=0.01, lmda=0.01, d=100, batch_size=1000, eval_step=1000, epochs=5000, device='cpu')\n",
      "[1000/5000] 0.69315\r"
     ]
    },
    {
     "name": "stderr",
     "output_type": "stream",
     "text": [
      "100%|██████████| 1096/1096 [00:00<00:00, 1386.00it/s]\n"
     ]
    },
    {
     "name": "stdout",
     "output_type": "stream",
     "text": [
      "{'Accuracy@10': 0.013302217036172695, 'Uplift@10': 0.011210664740419709, 'Accuracy@30': 0.007692307692307693, 'Uplift@30': 0.0048591712837417955, 'Accuracy@100': 0.004519230769230769, 'Uplift@100': 0.002218854273127551}\n",
      "[2000/5000] 0.69315\r"
     ]
    },
    {
     "name": "stderr",
     "output_type": "stream",
     "text": [
      "100%|██████████| 1096/1096 [00:00<00:00, 1439.64it/s]\n"
     ]
    },
    {
     "name": "stdout",
     "output_type": "stream",
     "text": [
      "{'Accuracy@10': 0.01281779661016949, 'Uplift@10': 0.01304101089588378, 'Accuracy@30': 0.007433808553971486, 'Uplift@30': 0.00431625982175225, 'Accuracy@100': 0.004239600665557404, 'Uplift@100': 0.002061420341293156}\n",
      "[3000/5000] 0.69315\r"
     ]
    },
    {
     "name": "stderr",
     "output_type": "stream",
     "text": [
      "100%|██████████| 1096/1096 [00:00<00:00, 1264.35it/s]\n"
     ]
    },
    {
     "name": "stdout",
     "output_type": "stream",
     "text": [
      "{'Accuracy@10': 0.01281779661016949, 'Uplift@10': 0.01304101089588378, 'Accuracy@30': 0.007433808553971486, 'Uplift@30': 0.00431625982175225, 'Accuracy@100': 0.004239600665557404, 'Uplift@100': 0.002061420341293156}\n",
      "[4000/5000] 0.69315\r"
     ]
    },
    {
     "name": "stderr",
     "output_type": "stream",
     "text": [
      "100%|██████████| 1096/1096 [00:00<00:00, 1475.15it/s]\n"
     ]
    },
    {
     "name": "stdout",
     "output_type": "stream",
     "text": [
      "{'Accuracy@10': 0.01281779661016949, 'Uplift@10': 0.01304101089588378, 'Accuracy@30': 0.007433808553971486, 'Uplift@30': 0.00431625982175225, 'Accuracy@100': 0.004239600665557404, 'Uplift@100': 0.002061420341293156}\n",
      "[5000/5000] 0.69315\r"
     ]
    },
    {
     "name": "stderr",
     "output_type": "stream",
     "text": [
      "100%|██████████| 1096/1096 [00:00<00:00, 1436.66it/s]\n"
     ]
    },
    {
     "name": "stdout",
     "output_type": "stream",
     "text": [
      "{'Accuracy@10': 0.01281779661016949, 'Uplift@10': 0.01304101089588378, 'Accuracy@30': 0.007433808553971486, 'Uplift@30': 0.00431625982175225, 'Accuracy@100': 0.004239600665557404, 'Uplift@100': 0.002061420341293156}\n",
      "{'Accuracy@10': 0.01281779661016949, 'Uplift@10': 0.01304101089588378, 'Accuracy@30': 0.007433808553971486, 'Uplift@30': 0.00431625982175225, 'Accuracy@100': 0.004239600665557404, 'Uplift@100': 0.002061420341293156}\n",
      "args: Args(exp_name='lambda', mode='valid', model='mf', sampling='uplift-based-pointwise', seed=0, alpha=0.6, gamma_p=0.2, gamma_r=0.5, eta=0.01, lmda=0.0001, d=100, batch_size=1000, eval_step=1000, epochs=5000, device='cpu')\n",
      "[1000/5000] 0.69086\r"
     ]
    },
    {
     "name": "stderr",
     "output_type": "stream",
     "text": [
      "100%|██████████| 1096/1096 [00:00<00:00, 1329.19it/s]\n"
     ]
    },
    {
     "name": "stdout",
     "output_type": "stream",
     "text": [
      "{'Accuracy@10': 0.1732283464566929, 'Uplift@10': 0.042738017122859615, 'Accuracy@30': 0.07618119824646859, 'Uplift@30': 0.050362035908793505, 'Accuracy@100': 0.03044279250161603, 'Uplift@100': 0.029389732874411927}\n",
      "[2000/5000] 0.69201\r"
     ]
    },
    {
     "name": "stderr",
     "output_type": "stream",
     "text": [
      "100%|██████████| 1096/1096 [00:00<00:00, 1370.77it/s]\n"
     ]
    },
    {
     "name": "stdout",
     "output_type": "stream",
     "text": [
      "{'Accuracy@10': 0.18354554358472086, 'Uplift@10': 0.05454775119319685, 'Accuracy@30': 0.08724919093851133, 'Uplift@30': 0.048796581150585126, 'Accuracy@100': 0.032312903225806454, 'Uplift@100': 0.03065157060983645}\n",
      "[3000/5000] 0.69261\r"
     ]
    },
    {
     "name": "stderr",
     "output_type": "stream",
     "text": [
      "100%|██████████| 1096/1096 [00:00<00:00, 1303.83it/s]\n"
     ]
    },
    {
     "name": "stdout",
     "output_type": "stream",
     "text": [
      "{'Accuracy@10': 0.13751214771622935, 'Uplift@10': 0.10024758202600768, 'Accuracy@30': 0.0662153449387492, 'Uplift@30': 0.05152125822675621, 'Accuracy@100': 0.028578321003538118, 'Uplift@100': 0.026253317793897894}\n",
      "[4000/5000] 0.69303\r"
     ]
    },
    {
     "name": "stderr",
     "output_type": "stream",
     "text": [
      "100%|██████████| 1096/1096 [00:00<00:00, 1302.90it/s]\n"
     ]
    },
    {
     "name": "stdout",
     "output_type": "stream",
     "text": [
      "{'Accuracy@10': 0.1113861386138614, 'Uplift@10': 0.08282138928178522, 'Accuracy@30': 0.049193942354665364, 'Uplift@30': 0.05859547960228902, 'Accuracy@100': 0.021584062196307093, 'Uplift@100': 0.027700668852941344}\n",
      "[5000/5000] 0.69313\r"
     ]
    },
    {
     "name": "stderr",
     "output_type": "stream",
     "text": [
      "100%|██████████| 1096/1096 [00:00<00:00, 1312.72it/s]\n"
     ]
    },
    {
     "name": "stdout",
     "output_type": "stream",
     "text": [
      "{'Accuracy@10': 0.07051671732522796, 'Uplift@10': 0.13468181598880669, 'Accuracy@30': 0.029928937365724672, 'Uplift@30': 0.05400784940448646, 'Accuracy@100': 0.016196860693263572, 'Uplift@100': 0.026041622285406574}\n",
      "{'Accuracy@10': 0.07051671732522796, 'Uplift@10': 0.13468181598880669, 'Accuracy@30': 0.029928937365724672, 'Uplift@30': 0.05400784940448646, 'Accuracy@100': 0.016196860693263572, 'Uplift@100': 0.026041622285406574}\n",
      "args: Args(exp_name='lambda', mode='valid', model='mf', sampling='uplift-based-pointwise', seed=0, alpha=0.6, gamma_p=0.2, gamma_r=0.5, eta=0.01, lmda=1e-06, d=100, batch_size=1000, eval_step=1000, epochs=5000, device='cpu')\n",
      "[1000/5000] 1.6423\r"
     ]
    },
    {
     "name": "stderr",
     "output_type": "stream",
     "text": [
      "100%|██████████| 1096/1096 [00:00<00:00, 1139.01it/s]\n"
     ]
    },
    {
     "name": "stdout",
     "output_type": "stream",
     "text": [
      "{'Accuracy@10': 0.01748251748251748, 'Uplift@10': 0.017860380360380373, 'Accuracy@30': 0.01053191489361702, 'Uplift@30': 0.008681318085546447, 'Accuracy@100': 0.006965753424657535, 'Uplift@100': 0.006321457604015235}\n",
      "[2000/5000] 0.75406\r"
     ]
    },
    {
     "name": "stderr",
     "output_type": "stream",
     "text": [
      "100%|██████████| 1096/1096 [00:00<00:00, 1173.14it/s]\n"
     ]
    },
    {
     "name": "stdout",
     "output_type": "stream",
     "text": [
      "{'Accuracy@10': 0.04870056497175142, 'Uplift@10': 0.08307326697157198, 'Accuracy@30': 0.025980392156862746, 'Uplift@30': 0.034961534890393, 'Accuracy@100': 0.014110054347826086, 'Uplift@100': 0.017896329842555406}\n",
      "[3000/5000] 0.60532\r"
     ]
    },
    {
     "name": "stderr",
     "output_type": "stream",
     "text": [
      "100%|██████████| 1096/1096 [00:00<00:00, 1169.74it/s]\n"
     ]
    },
    {
     "name": "stdout",
     "output_type": "stream",
     "text": [
      "{'Accuracy@10': 0.07698658410732714, 'Uplift@10': 0.10903811817124495, 'Accuracy@30': 0.03811905952976488, 'Uplift@30': 0.050675433529426446, 'Accuracy@100': 0.018463815789473682, 'Uplift@100': 0.024326307709145276}\n",
      "[4000/5000] 0.60399\r"
     ]
    },
    {
     "name": "stderr",
     "output_type": "stream",
     "text": [
      "100%|██████████| 1096/1096 [00:00<00:00, 1170.35it/s]\n"
     ]
    },
    {
     "name": "stdout",
     "output_type": "stream",
     "text": [
      "{'Accuracy@10': 0.1, 'Uplift@10': 0.09448700488026326, 'Accuracy@30': 0.049086985391766265, 'Uplift@30': 0.05187132168175005, 'Accuracy@100': 0.022454068241469817, 'Uplift@100': 0.027041958810262633}\n",
      "[5000/5000] 0.59904\r"
     ]
    },
    {
     "name": "stderr",
     "output_type": "stream",
     "text": [
      "100%|██████████| 1096/1096 [00:00<00:00, 1141.33it/s]\n"
     ]
    },
    {
     "name": "stdout",
     "output_type": "stream",
     "text": [
      "{'Accuracy@10': 0.1271, 'Uplift@10': 0.10286666666666669, 'Accuracy@30': 0.060049261083743845, 'Uplift@30': 0.05207611924621738, 'Accuracy@100': 0.026322475570032575, 'Uplift@100': 0.029442287228229724}\n",
      "{'Accuracy@10': 0.1271, 'Uplift@10': 0.10286666666666669, 'Accuracy@30': 0.060049261083743845, 'Uplift@30': 0.05207611924621738, 'Accuracy@100': 0.026322475570032575, 'Uplift@100': 0.029442287228229724}\n",
      "args: Args(exp_name='lambda', mode='valid', model='mf', sampling='uplift-based-pointwise', seed=0, alpha=0.6, gamma_p=0.2, gamma_r=0.5, eta=0.01, lmda=1e-08, d=100, batch_size=1000, eval_step=1000, epochs=5000, device='cpu')\n",
      "[1000/5000] 1.8033\r"
     ]
    },
    {
     "name": "stderr",
     "output_type": "stream",
     "text": [
      "100%|██████████| 1096/1096 [00:01<00:00, 762.17it/s]\n"
     ]
    },
    {
     "name": "stdout",
     "output_type": "stream",
     "text": [
      "{'Accuracy@10': 0.017573696145124718, 'Uplift@10': 0.02185329158118274, 'Accuracy@30': 0.010342417889587702, 'Uplift@30': 0.009329523461187424, 'Accuracy@100': 0.00669606512890095, 'Uplift@100': 0.005742563617488554}\n",
      "[2000/5000] 0.79946\r"
     ]
    },
    {
     "name": "stderr",
     "output_type": "stream",
     "text": [
      "100%|██████████| 1096/1096 [00:00<00:00, 1125.09it/s]\n"
     ]
    },
    {
     "name": "stdout",
     "output_type": "stream",
     "text": [
      "{'Accuracy@10': 0.04450800915331808, 'Uplift@10': 0.08089835094983831, 'Accuracy@30': 0.024139756484912653, 'Uplift@30': 0.031699100671614806, 'Accuracy@100': 0.013318538750426767, 'Uplift@100': 0.01695021479510301}\n",
      "[3000/5000] 0.63014\r"
     ]
    },
    {
     "name": "stderr",
     "output_type": "stream",
     "text": [
      "100%|██████████| 1096/1096 [00:00<00:00, 1118.13it/s]\n"
     ]
    },
    {
     "name": "stdout",
     "output_type": "stream",
     "text": [
      "{'Accuracy@10': 0.06494192185850053, 'Uplift@10': 0.10179723772648784, 'Accuracy@30': 0.032912245241704566, 'Uplift@30': 0.04458180940585397, 'Accuracy@100': 0.016821192052980133, 'Uplift@100': 0.02321171177296936}\n",
      "[4000/5000] 0.62313\r"
     ]
    },
    {
     "name": "stderr",
     "output_type": "stream",
     "text": [
      "100%|██████████| 1096/1096 [00:00<00:00, 1131.63it/s]\n"
     ]
    },
    {
     "name": "stdout",
     "output_type": "stream",
     "text": [
      "{'Accuracy@10': 0.08336798336798337, 'Uplift@10': 0.09542042042042027, 'Accuracy@30': 0.042056701895655094, 'Uplift@30': 0.04636489560970857, 'Accuracy@100': 0.02014200792602378, 'Uplift@100': 0.023758533966223475}\n",
      "[5000/5000] 0.62913\r"
     ]
    },
    {
     "name": "stderr",
     "output_type": "stream",
     "text": [
      "100%|██████████| 1096/1096 [00:00<00:00, 1098.28it/s]\n"
     ]
    },
    {
     "name": "stdout",
     "output_type": "stream",
     "text": [
      "{'Accuracy@10': 0.10734406438631791, 'Uplift@10': 0.09457858260675153, 'Accuracy@30': 0.05183720547042346, 'Uplift@30': 0.04808805010299157, 'Accuracy@100': 0.023556499020248204, 'Uplift@100': 0.025985973562311766}\n",
      "{'Accuracy@10': 0.10734406438631791, 'Uplift@10': 0.09457858260675153, 'Accuracy@30': 0.05183720547042346, 'Uplift@30': 0.04808805010299157, 'Accuracy@100': 0.023556499020248204, 'Uplift@100': 0.025985973562311766}\n"
     ]
    }
   ],
   "source": [
    "for sampling in [\"accuracy-based-pointwise\", \"uplift-based-pointwise\"]:\n",
    "    for lmda in [1e-2, 1e-4, 1e-6, 1e-8]:\n",
    "        args = Args(exp_name=\"lambda\", sampling=sampling, lmda=lmda)\n",
    "        model, losses, results = train(\n",
    "            df=df, user_n=user_n, item_n=item_n, args=args\n",
    "        )\n",
    "        print(results[-1])\n",
    "        add_record(args, results[-1])"
   ]
  },
  {
   "cell_type": "code",
   "execution_count": 4,
   "metadata": {},
   "outputs": [],
   "source": [
    "records = []\n",
    "for p in os.listdir(\"./log/lambda/\"):\n",
    "    with open(f\"./log/lambda/{p}\", \"r\") as f:\n",
    "        d = json.load(f)\n",
    "        records.append(pd.json_normalize(d))"
   ]
  },
  {
   "cell_type": "code",
   "execution_count": 15,
   "metadata": {},
   "outputs": [
    {
     "data": {
      "text/html": [
       "<div>\n",
       "<style scoped>\n",
       "    .dataframe tbody tr th:only-of-type {\n",
       "        vertical-align: middle;\n",
       "    }\n",
       "\n",
       "    .dataframe tbody tr th {\n",
       "        vertical-align: top;\n",
       "    }\n",
       "\n",
       "    .dataframe thead th {\n",
       "        text-align: right;\n",
       "    }\n",
       "</style>\n",
       "<table border=\"1\" class=\"dataframe\">\n",
       "  <thead>\n",
       "    <tr style=\"text-align: right;\">\n",
       "      <th></th>\n",
       "      <th>args.alpha</th>\n",
       "      <th>args.batch_size</th>\n",
       "      <th>args.d</th>\n",
       "      <th>args.device</th>\n",
       "      <th>args.epochs</th>\n",
       "      <th>args.eta</th>\n",
       "      <th>args.eval_step</th>\n",
       "      <th>args.exp_name</th>\n",
       "      <th>args.gamma_p</th>\n",
       "      <th>args.gamma_r</th>\n",
       "      <th>...</th>\n",
       "      <th>args.mode</th>\n",
       "      <th>args.model</th>\n",
       "      <th>args.sampling</th>\n",
       "      <th>args.seed</th>\n",
       "      <th>evaluations.Accuracy@10</th>\n",
       "      <th>evaluations.Accuracy@100</th>\n",
       "      <th>evaluations.Accuracy@30</th>\n",
       "      <th>evaluations.Uplift@10</th>\n",
       "      <th>evaluations.Uplift@100</th>\n",
       "      <th>evaluations.Uplift@30</th>\n",
       "    </tr>\n",
       "  </thead>\n",
       "  <tbody>\n",
       "    <tr>\n",
       "      <th>0</th>\n",
       "      <td>0.6</td>\n",
       "      <td>1000</td>\n",
       "      <td>100</td>\n",
       "      <td>cpu</td>\n",
       "      <td>5000</td>\n",
       "      <td>0.01</td>\n",
       "      <td>1000</td>\n",
       "      <td>lambda</td>\n",
       "      <td>0.2</td>\n",
       "      <td>0.5</td>\n",
       "      <td>...</td>\n",
       "      <td>valid</td>\n",
       "      <td>mf</td>\n",
       "      <td>accuracy-based-pointwise</td>\n",
       "      <td>0</td>\n",
       "      <td>0.124420</td>\n",
       "      <td>0.040707</td>\n",
       "      <td>0.072949</td>\n",
       "      <td>0.058910</td>\n",
       "      <td>0.015067</td>\n",
       "      <td>0.026304</td>\n",
       "    </tr>\n",
       "    <tr>\n",
       "      <th>1</th>\n",
       "      <td>0.6</td>\n",
       "      <td>1000</td>\n",
       "      <td>100</td>\n",
       "      <td>cpu</td>\n",
       "      <td>5000</td>\n",
       "      <td>0.01</td>\n",
       "      <td>1000</td>\n",
       "      <td>lambda</td>\n",
       "      <td>0.2</td>\n",
       "      <td>0.5</td>\n",
       "      <td>...</td>\n",
       "      <td>valid</td>\n",
       "      <td>mf</td>\n",
       "      <td>uplift-based-pointwise</td>\n",
       "      <td>0</td>\n",
       "      <td>0.107344</td>\n",
       "      <td>0.023556</td>\n",
       "      <td>0.051837</td>\n",
       "      <td>0.094579</td>\n",
       "      <td>0.025986</td>\n",
       "      <td>0.048088</td>\n",
       "    </tr>\n",
       "    <tr>\n",
       "      <th>2</th>\n",
       "      <td>0.6</td>\n",
       "      <td>1000</td>\n",
       "      <td>100</td>\n",
       "      <td>cpu</td>\n",
       "      <td>5000</td>\n",
       "      <td>0.01</td>\n",
       "      <td>1000</td>\n",
       "      <td>lambda</td>\n",
       "      <td>0.2</td>\n",
       "      <td>0.5</td>\n",
       "      <td>...</td>\n",
       "      <td>valid</td>\n",
       "      <td>mf</td>\n",
       "      <td>uplift-based-pointwise</td>\n",
       "      <td>0</td>\n",
       "      <td>0.127100</td>\n",
       "      <td>0.026322</td>\n",
       "      <td>0.060049</td>\n",
       "      <td>0.102867</td>\n",
       "      <td>0.029442</td>\n",
       "      <td>0.052076</td>\n",
       "    </tr>\n",
       "    <tr>\n",
       "      <th>3</th>\n",
       "      <td>0.6</td>\n",
       "      <td>1000</td>\n",
       "      <td>100</td>\n",
       "      <td>cpu</td>\n",
       "      <td>5000</td>\n",
       "      <td>0.01</td>\n",
       "      <td>1000</td>\n",
       "      <td>lambda</td>\n",
       "      <td>0.2</td>\n",
       "      <td>0.5</td>\n",
       "      <td>...</td>\n",
       "      <td>valid</td>\n",
       "      <td>mf</td>\n",
       "      <td>accuracy-based-pointwise</td>\n",
       "      <td>0</td>\n",
       "      <td>0.151697</td>\n",
       "      <td>0.046496</td>\n",
       "      <td>0.086883</td>\n",
       "      <td>0.063281</td>\n",
       "      <td>0.014675</td>\n",
       "      <td>0.027622</td>\n",
       "    </tr>\n",
       "    <tr>\n",
       "      <th>4</th>\n",
       "      <td>0.6</td>\n",
       "      <td>1000</td>\n",
       "      <td>100</td>\n",
       "      <td>cpu</td>\n",
       "      <td>5000</td>\n",
       "      <td>0.01</td>\n",
       "      <td>1000</td>\n",
       "      <td>lambda</td>\n",
       "      <td>0.2</td>\n",
       "      <td>0.5</td>\n",
       "      <td>...</td>\n",
       "      <td>valid</td>\n",
       "      <td>mf</td>\n",
       "      <td>uplift-based-pointwise</td>\n",
       "      <td>0</td>\n",
       "      <td>0.070517</td>\n",
       "      <td>0.016197</td>\n",
       "      <td>0.029929</td>\n",
       "      <td>0.134682</td>\n",
       "      <td>0.026042</td>\n",
       "      <td>0.054008</td>\n",
       "    </tr>\n",
       "    <tr>\n",
       "      <th>5</th>\n",
       "      <td>0.6</td>\n",
       "      <td>1000</td>\n",
       "      <td>100</td>\n",
       "      <td>cpu</td>\n",
       "      <td>5000</td>\n",
       "      <td>0.01</td>\n",
       "      <td>1000</td>\n",
       "      <td>lambda</td>\n",
       "      <td>0.2</td>\n",
       "      <td>0.5</td>\n",
       "      <td>...</td>\n",
       "      <td>valid</td>\n",
       "      <td>mf</td>\n",
       "      <td>accuracy-based-pointwise</td>\n",
       "      <td>0</td>\n",
       "      <td>0.199104</td>\n",
       "      <td>0.045587</td>\n",
       "      <td>0.100587</td>\n",
       "      <td>0.036807</td>\n",
       "      <td>0.014419</td>\n",
       "      <td>0.022630</td>\n",
       "    </tr>\n",
       "    <tr>\n",
       "      <th>6</th>\n",
       "      <td>0.6</td>\n",
       "      <td>1000</td>\n",
       "      <td>100</td>\n",
       "      <td>cpu</td>\n",
       "      <td>5000</td>\n",
       "      <td>0.01</td>\n",
       "      <td>1000</td>\n",
       "      <td>lambda</td>\n",
       "      <td>0.2</td>\n",
       "      <td>0.5</td>\n",
       "      <td>...</td>\n",
       "      <td>valid</td>\n",
       "      <td>mf</td>\n",
       "      <td>accuracy-based-pointwise</td>\n",
       "      <td>0</td>\n",
       "      <td>0.012818</td>\n",
       "      <td>0.004240</td>\n",
       "      <td>0.007434</td>\n",
       "      <td>0.013041</td>\n",
       "      <td>0.002061</td>\n",
       "      <td>0.004316</td>\n",
       "    </tr>\n",
       "    <tr>\n",
       "      <th>7</th>\n",
       "      <td>0.6</td>\n",
       "      <td>1000</td>\n",
       "      <td>100</td>\n",
       "      <td>cpu</td>\n",
       "      <td>5000</td>\n",
       "      <td>0.01</td>\n",
       "      <td>1000</td>\n",
       "      <td>lambda</td>\n",
       "      <td>0.2</td>\n",
       "      <td>0.5</td>\n",
       "      <td>...</td>\n",
       "      <td>valid</td>\n",
       "      <td>mf</td>\n",
       "      <td>uplift-based-pointwise</td>\n",
       "      <td>0</td>\n",
       "      <td>0.012818</td>\n",
       "      <td>0.004240</td>\n",
       "      <td>0.007434</td>\n",
       "      <td>0.013041</td>\n",
       "      <td>0.002061</td>\n",
       "      <td>0.004316</td>\n",
       "    </tr>\n",
       "  </tbody>\n",
       "</table>\n",
       "<p>8 rows × 21 columns</p>\n",
       "</div>"
      ],
      "text/plain": [
       "   args.alpha  args.batch_size  args.d args.device  args.epochs  args.eta  \\\n",
       "0         0.6             1000     100         cpu         5000      0.01   \n",
       "1         0.6             1000     100         cpu         5000      0.01   \n",
       "2         0.6             1000     100         cpu         5000      0.01   \n",
       "3         0.6             1000     100         cpu         5000      0.01   \n",
       "4         0.6             1000     100         cpu         5000      0.01   \n",
       "5         0.6             1000     100         cpu         5000      0.01   \n",
       "6         0.6             1000     100         cpu         5000      0.01   \n",
       "7         0.6             1000     100         cpu         5000      0.01   \n",
       "\n",
       "   args.eval_step args.exp_name  args.gamma_p  args.gamma_r  ...  args.mode  \\\n",
       "0            1000        lambda           0.2           0.5  ...      valid   \n",
       "1            1000        lambda           0.2           0.5  ...      valid   \n",
       "2            1000        lambda           0.2           0.5  ...      valid   \n",
       "3            1000        lambda           0.2           0.5  ...      valid   \n",
       "4            1000        lambda           0.2           0.5  ...      valid   \n",
       "5            1000        lambda           0.2           0.5  ...      valid   \n",
       "6            1000        lambda           0.2           0.5  ...      valid   \n",
       "7            1000        lambda           0.2           0.5  ...      valid   \n",
       "\n",
       "  args.model             args.sampling args.seed  evaluations.Accuracy@10  \\\n",
       "0         mf  accuracy-based-pointwise         0                 0.124420   \n",
       "1         mf    uplift-based-pointwise         0                 0.107344   \n",
       "2         mf    uplift-based-pointwise         0                 0.127100   \n",
       "3         mf  accuracy-based-pointwise         0                 0.151697   \n",
       "4         mf    uplift-based-pointwise         0                 0.070517   \n",
       "5         mf  accuracy-based-pointwise         0                 0.199104   \n",
       "6         mf  accuracy-based-pointwise         0                 0.012818   \n",
       "7         mf    uplift-based-pointwise         0                 0.012818   \n",
       "\n",
       "   evaluations.Accuracy@100  evaluations.Accuracy@30  evaluations.Uplift@10  \\\n",
       "0                  0.040707                 0.072949               0.058910   \n",
       "1                  0.023556                 0.051837               0.094579   \n",
       "2                  0.026322                 0.060049               0.102867   \n",
       "3                  0.046496                 0.086883               0.063281   \n",
       "4                  0.016197                 0.029929               0.134682   \n",
       "5                  0.045587                 0.100587               0.036807   \n",
       "6                  0.004240                 0.007434               0.013041   \n",
       "7                  0.004240                 0.007434               0.013041   \n",
       "\n",
       "   evaluations.Uplift@100  evaluations.Uplift@30  \n",
       "0                0.015067               0.026304  \n",
       "1                0.025986               0.048088  \n",
       "2                0.029442               0.052076  \n",
       "3                0.014675               0.027622  \n",
       "4                0.026042               0.054008  \n",
       "5                0.014419               0.022630  \n",
       "6                0.002061               0.004316  \n",
       "7                0.002061               0.004316  \n",
       "\n",
       "[8 rows x 21 columns]"
      ]
     },
     "execution_count": 15,
     "metadata": {},
     "output_type": "execute_result"
    }
   ],
   "source": [
    "df = pd.concat(records).sort_values(by=\"args.lmda\").reset_index(drop=True)\n",
    "df"
   ]
  },
  {
   "cell_type": "code",
   "execution_count": 18,
   "metadata": {},
   "outputs": [
    {
     "data": {
      "text/plain": [
       "<Axes: xlabel='args.lmda'>"
      ]
     },
     "execution_count": 18,
     "metadata": {},
     "output_type": "execute_result"
    },
    {
     "data": {
      "image/png": "[encoded data removed]",
      "text/plain": [
       "<Figure size 640x480 with 1 Axes>"
      ]
     },
     "metadata": {},
     "output_type": "display_data"
    }
   ],
   "source": [
    "fig, ax = plt.subplots()\n",
    "ax.set_xscale(\"log\")\n",
    "df[df[\"args.sampling\"] == \"accuracy-based-pointwise\"].plot(\n",
    "    \"args.lmda\", [f\"evaluations.Uplift@{k}\" for k in TOP_K],\n",
    "    ax=ax\n",
    ")"
   ]
  },
  {
   "cell_type": "code",
   "execution_count": null,
   "metadata": {},
   "outputs": [],
   "source": []
  }
 ],
 "metadata": {
  "kernelspec": {
   "display_name": ".venv",
   "language": "python",
   "name": "python3"
  },
  "language_info": {
   "codemirror_mode": {
    "name": "ipython",
    "version": 3
   },
   "file_extension": ".py",
   "mimetype": "text/x-python",
   "name": "python",
   "nbconvert_exporter": "python",
   "pygments_lexer": "ipython3",
   "version": "3.9.16"
  }
 },
 "nbformat": 4,
 "nbformat_minor": 2
}

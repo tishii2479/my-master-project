{
 "cells": [
  {
   "cell_type": "markdown",
   "metadata": {},
   "source": [
    "# 前処理\n",
    "\n",
    "購買データ、推薦データを以下の形式に変換する\n",
    "\n",
    "table: transaction\n",
    "| user_id | t | store_id | item_id |\n",
    "|---------|---|----------|---------|\n",
    "| 2375    | 0 | 0        | 0       |\n",
    "| 2375    | 0 | 1        | 1       |\n",
    "| 2375    | 0 | 1        | 1       |\n",
    "| 2375    | 1 | 0        | 1       |\n",
    "| 2380    | 0 | 1        | 0       |\n",
    "\n",
    "table: recommendation\n",
    "| t | store_id | item_ids     |\n",
    "|---|----------|--------------|\n",
    "| 0 | 0        | [0, 1, 3, 5] |\n",
    "| 1 | 0        | [0, 3, 4, 5] |\n",
    "| 3 | 1        | [2, 4, 5,6]  |"
   ]
  },
  {
   "cell_type": "code",
   "execution_count": 1,
   "metadata": {},
   "outputs": [],
   "source": [
    "import pandas as pd"
   ]
  },
  {
   "cell_type": "code",
   "execution_count": 2,
   "metadata": {},
   "outputs": [],
   "source": [
    "def data_path(file: str) -> str:\n",
    "    return f\"../data/dunnhumby_The-Complete-Journey/dunnhumby_The-Complete-Journey CSV/{file}\"\n",
    "\n",
    "transaction_df = pd.read_csv(data_path(\"transaction_data.csv\"))\n",
    "causal_df = pd.read_csv(data_path(\"causal_data.csv\"))"
   ]
  },
  {
   "cell_type": "markdown",
   "metadata": {},
   "source": [
    "Filtering\n",
    "- shops that have at least one visitor for each week\n",
    "- items recommended for at least one week on average among the shops\n",
    "- items that existed for at least half the period (47 weeks)\n",
    "- users visiting more than one store in at least five weeks"
   ]
  },
  {
   "cell_type": "code",
   "execution_count": 3,
   "metadata": {},
   "outputs": [],
   "source": [
    "# 推薦があった週だけ残す\n",
    "valid_weeks = set(causal_df.WEEK_NO.unique())\n",
    "transaction_df = transaction_df[transaction_df.WEEK_NO.isin(valid_weeks)]\n",
    "causal_df = causal_df[causal_df.WEEK_NO.isin(valid_weeks)]"
   ]
  },
  {
   "cell_type": "code",
   "execution_count": 4,
   "metadata": {},
   "outputs": [],
   "source": [
    "causal_df = causal_df[causal_df.display != \"0\"]"
   ]
  },
  {
   "cell_type": "code",
   "execution_count": 5,
   "metadata": {},
   "outputs": [
    {
     "name": "stdout",
     "output_type": "stream",
     "text": [
      "1096 3664 100\n"
     ]
    }
   ],
   "source": [
    "# shops that have at least one visitor for each week\n",
    "a = transaction_df.groupby(\"STORE_ID\")[\"WEEK_NO\"].nunique()\n",
    "valid_stores = set(a[a == transaction_df[\"WEEK_NO\"].nunique()].index)\n",
    "transaction_df = transaction_df[transaction_df[\"STORE_ID\"].isin(valid_stores)]\n",
    "causal_df = causal_df[causal_df[\"STORE_ID\"].isin(valid_stores)]\n",
    "\n",
    "# items recommended for at least one week on average among the shops\n",
    "a = causal_df[\"PRODUCT_ID\"].value_counts()\n",
    "valid_items1 = set(a[a >= len(valid_stores)].index)\n",
    "\n",
    "# items that existed for at least half the period (47 weeks)\n",
    "a = transaction_df.groupby(\"PRODUCT_ID\")[\"WEEK_NO\"].nunique()\n",
    "valid_items2 = set(a[a > transaction_df[\"WEEK_NO\"].nunique() / 2].index)\n",
    "\n",
    "# users visiting more than one store in at least five weeks\n",
    "a = transaction_df.groupby([\"household_key\", \"WEEK_NO\"])[\"STORE_ID\"].nunique()\n",
    "a = a[a > 1].groupby(\"household_key\").count()\n",
    "valid_users = set(a[a >= 5].index)\n",
    "\n",
    "valid_items = valid_items1 & valid_items2\n",
    "print(len(valid_users), len(valid_items), len(valid_stores))\n",
    "\n",
    "transaction_df = transaction_df[\n",
    "    transaction_df.PRODUCT_ID.isin(valid_items)\n",
    "    & transaction_df.household_key.isin(valid_users)\n",
    "].reset_index(drop=True)\n",
    "causal_df = causal_df[causal_df.PRODUCT_ID.isin(valid_items)].reset_index(drop=True)"
   ]
  },
  {
   "cell_type": "code",
   "execution_count": 6,
   "metadata": {},
   "outputs": [
    {
     "data": {
      "text/html": [
       "<div>\n",
       "<style scoped>\n",
       "    .dataframe tbody tr th:only-of-type {\n",
       "        vertical-align: middle;\n",
       "    }\n",
       "\n",
       "    .dataframe tbody tr th {\n",
       "        vertical-align: top;\n",
       "    }\n",
       "\n",
       "    .dataframe thead th {\n",
       "        text-align: right;\n",
       "    }\n",
       "</style>\n",
       "<table border=\"1\" class=\"dataframe\">\n",
       "  <thead>\n",
       "    <tr style=\"text-align: right;\">\n",
       "      <th></th>\n",
       "      <th>household_key</th>\n",
       "      <th>BASKET_ID</th>\n",
       "      <th>DAY</th>\n",
       "      <th>PRODUCT_ID</th>\n",
       "      <th>QUANTITY</th>\n",
       "      <th>SALES_VALUE</th>\n",
       "      <th>STORE_ID</th>\n",
       "      <th>RETAIL_DISC</th>\n",
       "      <th>TRANS_TIME</th>\n",
       "      <th>WEEK_NO</th>\n",
       "      <th>COUPON_DISC</th>\n",
       "      <th>COUPON_MATCH_DISC</th>\n",
       "    </tr>\n",
       "  </thead>\n",
       "  <tbody>\n",
       "    <tr>\n",
       "      <th>0</th>\n",
       "      <td>1193</td>\n",
       "      <td>27636995049</td>\n",
       "      <td>55</td>\n",
       "      <td>942088</td>\n",
       "      <td>3</td>\n",
       "      <td>1.0</td>\n",
       "      <td>334</td>\n",
       "      <td>-0.64</td>\n",
       "      <td>518</td>\n",
       "      <td>9</td>\n",
       "      <td>0.0</td>\n",
       "      <td>0.0</td>\n",
       "    </tr>\n",
       "    <tr>\n",
       "      <th>1</th>\n",
       "      <td>1193</td>\n",
       "      <td>27636995049</td>\n",
       "      <td>55</td>\n",
       "      <td>985893</td>\n",
       "      <td>1</td>\n",
       "      <td>2.0</td>\n",
       "      <td>334</td>\n",
       "      <td>-0.99</td>\n",
       "      <td>518</td>\n",
       "      <td>9</td>\n",
       "      <td>0.0</td>\n",
       "      <td>0.0</td>\n",
       "    </tr>\n",
       "    <tr>\n",
       "      <th>2</th>\n",
       "      <td>1193</td>\n",
       "      <td>27636995049</td>\n",
       "      <td>55</td>\n",
       "      <td>1013928</td>\n",
       "      <td>2</td>\n",
       "      <td>20.0</td>\n",
       "      <td>334</td>\n",
       "      <td>0.00</td>\n",
       "      <td>518</td>\n",
       "      <td>9</td>\n",
       "      <td>0.0</td>\n",
       "      <td>0.0</td>\n",
       "    </tr>\n",
       "    <tr>\n",
       "      <th>3</th>\n",
       "      <td>1193</td>\n",
       "      <td>27636995049</td>\n",
       "      <td>55</td>\n",
       "      <td>1115874</td>\n",
       "      <td>3</td>\n",
       "      <td>1.0</td>\n",
       "      <td>334</td>\n",
       "      <td>-0.63</td>\n",
       "      <td>518</td>\n",
       "      <td>9</td>\n",
       "      <td>0.0</td>\n",
       "      <td>0.0</td>\n",
       "    </tr>\n",
       "    <tr>\n",
       "      <th>4</th>\n",
       "      <td>1193</td>\n",
       "      <td>27636995049</td>\n",
       "      <td>55</td>\n",
       "      <td>5569230</td>\n",
       "      <td>1</td>\n",
       "      <td>3.5</td>\n",
       "      <td>334</td>\n",
       "      <td>-1.09</td>\n",
       "      <td>518</td>\n",
       "      <td>9</td>\n",
       "      <td>0.0</td>\n",
       "      <td>0.0</td>\n",
       "    </tr>\n",
       "  </tbody>\n",
       "</table>\n",
       "</div>"
      ],
      "text/plain": [
       "   household_key    BASKET_ID  DAY  PRODUCT_ID  QUANTITY  SALES_VALUE  \\\n",
       "0           1193  27636995049   55      942088         3          1.0   \n",
       "1           1193  27636995049   55      985893         1          2.0   \n",
       "2           1193  27636995049   55     1013928         2         20.0   \n",
       "3           1193  27636995049   55     1115874         3          1.0   \n",
       "4           1193  27636995049   55     5569230         1          3.5   \n",
       "\n",
       "   STORE_ID  RETAIL_DISC  TRANS_TIME  WEEK_NO  COUPON_DISC  COUPON_MATCH_DISC  \n",
       "0       334        -0.64         518        9          0.0                0.0  \n",
       "1       334        -0.99         518        9          0.0                0.0  \n",
       "2       334         0.00         518        9          0.0                0.0  \n",
       "3       334        -0.63         518        9          0.0                0.0  \n",
       "4       334        -1.09         518        9          0.0                0.0  "
      ]
     },
     "execution_count": 6,
     "metadata": {},
     "output_type": "execute_result"
    }
   ],
   "source": [
    "transaction_df.head()"
   ]
  },
  {
   "cell_type": "code",
   "execution_count": 7,
   "metadata": {},
   "outputs": [
    {
     "data": {
      "text/html": [
       "<div>\n",
       "<style scoped>\n",
       "    .dataframe tbody tr th:only-of-type {\n",
       "        vertical-align: middle;\n",
       "    }\n",
       "\n",
       "    .dataframe tbody tr th {\n",
       "        vertical-align: top;\n",
       "    }\n",
       "\n",
       "    .dataframe thead th {\n",
       "        text-align: right;\n",
       "    }\n",
       "</style>\n",
       "<table border=\"1\" class=\"dataframe\">\n",
       "  <thead>\n",
       "    <tr style=\"text-align: right;\">\n",
       "      <th></th>\n",
       "      <th>PRODUCT_ID</th>\n",
       "      <th>STORE_ID</th>\n",
       "      <th>WEEK_NO</th>\n",
       "      <th>display</th>\n",
       "      <th>mailer</th>\n",
       "    </tr>\n",
       "  </thead>\n",
       "  <tbody>\n",
       "    <tr>\n",
       "      <th>0</th>\n",
       "      <td>818981</td>\n",
       "      <td>288</td>\n",
       "      <td>25</td>\n",
       "      <td>5</td>\n",
       "      <td>D</td>\n",
       "    </tr>\n",
       "    <tr>\n",
       "      <th>1</th>\n",
       "      <td>818981</td>\n",
       "      <td>288</td>\n",
       "      <td>26</td>\n",
       "      <td>5</td>\n",
       "      <td>0</td>\n",
       "    </tr>\n",
       "    <tr>\n",
       "      <th>2</th>\n",
       "      <td>818981</td>\n",
       "      <td>288</td>\n",
       "      <td>27</td>\n",
       "      <td>5</td>\n",
       "      <td>0</td>\n",
       "    </tr>\n",
       "    <tr>\n",
       "      <th>3</th>\n",
       "      <td>818981</td>\n",
       "      <td>288</td>\n",
       "      <td>43</td>\n",
       "      <td>5</td>\n",
       "      <td>D</td>\n",
       "    </tr>\n",
       "    <tr>\n",
       "      <th>4</th>\n",
       "      <td>818981</td>\n",
       "      <td>288</td>\n",
       "      <td>47</td>\n",
       "      <td>5</td>\n",
       "      <td>A</td>\n",
       "    </tr>\n",
       "  </tbody>\n",
       "</table>\n",
       "</div>"
      ],
      "text/plain": [
       "   PRODUCT_ID  STORE_ID  WEEK_NO display mailer\n",
       "0      818981       288       25       5      D\n",
       "1      818981       288       26       5      0\n",
       "2      818981       288       27       5      0\n",
       "3      818981       288       43       5      D\n",
       "4      818981       288       47       5      A"
      ]
     },
     "execution_count": 7,
     "metadata": {},
     "output_type": "execute_result"
    }
   ],
   "source": [
    "causal_df.head()"
   ]
  },
  {
   "cell_type": "code",
   "execution_count": 8,
   "metadata": {},
   "outputs": [],
   "source": [
    "transaction_df = transaction_df[[\"household_key\", \"WEEK_NO\", \"STORE_ID\", \"PRODUCT_ID\"]]\n",
    "causal_df = causal_df.groupby([\"WEEK_NO\", \"STORE_ID\"])[\"PRODUCT_ID\"].unique().rename(\"PRODUCT_IDS\").to_frame().reset_index()"
   ]
  },
  {
   "cell_type": "code",
   "execution_count": 9,
   "metadata": {},
   "outputs": [],
   "source": [
    "causal_df[\"PRODUCT_IDS\"] = causal_df[\"PRODUCT_IDS\"].apply(lambda s: \" \".join(map(str, s)))"
   ]
  },
  {
   "cell_type": "code",
   "execution_count": 10,
   "metadata": {},
   "outputs": [],
   "source": [
    "transaction_df = transaction_df.rename(\n",
    "    columns={\n",
    "        \"household_key\": \"user_id\",\n",
    "        \"WEEK_NO\": \"t\",\n",
    "        \"STORE_ID\": \"store_id\",\n",
    "        \"PRODUCT_ID\": \"item_id\",\n",
    "    }\n",
    ")\n",
    "causal_df = causal_df.rename(\n",
    "    columns={\"WEEK_NO\": \"t\", \"STORE_ID\": \"store_id\", \"PRODUCT_IDS\": \"item_ids\"}\n",
    ")"
   ]
  },
  {
   "cell_type": "code",
   "execution_count": 11,
   "metadata": {},
   "outputs": [],
   "source": [
    "transaction_df.to_csv(\"../data/preprocessed/transaction.csv\", index=False)\n",
    "causal_df.to_csv(\"../data/preprocessed/recommendation.csv\", index=False)"
   ]
  }
 ],
 "metadata": {
  "kernelspec": {
   "display_name": ".venv",
   "language": "python",
   "name": "python3"
  },
  "language_info": {
   "codemirror_mode": {
    "name": "ipython",
    "version": 3
   },
   "file_extension": ".py",
   "mimetype": "text/x-python",
   "name": "python",
   "nbconvert_exporter": "python",
   "pygments_lexer": "ipython3",
   "version": "3.9.16"
  }
 },
 "nbformat": 4,
 "nbformat_minor": 2
}

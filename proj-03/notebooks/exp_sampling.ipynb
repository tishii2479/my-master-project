{
 "cells": [
  {
   "cell_type": "code",
   "execution_count": 8,
   "metadata": {},
   "outputs": [],
   "source": [
    "import os\n",
    "import json\n",
    "\n",
    "import pandas as pd\n",
    "import matplotlib.pyplot as plt\n",
    "\n",
    "from lib.util import *\n",
    "\n",
    "plt.style.use(\"ggplot\")"
   ]
  },
  {
   "cell_type": "code",
   "execution_count": 9,
   "metadata": {},
   "outputs": [
    {
     "name": "stdout",
     "output_type": "stream",
     "text": [
      "params: {'user_n': 1096, 'item_n': 3664}\n"
     ]
    }
   ],
   "source": [
    "df = pd.read_json(\"../data/preprocessed/preprocessed.json\", orient=\"index\")\n",
    "with open(\"../data/preprocessed/param.json\", \"r\") as f:\n",
    "    params = json.load(f)\n",
    "    print(\"params:\", params)\n",
    "\n",
    "user_n, item_n = params[\"user_n\"], params[\"item_n\"]"
   ]
  },
  {
   "cell_type": "code",
   "execution_count": 11,
   "metadata": {},
   "outputs": [
    {
     "name": "stdout",
     "output_type": "stream",
     "text": [
      "Args(exp_name='sampling', mode='valid', model='mf', sampling='accuracy-based-pointwise', seed=0, alpha=0.6, gamma_p=0.2, gamma_r=0.5, eta=0.01, lmda=1e-08, d=100, batch_size=1000, eval_step=1000, epochs=5000, device='cpu')\n",
      "[1000/5000] 1.05112\r"
     ]
    },
    {
     "name": "stderr",
     "output_type": "stream",
     "text": [
      "100%|██████████| 1096/1096 [00:00<00:00, 1147.00it/s]\n"
     ]
    },
    {
     "name": "stdout",
     "output_type": "stream",
     "text": [
      "{'Accuracy@10': 0.049533678756476685, 'Uplift@10': 0.03465046467637141, 'Accuracy@30': 0.02875, 'Uplift@30': 0.016817996278090955, 'Accuracy@100': 0.016198618875369945, 'Uplift@100': 0.010104249854095809}\n",
      "[2000/5000] 0.60528\r"
     ]
    },
    {
     "name": "stderr",
     "output_type": "stream",
     "text": [
      "100%|██████████| 1096/1096 [00:00<00:00, 1295.80it/s]\n"
     ]
    },
    {
     "name": "stdout",
     "output_type": "stream",
     "text": [
      "{'Accuracy@10': 0.07341389728096677, 'Uplift@10': 0.044278601000655324, 'Accuracy@30': 0.04118226600985222, 'Uplift@30': 0.020330550732563953, 'Accuracy@100': 0.02358515141647672, 'Uplift@100': 0.011596427979388051}\n",
      "[3000/5000] 0.38197\r"
     ]
    },
    {
     "name": "stderr",
     "output_type": "stream",
     "text": [
      "100%|██████████| 1096/1096 [00:00<00:00, 1284.10it/s]\n"
     ]
    },
    {
     "name": "stdout",
     "output_type": "stream",
     "text": [
      "{'Accuracy@10': 0.09807692307692308, 'Uplift@10': 0.026869256474519647, 'Accuracy@30': 0.05751440329218107, 'Uplift@30': 0.02102907103232581, 'Accuracy@100': 0.03250815394651011, 'Uplift@100': 0.013223100854302557}\n",
      "[4000/5000] 0.34157\r"
     ]
    },
    {
     "name": "stderr",
     "output_type": "stream",
     "text": [
      "100%|██████████| 1096/1096 [00:00<00:00, 1348.28it/s]\n"
     ]
    },
    {
     "name": "stdout",
     "output_type": "stream",
     "text": [
      "{'Accuracy@10': 0.11814516129032257, 'Uplift@10': 0.05467509920634924, 'Accuracy@30': 0.06778435239973701, 'Uplift@30': 0.02615848377226902, 'Accuracy@100': 0.03814923427826653, 'Uplift@100': 0.014612522585775058}\n",
      "[5000/5000] 0.32203\r"
     ]
    },
    {
     "name": "stderr",
     "output_type": "stream",
     "text": [
      "100%|██████████| 1096/1096 [00:00<00:00, 1293.48it/s]\n"
     ]
    },
    {
     "name": "stdout",
     "output_type": "stream",
     "text": [
      "{'Accuracy@10': 0.12441977800201816, 'Uplift@10': 0.05890955103871345, 'Accuracy@30': 0.07294852820259826, 'Uplift@30': 0.026303991165494426, 'Accuracy@100': 0.04070730117340287, 'Uplift@100': 0.01506724779020716}\n",
      "{'Accuracy@10': 0.12441977800201816, 'Uplift@10': 0.05890955103871345, 'Accuracy@30': 0.07294852820259826, 'Uplift@30': 0.026303991165494426, 'Accuracy@100': 0.04070730117340287, 'Uplift@100': 0.01506724779020716}\n",
      "Args(exp_name='sampling', mode='valid', model='mf', sampling='accuracy-based-pointwise', seed=1, alpha=0.6, gamma_p=0.2, gamma_r=0.5, eta=0.01, lmda=1e-08, d=100, batch_size=1000, eval_step=1000, epochs=5000, device='cpu')\n",
      "[1000/5000] 1.0661\r"
     ]
    },
    {
     "name": "stderr",
     "output_type": "stream",
     "text": [
      "100%|██████████| 1096/1096 [00:00<00:00, 1312.50it/s]\n"
     ]
    },
    {
     "name": "stdout",
     "output_type": "stream",
     "text": [
      "{'Accuracy@10': 0.05370177267987487, 'Uplift@10': 0.043807620371749664, 'Accuracy@30': 0.03036701860231272, 'Uplift@30': 0.017611730541699913, 'Accuracy@100': 0.01666006600660066, 'Uplift@100': 0.010222564382843217}\n",
      "[2000/5000] 0.54453\r"
     ]
    },
    {
     "name": "stderr",
     "output_type": "stream",
     "text": [
      "100%|██████████| 1096/1096 [00:00<00:00, 1309.79it/s]\n"
     ]
    },
    {
     "name": "stdout",
     "output_type": "stream",
     "text": [
      "{'Accuracy@10': 0.0786734693877551, 'Uplift@10': 0.034093780369290554, 'Accuracy@30': 0.04375, 'Uplift@30': 0.021607272168560936, 'Accuracy@100': 0.02437029767746156, 'Uplift@100': 0.011575448554029543}\n",
      "[3000/5000] 0.41957\r"
     ]
    },
    {
     "name": "stderr",
     "output_type": "stream",
     "text": [
      "100%|██████████| 1096/1096 [00:00<00:00, 1168.79it/s]\n"
     ]
    },
    {
     "name": "stdout",
     "output_type": "stream",
     "text": [
      "{'Accuracy@10': 0.09365404298874105, 'Uplift@10': 0.03835356046205583, 'Accuracy@30': 0.054844576719576724, 'Uplift@30': 0.021361259939126895, 'Accuracy@100': 0.031193981027150805, 'Uplift@100': 0.013777161544421096}\n",
      "[4000/5000] 0.33946\r"
     ]
    },
    {
     "name": "stderr",
     "output_type": "stream",
     "text": [
      "100%|██████████| 1096/1096 [00:00<00:00, 1308.81it/s]\n"
     ]
    },
    {
     "name": "stdout",
     "output_type": "stream",
     "text": [
      "{'Accuracy@10': 0.11646341463414633, 'Uplift@10': 0.04334793199122456, 'Accuracy@30': 0.06848095002474024, 'Uplift@30': 0.022618400817123668, 'Accuracy@100': 0.03791639451338994, 'Uplift@100': 0.013089129078228954}\n",
      "[5000/5000] 0.30357\r"
     ]
    },
    {
     "name": "stderr",
     "output_type": "stream",
     "text": [
      "100%|██████████| 1096/1096 [00:00<00:00, 1289.50it/s]\n"
     ]
    },
    {
     "name": "stdout",
     "output_type": "stream",
     "text": [
      "{'Accuracy@10': 0.1341438703140831, 'Uplift@10': 0.06349729016902271, 'Accuracy@30': 0.07717480677520144, 'Uplift@30': 0.028423368060309335, 'Accuracy@100': 0.04208604954367666, 'Uplift@100': 0.013923961928360687}\n",
      "{'Accuracy@10': 0.1341438703140831, 'Uplift@10': 0.06349729016902271, 'Accuracy@30': 0.07717480677520144, 'Uplift@30': 0.028423368060309335, 'Accuracy@100': 0.04208604954367666, 'Uplift@100': 0.013923961928360687}\n",
      "Args(exp_name='sampling', mode='valid', model='mf', sampling='accuracy-based-pointwise', seed=2, alpha=0.6, gamma_p=0.2, gamma_r=0.5, eta=0.01, lmda=1e-08, d=100, batch_size=1000, eval_step=1000, epochs=5000, device='cpu')\n",
      "[1000/5000] 1.12515\r"
     ]
    },
    {
     "name": "stderr",
     "output_type": "stream",
     "text": [
      "100%|██████████| 1096/1096 [00:00<00:00, 1214.21it/s]\n"
     ]
    },
    {
     "name": "stdout",
     "output_type": "stream",
     "text": [
      "{'Accuracy@10': 0.04349635796045785, 'Uplift@10': 0.03231463587863172, 'Accuracy@30': 0.026750208855472014, 'Uplift@30': 0.01921304623654276, 'Accuracy@100': 0.015780632411067193, 'Uplift@100': 0.010563618950376078}\n",
      "[2000/5000] 0.57567\r"
     ]
    },
    {
     "name": "stderr",
     "output_type": "stream",
     "text": [
      "100%|██████████| 1096/1096 [00:00<00:00, 1215.45it/s]\n"
     ]
    },
    {
     "name": "stdout",
     "output_type": "stream",
     "text": [
      "{'Accuracy@10': 0.06764408493427705, 'Uplift@10': 0.038905740927985606, 'Accuracy@30': 0.040623973727422005, 'Uplift@30': 0.01945714254173005, 'Accuracy@100': 0.02398241615109085, 'Uplift@100': 0.01230419303421362}\n",
      "[3000/5000] 0.43515\r"
     ]
    },
    {
     "name": "stderr",
     "output_type": "stream",
     "text": [
      "100%|██████████| 1096/1096 [00:00<00:00, 1140.45it/s]\n"
     ]
    },
    {
     "name": "stdout",
     "output_type": "stream",
     "text": [
      "{'Accuracy@10': 0.09433771486349848, 'Uplift@10': 0.03985747989792477, 'Accuracy@30': 0.05611522633744856, 'Uplift@30': 0.02192804907782645, 'Accuracy@100': 0.03211350293542074, 'Uplift@100': 0.012768751196274472}\n",
      "[4000/5000] 0.35538\r"
     ]
    },
    {
     "name": "stderr",
     "output_type": "stream",
     "text": [
      "100%|██████████| 1096/1096 [00:00<00:00, 1210.95it/s]\n"
     ]
    },
    {
     "name": "stdout",
     "output_type": "stream",
     "text": [
      "{'Accuracy@10': 0.11500994035785288, 'Uplift@10': 0.05754047145697241, 'Accuracy@30': 0.06894865525672372, 'Uplift@30': 0.025226943632347298, 'Accuracy@100': 0.038674659753726505, 'Uplift@100': 0.0145803184109134}\n",
      "[5000/5000] 0.35239\r"
     ]
    },
    {
     "name": "stderr",
     "output_type": "stream",
     "text": [
      "100%|██████████| 1096/1096 [00:00<00:00, 1228.04it/s]\n"
     ]
    },
    {
     "name": "stdout",
     "output_type": "stream",
     "text": [
      "{'Accuracy@10': 0.12520242914979757, 'Uplift@10': 0.05967964783754251, 'Accuracy@30': 0.07180246913580247, 'Uplift@30': 0.022728864144806467, 'Accuracy@100': 0.040260926288323555, 'Uplift@100': 0.01449423402260853}\n",
      "{'Accuracy@10': 0.12520242914979757, 'Uplift@10': 0.05967964783754251, 'Accuracy@30': 0.07180246913580247, 'Uplift@30': 0.022728864144806467, 'Accuracy@100': 0.040260926288323555, 'Uplift@100': 0.01449423402260853}\n",
      "Args(exp_name='sampling', mode='valid', model='mf', sampling='accuracy-based-pointwise', seed=3, alpha=0.6, gamma_p=0.2, gamma_r=0.5, eta=0.01, lmda=1e-08, d=100, batch_size=1000, eval_step=1000, epochs=5000, device='cpu')\n",
      "[1000/5000] 1.1627\r"
     ]
    },
    {
     "name": "stderr",
     "output_type": "stream",
     "text": [
      "100%|██████████| 1096/1096 [00:00<00:00, 1191.63it/s]\n"
     ]
    },
    {
     "name": "stdout",
     "output_type": "stream",
     "text": [
      "{'Accuracy@10': 0.0490702479338843, 'Uplift@10': 0.03552284205693293, 'Accuracy@30': 0.028230782057695514, 'Uplift@30': 0.016943568015465676, 'Accuracy@100': 0.015883514313919052, 'Uplift@100': 0.010243871810717784}\n",
      "[2000/5000] 0.48194\r"
     ]
    },
    {
     "name": "stderr",
     "output_type": "stream",
     "text": [
      "100%|██████████| 1096/1096 [00:00<00:00, 1125.25it/s]\n"
     ]
    },
    {
     "name": "stdout",
     "output_type": "stream",
     "text": [
      "{'Accuracy@10': 0.08504577822990844, 'Uplift@10': 0.044421837911156246, 'Accuracy@30': 0.0473389355742297, 'Uplift@30': 0.021863040068202007, 'Accuracy@100': 0.025365535248041776, 'Uplift@100': 0.012592199644232267}\n",
      "[3000/5000] 0.40388\r"
     ]
    },
    {
     "name": "stderr",
     "output_type": "stream",
     "text": [
      "100%|██████████| 1096/1096 [00:01<00:00, 1067.81it/s]\n"
     ]
    },
    {
     "name": "stdout",
     "output_type": "stream",
     "text": [
      "{'Accuracy@10': 0.10696266397578205, 'Uplift@10': 0.04481764451491996, 'Accuracy@30': 0.06129191321499014, 'Uplift@30': 0.02362295838113021, 'Accuracy@100': 0.033082437275985664, 'Uplift@100': 0.013497263343396152}\n",
      "[4000/5000] 0.37111\r"
     ]
    },
    {
     "name": "stderr",
     "output_type": "stream",
     "text": [
      "100%|██████████| 1096/1096 [00:01<00:00, 1076.10it/s]\n"
     ]
    },
    {
     "name": "stdout",
     "output_type": "stream",
     "text": [
      "{'Accuracy@10': 0.11907630522088353, 'Uplift@10': 0.059882386689615597, 'Accuracy@30': 0.06837018837018836, 'Uplift@30': 0.026984473376798983, 'Accuracy@100': 0.037633289986996096, 'Uplift@100': 0.01385426487009524}\n",
      "[5000/5000] 0.30139\r"
     ]
    },
    {
     "name": "stderr",
     "output_type": "stream",
     "text": [
      "100%|██████████| 1096/1096 [00:00<00:00, 1119.20it/s]\n"
     ]
    },
    {
     "name": "stdout",
     "output_type": "stream",
     "text": [
      "{'Accuracy@10': 0.1303680981595092, 'Uplift@10': 0.0495106631609699, 'Accuracy@30': 0.07490079365079365, 'Uplift@30': 0.026298934056257873, 'Accuracy@100': 0.04115799803729146, 'Uplift@100': 0.01420771662725803}\n",
      "{'Accuracy@10': 0.1303680981595092, 'Uplift@10': 0.0495106631609699, 'Accuracy@30': 0.07490079365079365, 'Uplift@30': 0.026298934056257873, 'Accuracy@100': 0.04115799803729146, 'Uplift@100': 0.01420771662725803}\n",
      "Args(exp_name='sampling', mode='valid', model='mf', sampling='accuracy-based-pointwise', seed=4, alpha=0.6, gamma_p=0.2, gamma_r=0.5, eta=0.01, lmda=1e-08, d=100, batch_size=1000, eval_step=1000, epochs=5000, device='cpu')\n",
      "[1000/5000] 1.0318\r"
     ]
    },
    {
     "name": "stderr",
     "output_type": "stream",
     "text": [
      "100%|██████████| 1096/1096 [00:01<00:00, 711.52it/s]\n"
     ]
    },
    {
     "name": "stdout",
     "output_type": "stream",
     "text": [
      "{'Accuracy@10': 0.041675178753830436, 'Uplift@10': 0.03635066556414866, 'Accuracy@30': 0.024913151364764265, 'Uplift@30': 0.016903810389395344, 'Accuracy@100': 0.015045811518324608, 'Uplift@100': 0.01004773393026551}\n",
      "[2000/5000] 0.56351\r"
     ]
    },
    {
     "name": "stderr",
     "output_type": "stream",
     "text": [
      "100%|██████████| 1096/1096 [00:00<00:00, 1132.36it/s]\n"
     ]
    },
    {
     "name": "stdout",
     "output_type": "stream",
     "text": [
      "{'Accuracy@10': 0.0664989939637827, 'Uplift@10': 0.04555627415285363, 'Accuracy@30': 0.039274577383883146, 'Uplift@30': 0.020651018993151467, 'Accuracy@100': 0.023050130208333335, 'Uplift@100': 0.012491784418249977}\n",
      "[3000/5000] 0.37874\r"
     ]
    },
    {
     "name": "stderr",
     "output_type": "stream",
     "text": [
      "100%|██████████| 1096/1096 [00:00<00:00, 1228.97it/s]\n"
     ]
    },
    {
     "name": "stdout",
     "output_type": "stream",
     "text": [
      "{'Accuracy@10': 0.096318407960199, 'Uplift@10': 0.052402274342572816, 'Accuracy@30': 0.055849241311796374, 'Uplift@30': 0.023303562223385206, 'Accuracy@100': 0.03248378728923476, 'Uplift@100': 0.013349591126363525}\n",
      "[4000/5000] 0.39181\r"
     ]
    },
    {
     "name": "stderr",
     "output_type": "stream",
     "text": [
      "100%|██████████| 1096/1096 [00:00<00:00, 1198.89it/s]\n"
     ]
    },
    {
     "name": "stdout",
     "output_type": "stream",
     "text": [
      "{'Accuracy@10': 0.1113936927772126, 'Uplift@10': 0.06132668055353705, 'Accuracy@30': 0.06628694072973419, 'Uplift@30': 0.027063849574955952, 'Accuracy@100': 0.0375, 'Uplift@100': 0.014440131129508578}\n",
      "[5000/5000] 0.36765\r"
     ]
    },
    {
     "name": "stderr",
     "output_type": "stream",
     "text": [
      "100%|██████████| 1096/1096 [00:00<00:00, 1156.72it/s]\n"
     ]
    },
    {
     "name": "stdout",
     "output_type": "stream",
     "text": [
      "{'Accuracy@10': 0.13370445344129556, 'Uplift@10': 0.056333140543666844, 'Accuracy@30': 0.07583992094861661, 'Uplift@30': 0.028647333153900462, 'Accuracy@100': 0.04118760195758564, 'Uplift@100': 0.014933661662382637}\n",
      "{'Accuracy@10': 0.13370445344129556, 'Uplift@10': 0.056333140543666844, 'Accuracy@30': 0.07583992094861661, 'Uplift@30': 0.028647333153900462, 'Accuracy@100': 0.04118760195758564, 'Uplift@100': 0.014933661662382637}\n",
      "Args(exp_name='sampling', mode='valid', model='mf', sampling='uplift-based-pointwise', seed=0, alpha=0.6, gamma_p=0.2, gamma_r=0.5, eta=0.01, lmda=1e-08, d=100, batch_size=1000, eval_step=1000, epochs=5000, device='cpu')\n",
      "[1000/5000] 1.8033\r"
     ]
    },
    {
     "name": "stderr",
     "output_type": "stream",
     "text": [
      "100%|██████████| 1096/1096 [00:01<00:00, 1023.41it/s]\n"
     ]
    },
    {
     "name": "stdout",
     "output_type": "stream",
     "text": [
      "{'Accuracy@10': 0.017573696145124718, 'Uplift@10': 0.02185329158118274, 'Accuracy@30': 0.010342417889587702, 'Uplift@30': 0.009329523461187424, 'Accuracy@100': 0.00669606512890095, 'Uplift@100': 0.005742563617488554}\n",
      "[2000/5000] 0.79946\r"
     ]
    },
    {
     "name": "stderr",
     "output_type": "stream",
     "text": [
      "100%|██████████| 1096/1096 [00:00<00:00, 1109.86it/s]\n"
     ]
    },
    {
     "name": "stdout",
     "output_type": "stream",
     "text": [
      "{'Accuracy@10': 0.04450800915331808, 'Uplift@10': 0.08089835094983831, 'Accuracy@30': 0.024139756484912653, 'Uplift@30': 0.031699100671614806, 'Accuracy@100': 0.013318538750426767, 'Uplift@100': 0.01695021479510301}\n",
      "[3000/5000] 0.63014\r"
     ]
    },
    {
     "name": "stderr",
     "output_type": "stream",
     "text": [
      "100%|██████████| 1096/1096 [00:01<00:00, 1075.43it/s]\n"
     ]
    },
    {
     "name": "stdout",
     "output_type": "stream",
     "text": [
      "{'Accuracy@10': 0.06494192185850053, 'Uplift@10': 0.10179723772648784, 'Accuracy@30': 0.032912245241704566, 'Uplift@30': 0.04458180940585397, 'Accuracy@100': 0.016821192052980133, 'Uplift@100': 0.02321171177296936}\n",
      "[4000/5000] 0.62313\r"
     ]
    },
    {
     "name": "stderr",
     "output_type": "stream",
     "text": [
      "100%|██████████| 1096/1096 [00:01<00:00, 941.93it/s]\n"
     ]
    },
    {
     "name": "stdout",
     "output_type": "stream",
     "text": [
      "{'Accuracy@10': 0.08336798336798337, 'Uplift@10': 0.09542042042042027, 'Accuracy@30': 0.042056701895655094, 'Uplift@30': 0.04636489560970857, 'Accuracy@100': 0.02014200792602378, 'Uplift@100': 0.023758533966223475}\n",
      "[5000/5000] 0.62913\r"
     ]
    },
    {
     "name": "stderr",
     "output_type": "stream",
     "text": [
      "100%|██████████| 1096/1096 [00:00<00:00, 1115.27it/s]\n"
     ]
    },
    {
     "name": "stdout",
     "output_type": "stream",
     "text": [
      "{'Accuracy@10': 0.10734406438631791, 'Uplift@10': 0.09457858260675153, 'Accuracy@30': 0.05183720547042346, 'Uplift@30': 0.04808805010299157, 'Accuracy@100': 0.023556499020248204, 'Uplift@100': 0.025985973562311766}\n",
      "{'Accuracy@10': 0.10734406438631791, 'Uplift@10': 0.09457858260675153, 'Accuracy@30': 0.05183720547042346, 'Uplift@30': 0.04808805010299157, 'Accuracy@100': 0.023556499020248204, 'Uplift@100': 0.025985973562311766}\n",
      "Args(exp_name='sampling', mode='valid', model='mf', sampling='uplift-based-pointwise', seed=1, alpha=0.6, gamma_p=0.2, gamma_r=0.5, eta=0.01, lmda=1e-08, d=100, batch_size=1000, eval_step=1000, epochs=5000, device='cpu')\n",
      "[1000/5000] 1.9329\r"
     ]
    },
    {
     "name": "stderr",
     "output_type": "stream",
     "text": [
      "100%|██████████| 1096/1096 [00:00<00:00, 1201.80it/s]\n"
     ]
    },
    {
     "name": "stdout",
     "output_type": "stream",
     "text": [
      "{'Accuracy@10': 0.01647196261682243, 'Uplift@10': 0.016988855511051785, 'Accuracy@30': 0.010701566951566953, 'Uplift@30': 0.009481788727434949, 'Accuracy@100': 0.006828012358393409, 'Uplift@100': 0.005256642013340703}\n",
      "[2000/5000] 0.80717\r"
     ]
    },
    {
     "name": "stderr",
     "output_type": "stream",
     "text": [
      "100%|██████████| 1096/1096 [00:00<00:00, 1150.29it/s]\n"
     ]
    },
    {
     "name": "stdout",
     "output_type": "stream",
     "text": [
      "{'Accuracy@10': 0.04294117647058823, 'Uplift@10': 0.07635060690943038, 'Accuracy@30': 0.022984807864164434, 'Uplift@30': 0.03157077683761037, 'Accuracy@100': 0.012802065404475043, 'Uplift@100': 0.016356585795405894}\n",
      "[3000/5000] 0.68494\r"
     ]
    },
    {
     "name": "stderr",
     "output_type": "stream",
     "text": [
      "100%|██████████| 1096/1096 [00:00<00:00, 1177.84it/s]\n"
     ]
    },
    {
     "name": "stdout",
     "output_type": "stream",
     "text": [
      "{'Accuracy@10': 0.07231270358306188, 'Uplift@10': 0.09945538838046969, 'Accuracy@30': 0.03578154425612053, 'Uplift@30': 0.04140461767910769, 'Accuracy@100': 0.017736859725477068, 'Uplift@100': 0.022062763580482873}\n",
      "[4000/5000] 0.63816\r"
     ]
    },
    {
     "name": "stderr",
     "output_type": "stream",
     "text": [
      "100%|██████████| 1096/1096 [00:00<00:00, 1186.14it/s]\n"
     ]
    },
    {
     "name": "stdout",
     "output_type": "stream",
     "text": [
      "{'Accuracy@10': 0.08270833333333333, 'Uplift@10': 0.10762400793650782, 'Accuracy@30': 0.040934203917629336, 'Uplift@30': 0.046776726539167715, 'Accuracy@100': 0.019914219729462224, 'Uplift@100': 0.023529665125190714}\n",
      "[5000/5000] 0.64648\r"
     ]
    },
    {
     "name": "stderr",
     "output_type": "stream",
     "text": [
      "100%|██████████| 1096/1096 [00:00<00:00, 1174.56it/s]\n"
     ]
    },
    {
     "name": "stdout",
     "output_type": "stream",
     "text": [
      "{'Accuracy@10': 0.10333333333333335, 'Uplift@10': 0.09150152316818977, 'Accuracy@30': 0.05169631093544137, 'Uplift@30': 0.04789447281395535, 'Accuracy@100': 0.024045676998368678, 'Uplift@100': 0.02675940176675198}\n",
      "{'Accuracy@10': 0.10333333333333335, 'Uplift@10': 0.09150152316818977, 'Accuracy@30': 0.05169631093544137, 'Uplift@30': 0.04789447281395535, 'Accuracy@100': 0.024045676998368678, 'Uplift@100': 0.02675940176675198}\n",
      "Args(exp_name='sampling', mode='valid', model='mf', sampling='uplift-based-pointwise', seed=2, alpha=0.6, gamma_p=0.2, gamma_r=0.5, eta=0.01, lmda=1e-08, d=100, batch_size=1000, eval_step=1000, epochs=5000, device='cpu')\n",
      "[1000/5000] 1.7387\r"
     ]
    },
    {
     "name": "stderr",
     "output_type": "stream",
     "text": [
      "100%|██████████| 1096/1096 [00:00<00:00, 1148.45it/s]\n"
     ]
    },
    {
     "name": "stdout",
     "output_type": "stream",
     "text": [
      "{'Accuracy@10': 0.013073394495412843, 'Uplift@10': 0.006626347021989222, 'Accuracy@30': 0.009082938804138173, 'Uplift@30': 0.008606768458523036, 'Accuracy@100': 0.006349422161794698, 'Uplift@100': 0.005038752715758757}\n",
      "[2000/5000] 0.81894\r"
     ]
    },
    {
     "name": "stderr",
     "output_type": "stream",
     "text": [
      "100%|██████████| 1096/1096 [00:00<00:00, 1158.96it/s]\n"
     ]
    },
    {
     "name": "stdout",
     "output_type": "stream",
     "text": [
      "{'Accuracy@10': 0.03592120509849363, 'Uplift@10': 0.059002372675605534, 'Accuracy@30': 0.02098174729753677, 'Uplift@30': 0.030092586017222787, 'Accuracy@100': 0.01203697363916467, 'Uplift@100': 0.015409139735655745}\n",
      "[3000/5000] 0.62404\r"
     ]
    },
    {
     "name": "stderr",
     "output_type": "stream",
     "text": [
      "100%|██████████| 1096/1096 [00:00<00:00, 1205.75it/s]\n"
     ]
    },
    {
     "name": "stdout",
     "output_type": "stream",
     "text": [
      "{'Accuracy@10': 0.060537634408602145, 'Uplift@10': 0.09990612732548203, 'Accuracy@30': 0.03175331294597349, 'Uplift@30': 0.043669173286708426, 'Accuracy@100': 0.016803196803196804, 'Uplift@100': 0.02261412456192372}\n",
      "[4000/5000] 0.61339\r"
     ]
    },
    {
     "name": "stderr",
     "output_type": "stream",
     "text": [
      "100%|██████████| 1096/1096 [00:00<00:00, 1192.13it/s]\n"
     ]
    },
    {
     "name": "stdout",
     "output_type": "stream",
     "text": [
      "{'Accuracy@10': 0.08426501035196687, 'Uplift@10': 0.11829874461862039, 'Accuracy@30': 0.042293547308592444, 'Uplift@30': 0.05052873182601929, 'Accuracy@100': 0.020606260296540363, 'Uplift@100': 0.025816944074605896}\n",
      "[5000/5000] 0.60191\r"
     ]
    },
    {
     "name": "stderr",
     "output_type": "stream",
     "text": [
      "100%|██████████| 1096/1096 [00:00<00:00, 1164.52it/s]\n"
     ]
    },
    {
     "name": "stdout",
     "output_type": "stream",
     "text": [
      "{'Accuracy@10': 0.10222222222222221, 'Uplift@10': 0.09894300144300136, 'Accuracy@30': 0.050559947299077736, 'Uplift@30': 0.04717681549964259, 'Accuracy@100': 0.023572593800978793, 'Uplift@100': 0.02652143085791916}\n",
      "{'Accuracy@10': 0.10222222222222221, 'Uplift@10': 0.09894300144300136, 'Accuracy@30': 0.050559947299077736, 'Uplift@30': 0.04717681549964259, 'Accuracy@100': 0.023572593800978793, 'Uplift@100': 0.02652143085791916}\n",
      "Args(exp_name='sampling', mode='valid', model='mf', sampling='uplift-based-pointwise', seed=3, alpha=0.6, gamma_p=0.2, gamma_r=0.5, eta=0.01, lmda=1e-08, d=100, batch_size=1000, eval_step=1000, epochs=5000, device='cpu')\n",
      "[1000/5000] 1.8198\r"
     ]
    },
    {
     "name": "stderr",
     "output_type": "stream",
     "text": [
      "100%|██████████| 1096/1096 [00:01<00:00, 1051.98it/s]\n"
     ]
    },
    {
     "name": "stdout",
     "output_type": "stream",
     "text": [
      "{'Accuracy@10': 0.014965197215777262, 'Uplift@10': 0.02174483482488123, 'Accuracy@30': 0.009521285991874228, 'Uplift@30': 0.010241987695501283, 'Accuracy@100': 0.006526639344262295, 'Uplift@100': 0.005433956004127282}\n",
      "[2000/5000] 0.86344\r"
     ]
    },
    {
     "name": "stderr",
     "output_type": "stream",
     "text": [
      "100%|██████████| 1096/1096 [00:00<00:00, 1210.14it/s]\n"
     ]
    },
    {
     "name": "stdout",
     "output_type": "stream",
     "text": [
      "{'Accuracy@10': 0.04292035398230089, 'Uplift@10': 0.06656307065599096, 'Accuracy@30': 0.023283169001902786, 'Uplift@30': 0.029176443442622657, 'Accuracy@100': 0.012826819407008085, 'Uplift@100': 0.016338637586804608}\n",
      "[3000/5000] 0.64514\r"
     ]
    },
    {
     "name": "stderr",
     "output_type": "stream",
     "text": [
      "100%|██████████| 1096/1096 [00:00<00:00, 1204.99it/s]\n"
     ]
    },
    {
     "name": "stdout",
     "output_type": "stream",
     "text": [
      "{'Accuracy@10': 0.06691568836712913, 'Uplift@10': 0.10381621520895791, 'Accuracy@30': 0.033994910941475824, 'Uplift@30': 0.04378088726705021, 'Accuracy@100': 0.016851913477537436, 'Uplift@100': 0.021752464035351124}\n",
      "[4000/5000] 0.64437\r"
     ]
    },
    {
     "name": "stderr",
     "output_type": "stream",
     "text": [
      "100%|██████████| 1096/1096 [00:00<00:00, 1211.80it/s]\n"
     ]
    },
    {
     "name": "stdout",
     "output_type": "stream",
     "text": [
      "{'Accuracy@10': 0.08908163265306122, 'Uplift@10': 0.11304219306770313, 'Accuracy@30': 0.043330023171135386, 'Uplift@30': 0.0512518600926367, 'Accuracy@100': 0.020206219312602292, 'Uplift@100': 0.026276138740304485}\n",
      "[5000/5000] 0.62867\r"
     ]
    },
    {
     "name": "stderr",
     "output_type": "stream",
     "text": [
      "100%|██████████| 1096/1096 [00:01<00:00, 1065.84it/s]\n"
     ]
    },
    {
     "name": "stdout",
     "output_type": "stream",
     "text": [
      "{'Accuracy@10': 0.10020491803278689, 'Uplift@10': 0.09287299960967989, 'Accuracy@30': 0.049136786188579015, 'Uplift@30': 0.04886910842039078, 'Accuracy@100': 0.02288291243030502, 'Uplift@100': 0.0257820325578196}\n",
      "{'Accuracy@10': 0.10020491803278689, 'Uplift@10': 0.09287299960967989, 'Accuracy@30': 0.049136786188579015, 'Uplift@30': 0.04886910842039078, 'Accuracy@100': 0.02288291243030502, 'Uplift@100': 0.0257820325578196}\n",
      "Args(exp_name='sampling', mode='valid', model='mf', sampling='uplift-based-pointwise', seed=4, alpha=0.6, gamma_p=0.2, gamma_r=0.5, eta=0.01, lmda=1e-08, d=100, batch_size=1000, eval_step=1000, epochs=5000, device='cpu')\n",
      "[1000/5000] 1.7414\r"
     ]
    },
    {
     "name": "stderr",
     "output_type": "stream",
     "text": [
      "100%|██████████| 1096/1096 [00:00<00:00, 1156.20it/s]\n"
     ]
    },
    {
     "name": "stdout",
     "output_type": "stream",
     "text": [
      "{'Accuracy@10': 0.013463751438434982, 'Uplift@10': 0.01565793559464447, 'Accuracy@30': 0.008993312214009152, 'Uplift@30': 0.008177061606273904, 'Accuracy@100': 0.006158827539195637, 'Uplift@100': 0.005212166829337}\n",
      "[2000/5000] 0.80572\r"
     ]
    },
    {
     "name": "stderr",
     "output_type": "stream",
     "text": [
      "100%|██████████| 1096/1096 [00:00<00:00, 1153.83it/s]\n"
     ]
    },
    {
     "name": "stdout",
     "output_type": "stream",
     "text": [
      "{'Accuracy@10': 0.04144960362400906, 'Uplift@10': 0.07168608100091674, 'Accuracy@30': 0.02209954433929197, 'Uplift@30': 0.03078586526057578, 'Accuracy@100': 0.012688647178789939, 'Uplift@100': 0.016848948861765255}\n",
      "[3000/5000] 0.65206\r"
     ]
    },
    {
     "name": "stderr",
     "output_type": "stream",
     "text": [
      "100%|██████████| 1096/1096 [00:00<00:00, 1203.44it/s]\n"
     ]
    },
    {
     "name": "stdout",
     "output_type": "stream",
     "text": [
      "{'Accuracy@10': 0.06552462526766595, 'Uplift@10': 0.0885846844090954, 'Accuracy@30': 0.032909245122985584, 'Uplift@30': 0.03936387291482909, 'Accuracy@100': 0.016862940785096474, 'Uplift@100': 0.020900788780880544}\n",
      "[4000/5000] 0.64777\r"
     ]
    },
    {
     "name": "stderr",
     "output_type": "stream",
     "text": [
      "100%|██████████| 1096/1096 [00:01<00:00, 1067.38it/s]\n"
     ]
    },
    {
     "name": "stdout",
     "output_type": "stream",
     "text": [
      "{'Accuracy@10': 0.08446700507614213, 'Uplift@10': 0.1049842881314961, 'Accuracy@30': 0.04103711066931743, 'Uplift@30': 0.04288488225600377, 'Accuracy@100': 0.019767441860465116, 'Uplift@100': 0.02363233059831587}\n",
      "[5000/5000] 0.64769\r"
     ]
    },
    {
     "name": "stderr",
     "output_type": "stream",
     "text": [
      "100%|██████████| 1096/1096 [00:00<00:00, 1177.05it/s]\n"
     ]
    },
    {
     "name": "stdout",
     "output_type": "stream",
     "text": [
      "{'Accuracy@10': 0.1063700707785642, 'Uplift@10': 0.10054046896817374, 'Accuracy@30': 0.05152413906739166, 'Uplift@30': 0.04999759668752036, 'Accuracy@100': 0.023682664054848188, 'Uplift@100': 0.026502195448686983}\n",
      "{'Accuracy@10': 0.1063700707785642, 'Uplift@10': 0.10054046896817374, 'Accuracy@30': 0.05152413906739166, 'Uplift@30': 0.04999759668752036, 'Accuracy@100': 0.023682664054848188, 'Uplift@100': 0.026502195448686983}\n"
     ]
    }
   ],
   "source": [
    "for sampling in [\"accuracy-based-pointwise\", \"uplift-based-pointwise\"]:\n",
    "    for seed in range(5):\n",
    "        args = Args(exp_name=\"sampling\", sampling=sampling, seed=seed)\n",
    "        print(args)\n",
    "        model, losses, results = train(\n",
    "            df=df, user_n=user_n, item_n=item_n, args=args\n",
    "        )\n",
    "        print(results[-1])\n",
    "        add_record(args, results[-1])"
   ]
  },
  {
   "cell_type": "code",
   "execution_count": 12,
   "metadata": {},
   "outputs": [],
   "source": [
    "records = []\n",
    "for p in os.listdir(\"./log/sampling/\"):\n",
    "    with open(f\"./log/sampling/{p}\", \"r\") as f:\n",
    "        d = json.load(f)\n",
    "        records.append(pd.json_normalize(d))"
   ]
  },
  {
   "cell_type": "code",
   "execution_count": 37,
   "metadata": {},
   "outputs": [],
   "source": [
    "df = pd.concat(records).reset_index(drop=True)\n",
    "evaluation_col = list(filter(lambda s: s.startswith(\"evaluations.\"), df.columns))\n",
    "df = df[[\"args.sampling\"] + evaluation_col]"
   ]
  },
  {
   "cell_type": "code",
   "execution_count": 56,
   "metadata": {},
   "outputs": [
    {
     "data": {
      "text/html": [
       "<div>\n",
       "<style scoped>\n",
       "    .dataframe tbody tr th:only-of-type {\n",
       "        vertical-align: middle;\n",
       "    }\n",
       "\n",
       "    .dataframe tbody tr th {\n",
       "        vertical-align: top;\n",
       "    }\n",
       "\n",
       "    .dataframe thead tr th {\n",
       "        text-align: left;\n",
       "    }\n",
       "\n",
       "    .dataframe thead tr:last-of-type th {\n",
       "        text-align: right;\n",
       "    }\n",
       "</style>\n",
       "<table border=\"1\" class=\"dataframe\">\n",
       "  <thead>\n",
       "    <tr>\n",
       "      <th></th>\n",
       "      <th colspan=\"2\" halign=\"left\">evaluations.Accuracy@10</th>\n",
       "      <th colspan=\"2\" halign=\"left\">evaluations.Accuracy@100</th>\n",
       "      <th colspan=\"2\" halign=\"left\">evaluations.Accuracy@30</th>\n",
       "      <th colspan=\"2\" halign=\"left\">evaluations.Uplift@10</th>\n",
       "      <th colspan=\"2\" halign=\"left\">evaluations.Uplift@100</th>\n",
       "      <th colspan=\"2\" halign=\"left\">evaluations.Uplift@30</th>\n",
       "    </tr>\n",
       "    <tr>\n",
       "      <th></th>\n",
       "      <th>mean</th>\n",
       "      <th>std</th>\n",
       "      <th>mean</th>\n",
       "      <th>std</th>\n",
       "      <th>mean</th>\n",
       "      <th>std</th>\n",
       "      <th>mean</th>\n",
       "      <th>std</th>\n",
       "      <th>mean</th>\n",
       "      <th>std</th>\n",
       "      <th>mean</th>\n",
       "      <th>std</th>\n",
       "    </tr>\n",
       "    <tr>\n",
       "      <th>args.sampling</th>\n",
       "      <th></th>\n",
       "      <th></th>\n",
       "      <th></th>\n",
       "      <th></th>\n",
       "      <th></th>\n",
       "      <th></th>\n",
       "      <th></th>\n",
       "      <th></th>\n",
       "      <th></th>\n",
       "      <th></th>\n",
       "      <th></th>\n",
       "      <th></th>\n",
       "    </tr>\n",
       "  </thead>\n",
       "  <tbody>\n",
       "    <tr>\n",
       "      <th>accuracy-based-pointwise</th>\n",
       "      <td>0.129568</td>\n",
       "      <td>0.004589</td>\n",
       "      <td>0.041080</td>\n",
       "      <td>0.000678</td>\n",
       "      <td>0.074533</td>\n",
       "      <td>0.002167</td>\n",
       "      <td>0.057586</td>\n",
       "      <td>0.005193</td>\n",
       "      <td>0.014525</td>\n",
       "      <td>0.000481</td>\n",
       "      <td>0.026480</td>\n",
       "      <td>0.002377</td>\n",
       "    </tr>\n",
       "    <tr>\n",
       "      <th>uplift-based-pointwise</th>\n",
       "      <td>0.103895</td>\n",
       "      <td>0.002948</td>\n",
       "      <td>0.023548</td>\n",
       "      <td>0.000421</td>\n",
       "      <td>0.050951</td>\n",
       "      <td>0.001131</td>\n",
       "      <td>0.095687</td>\n",
       "      <td>0.003899</td>\n",
       "      <td>0.026310</td>\n",
       "      <td>0.000408</td>\n",
       "      <td>0.048405</td>\n",
       "      <td>0.001075</td>\n",
       "    </tr>\n",
       "  </tbody>\n",
       "</table>\n",
       "</div>"
      ],
      "text/plain": [
       "                         evaluations.Accuracy@10            \\\n",
       "                                            mean       std   \n",
       "args.sampling                                                \n",
       "accuracy-based-pointwise                0.129568  0.004589   \n",
       "uplift-based-pointwise                  0.103895  0.002948   \n",
       "\n",
       "                         evaluations.Accuracy@100            \\\n",
       "                                             mean       std   \n",
       "args.sampling                                                 \n",
       "accuracy-based-pointwise                 0.041080  0.000678   \n",
       "uplift-based-pointwise                   0.023548  0.000421   \n",
       "\n",
       "                         evaluations.Accuracy@30            \\\n",
       "                                            mean       std   \n",
       "args.sampling                                                \n",
       "accuracy-based-pointwise                0.074533  0.002167   \n",
       "uplift-based-pointwise                  0.050951  0.001131   \n",
       "\n",
       "                         evaluations.Uplift@10            \\\n",
       "                                          mean       std   \n",
       "args.sampling                                              \n",
       "accuracy-based-pointwise              0.057586  0.005193   \n",
       "uplift-based-pointwise                0.095687  0.003899   \n",
       "\n",
       "                         evaluations.Uplift@100            \\\n",
       "                                           mean       std   \n",
       "args.sampling                                               \n",
       "accuracy-based-pointwise               0.014525  0.000481   \n",
       "uplift-based-pointwise                 0.026310  0.000408   \n",
       "\n",
       "                         evaluations.Uplift@30            \n",
       "                                          mean       std  \n",
       "args.sampling                                             \n",
       "accuracy-based-pointwise              0.026480  0.002377  \n",
       "uplift-based-pointwise                0.048405  0.001075  "
      ]
     },
     "execution_count": 56,
     "metadata": {},
     "output_type": "execute_result"
    }
   ],
   "source": [
    "df.groupby(\"args.sampling\").agg([\"mean\", \"std\"])"
   ]
  }
 ],
 "metadata": {
  "kernelspec": {
   "display_name": ".venv",
   "language": "python",
   "name": "python3"
  },
  "language_info": {
   "codemirror_mode": {
    "name": "ipython",
    "version": 3
   },
   "file_extension": ".py",
   "mimetype": "text/x-python",
   "name": "python",
   "nbconvert_exporter": "python",
   "pygments_lexer": "ipython3",
   "version": "3.9.16"
  }
 },
 "nbformat": 4,
 "nbformat_minor": 2
}

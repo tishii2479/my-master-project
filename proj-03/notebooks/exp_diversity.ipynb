{
 "cells": [
  {
   "cell_type": "code",
   "execution_count": 5,
   "metadata": {},
   "outputs": [],
   "source": [
    "import numpy as np\n",
    "import pandas as pd\n",
    "import matplotlib.pyplot as plt\n",
    "import torch\n",
    "\n",
    "from lib.util import *\n",
    "\n",
    "plt.style.use(\"ggplot\")"
   ]
  },
  {
   "cell_type": "code",
   "execution_count": 6,
   "metadata": {},
   "outputs": [
    {
     "name": "stdout",
     "output_type": "stream",
     "text": [
      "params: {'user_n': 1096, 'item_n': 3664}\n"
     ]
    }
   ],
   "source": [
    "df = pd.read_json(\"../data/preprocessed/preprocessed.json\", orient=\"index\")\n",
    "with open(\"../data/preprocessed/param.json\", \"r\") as f:\n",
    "    params = json.load(f)\n",
    "    print(\"params:\", params)\n",
    "\n",
    "user_n, item_n = params[\"user_n\"], params[\"item_n\"]"
   ]
  },
  {
   "cell_type": "code",
   "execution_count": 7,
   "metadata": {},
   "outputs": [
    {
     "name": "stdout",
     "output_type": "stream",
     "text": [
      "[1000/5000] 0.59987\r"
     ]
    },
    {
     "name": "stderr",
     "output_type": "stream",
     "text": [
      "100%|██████████| 1096/1096 [00:02<00:00, 439.35it/s]\n"
     ]
    },
    {
     "name": "stdout",
     "output_type": "stream",
     "text": [
      "{'Accuracy@10': 0.18894422310756973, 'Uplift@10': 0.007829791943337761, 'Accuracy@30': 0.09099804305283758, 'Uplift@30': 0.03838163330018725, 'Accuracy@100': 0.03566936790923825, 'Uplift@100': 0.02874850365478556}\n",
      "[2000/5000] 0.60577\r"
     ]
    },
    {
     "name": "stderr",
     "output_type": "stream",
     "text": [
      "100%|██████████| 1096/1096 [00:02<00:00, 449.94it/s]\n"
     ]
    },
    {
     "name": "stdout",
     "output_type": "stream",
     "text": [
      "{'Accuracy@10': 0.18113391984359725, 'Uplift@10': -0.0029073375847569424, 'Accuracy@30': 0.091064792373566, 'Uplift@30': 0.03400320646381725, 'Accuracy@100': 0.03545747422680413, 'Uplift@100': 0.029468843837748296}\n",
      "[3000/5000] 0.56858\r"
     ]
    },
    {
     "name": "stderr",
     "output_type": "stream",
     "text": [
      "100%|██████████| 1096/1096 [00:02<00:00, 434.90it/s]\n"
     ]
    },
    {
     "name": "stdout",
     "output_type": "stream",
     "text": [
      "{'Accuracy@10': 0.18207452165156093, 'Uplift@10': -0.00035286689365239055, 'Accuracy@30': 0.09772205834152738, 'Uplift@30': 0.02298502469060966, 'Accuracy@100': 0.03710569105691057, 'Uplift@100': 0.029217361317205835}\n",
      "[4000/5000] 0.59554\r"
     ]
    },
    {
     "name": "stderr",
     "output_type": "stream",
     "text": [
      "100%|██████████| 1096/1096 [00:02<00:00, 413.57it/s]\n"
     ]
    },
    {
     "name": "stdout",
     "output_type": "stream",
     "text": [
      "{'Accuracy@10': 0.16553398058252428, 'Uplift@10': 0.046807674526121106, 'Accuracy@30': 0.08821825205214871, 'Uplift@30': 0.03275049091893744, 'Accuracy@100': 0.03547879177377892, 'Uplift@100': 0.028412897262416883}\n",
      "[5000/5000] 0.58355\r"
     ]
    },
    {
     "name": "stderr",
     "output_type": "stream",
     "text": [
      "100%|██████████| 1096/1096 [00:02<00:00, 443.03it/s]\n"
     ]
    },
    {
     "name": "stdout",
     "output_type": "stream",
     "text": [
      "{'Accuracy@10': 0.16739562624254473, 'Uplift@10': 0.03420705923191008, 'Accuracy@30': 0.09075794621026895, 'Uplift@30': 0.027157469514937794, 'Accuracy@100': 0.03635126377187298, 'Uplift@100': 0.030212244944588452}\n",
      "[1000/5000] 0.46307\r"
     ]
    },
    {
     "name": "stderr",
     "output_type": "stream",
     "text": [
      "100%|██████████| 1096/1096 [00:03<00:00, 339.21it/s]\n"
     ]
    },
    {
     "name": "stdout",
     "output_type": "stream",
     "text": [
      "{'Accuracy@10': 0.17652859960552267, 'Uplift@10': 0.05848752387213934, 'Accuracy@30': 0.10092457420924573, 'Uplift@30': 0.018640391367777537, 'Accuracy@100': 0.0471156330749354, 'Uplift@100': 0.011168072908313044}\n",
      "[2000/5000] 0.46825\r"
     ]
    },
    {
     "name": "stderr",
     "output_type": "stream",
     "text": [
      "100%|██████████| 1096/1096 [00:03<00:00, 327.07it/s]\n"
     ]
    },
    {
     "name": "stdout",
     "output_type": "stream",
     "text": [
      "{'Accuracy@10': 0.19651741293532338, 'Uplift@10': 0.033367290531469675, 'Accuracy@30': 0.10586797066014669, 'Uplift@30': 0.022949596752211657, 'Accuracy@100': 0.049465327284510696, 'Uplift@100': 0.012024395272011646}\n",
      "[3000/5000] 0.39907\r"
     ]
    },
    {
     "name": "stderr",
     "output_type": "stream",
     "text": [
      "100%|██████████| 1096/1096 [00:03<00:00, 323.19it/s]\n"
     ]
    },
    {
     "name": "stdout",
     "output_type": "stream",
     "text": [
      "{'Accuracy@10': 0.1988071570576541, 'Uplift@10': 0.04056297137808082, 'Accuracy@30': 0.10669272105520274, 'Uplift@30': 0.021145941248755313, 'Accuracy@100': 0.05044041450777202, 'Uplift@100': 0.01230240024115413}\n",
      "[4000/5000] 0.39917\r"
     ]
    },
    {
     "name": "stderr",
     "output_type": "stream",
     "text": [
      "100%|██████████| 1096/1096 [00:03<00:00, 346.97it/s]\n"
     ]
    },
    {
     "name": "stdout",
     "output_type": "stream",
     "text": [
      "{'Accuracy@10': 0.19605522682445758, 'Uplift@10': 0.04135045865815095, 'Accuracy@30': 0.10652703360935217, 'Uplift@30': 0.021387032333168906, 'Accuracy@100': 0.050100193923723335, 'Uplift@100': 0.011653621931411649}\n",
      "[5000/5000] 0.41664\r"
     ]
    },
    {
     "name": "stderr",
     "output_type": "stream",
     "text": [
      "100%|██████████| 1096/1096 [00:03<00:00, 336.75it/s]\n"
     ]
    },
    {
     "name": "stdout",
     "output_type": "stream",
     "text": [
      "{'Accuracy@10': 0.19980217606330367, 'Uplift@10': 0.03926765892641264, 'Accuracy@30': 0.10915447154471544, 'Uplift@30': 0.022686438640589085, 'Accuracy@100': 0.051397605952766094, 'Uplift@100': 0.012928338754615566}\n"
     ]
    }
   ],
   "source": [
    "uplift_based_nn_model, losses, results = train_nn(\n",
    "    df=df,\n",
    "    user_n=user_n,\n",
    "    item_n=item_n,\n",
    "    args=Args(batch_size=1000, epochs=5000, model=\"nn\", lmda=1e-8),\n",
    ")\n",
    "\n",
    "accuracy_based_nn_model, losses, results = train_nn(\n",
    "    df=df,\n",
    "    user_n=user_n,\n",
    "    item_n=item_n,\n",
    "    args=Args(\n",
    "        batch_size=1000,\n",
    "        epochs=5000,\n",
    "        sampling=\"accuracy-based-pointwise\",\n",
    "        model=\"nn\",\n",
    "        lmda=1e-8,\n",
    "    ),\n",
    ")\n",
    "\n",
    "uplift_based_mf_model, losses, results = train_nn(\n",
    "    df=df,\n",
    "    user_n=user_n,\n",
    "    item_n=item_n,\n",
    "    args=Args(batch_size=1000, epochs=5000, model=\"mf\", lmda=1e-8),\n",
    ")\n",
    "\n",
    "accuracy_based_mf_model, losses, results = train_nn(\n",
    "    df=df,\n",
    "    user_n=user_n,\n",
    "    item_n=item_n,\n",
    "    args=Args(\n",
    "        batch_size=1000,\n",
    "        epochs=5000,\n",
    "        sampling=\"accuracy-based-pointwise\",\n",
    "        model=\"mf\",\n",
    "        lmda=1e-8,\n",
    "    ),\n",
    ")"
   ]
  },
  {
   "cell_type": "code",
   "execution_count": 9,
   "metadata": {},
   "outputs": [
    {
     "name": "stderr",
     "output_type": "stream",
     "text": [
      "100%|██████████| 1096/1096 [00:02<00:00, 416.32it/s]\n"
     ]
    },
    {
     "data": {
      "image/png": "[encoded data removed]",
      "text/plain": [
       "<Figure size 640x480 with 1 Axes>"
      ]
     },
     "metadata": {},
     "output_type": "display_data"
    },
    {
     "name": "stdout",
     "output_type": "stream",
     "text": [
      "17.20279088099216\n"
     ]
    },
    {
     "name": "stderr",
     "output_type": "stream",
     "text": [
      "100%|██████████| 1096/1096 [00:02<00:00, 402.13it/s]\n"
     ]
    },
    {
     "data": {
      "image/png": "[encoded data removed]",
      "text/plain": [
       "<Figure size 640x480 with 1 Axes>"
      ]
     },
     "metadata": {},
     "output_type": "display_data"
    },
    {
     "name": "stdout",
     "output_type": "stream",
     "text": [
      "15.891539175551017\n"
     ]
    }
   ],
   "source": [
    "k = 30\n",
    "\n",
    "for model in [uplift_based_mf_model, accuracy_based_mf_model]:\n",
    "    model.eval()\n",
    "    s = []\n",
    "    for u in tqdm.tqdm(range(user_n)):\n",
    "        y = model.forward(\n",
    "            u=torch.LongTensor([u] * item_n),\n",
    "            i=torch.arange(item_n),\n",
    "        )\n",
    "        rec_list = y.argsort().cpu().detach().numpy()[::-1][:k].tolist()\n",
    "        embeddings = accuracy_based_nn_model.item_embedding.forward(\n",
    "            torch.LongTensor(rec_list)\n",
    "        ).cpu().detach().numpy()\n",
    "\n",
    "        d = 0\n",
    "        for i in range(k):\n",
    "            for j in range(k):\n",
    "                d += np.linalg.norm(embeddings[i] - embeddings[j])\n",
    "        d /= k * k\n",
    "        s.append(d)\n",
    "\n",
    "    plt.hist(s)\n",
    "    plt.show()\n",
    "    print(sum(s) / len(s))"
   ]
  }
 ],
 "metadata": {
  "kernelspec": {
   "display_name": ".venv",
   "language": "python",
   "name": "python3"
  },
  "language_info": {
   "codemirror_mode": {
    "name": "ipython",
    "version": 3
   },
   "file_extension": ".py",
   "mimetype": "text/x-python",
   "name": "python",
   "nbconvert_exporter": "python",
   "pygments_lexer": "ipython3",
   "version": "3.9.16"
  }
 },
 "nbformat": 4,
 "nbformat_minor": 2
}
